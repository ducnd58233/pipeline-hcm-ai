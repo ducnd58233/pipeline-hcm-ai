{
 "cells": [
  {
   "cell_type": "markdown",
   "metadata": {},
   "source": [
    "# Setup"
   ]
  },
  {
   "cell_type": "code",
   "execution_count": null,
   "metadata": {},
   "outputs": [],
   "source": [
    "import os\n",
    "\n",
    "dir_path = os.getcwd()\n",
    "\n",
    "# Set CUDA_LAUNCH_BLOCKING=1 to catch CUDA errors immediately\n",
    "os.environ['CUDA_LAUNCH_BLOCKING'] = '1'"
   ]
  },
  {
   "cell_type": "code",
   "execution_count": null,
   "metadata": {},
   "outputs": [
    {
     "name": "stdout",
     "output_type": "stream",
     "text": [
      "Requirement already satisfied: papermill in /home/jiggle/personal/competition/hcm-ai/Pipeline_HCM_AI/venv/lib/python3.9/site-packages (2.6.0)\n",
      "Requirement already satisfied: click in /home/jiggle/personal/competition/hcm-ai/Pipeline_HCM_AI/venv/lib/python3.9/site-packages (from papermill) (8.1.7)\n",
      "Requirement already satisfied: pyyaml in /home/jiggle/personal/competition/hcm-ai/Pipeline_HCM_AI/venv/lib/python3.9/site-packages (from papermill) (6.0.1)\n",
      "Requirement already satisfied: nbformat>=5.2.0 in /home/jiggle/personal/competition/hcm-ai/Pipeline_HCM_AI/venv/lib/python3.9/site-packages (from papermill) (5.10.4)\n",
      "Requirement already satisfied: nbclient>=0.2.0 in /home/jiggle/personal/competition/hcm-ai/Pipeline_HCM_AI/venv/lib/python3.9/site-packages (from papermill) (0.10.0)\n",
      "Requirement already satisfied: tqdm>=4.32.2 in /home/jiggle/personal/competition/hcm-ai/Pipeline_HCM_AI/venv/lib/python3.9/site-packages (from papermill) (4.64.1)\n",
      "Requirement already satisfied: requests in /home/jiggle/personal/competition/hcm-ai/Pipeline_HCM_AI/venv/lib/python3.9/site-packages (from papermill) (2.32.3)\n",
      "Requirement already satisfied: entrypoints in /home/jiggle/personal/competition/hcm-ai/Pipeline_HCM_AI/venv/lib/python3.9/site-packages (from papermill) (0.4)\n",
      "Requirement already satisfied: tenacity>=5.0.2 in /home/jiggle/personal/competition/hcm-ai/Pipeline_HCM_AI/venv/lib/python3.9/site-packages (from papermill) (8.5.0)\n",
      "Requirement already satisfied: ansicolors in /home/jiggle/personal/competition/hcm-ai/Pipeline_HCM_AI/venv/lib/python3.9/site-packages (from papermill) (1.1.8)\n",
      "Requirement already satisfied: jupyter-client>=6.1.12 in /home/jiggle/personal/competition/hcm-ai/Pipeline_HCM_AI/venv/lib/python3.9/site-packages (from nbclient>=0.2.0->papermill) (8.6.2)\n",
      "Requirement already satisfied: jupyter-core!=5.0.*,>=4.12 in /home/jiggle/personal/competition/hcm-ai/Pipeline_HCM_AI/venv/lib/python3.9/site-packages (from nbclient>=0.2.0->papermill) (5.7.2)\n",
      "Requirement already satisfied: traitlets>=5.4 in /home/jiggle/personal/competition/hcm-ai/Pipeline_HCM_AI/venv/lib/python3.9/site-packages (from nbclient>=0.2.0->papermill) (5.14.3)\n",
      "Requirement already satisfied: fastjsonschema>=2.15 in /home/jiggle/personal/competition/hcm-ai/Pipeline_HCM_AI/venv/lib/python3.9/site-packages (from nbformat>=5.2.0->papermill) (2.20.0)\n",
      "Requirement already satisfied: jsonschema>=2.6 in /home/jiggle/personal/competition/hcm-ai/Pipeline_HCM_AI/venv/lib/python3.9/site-packages (from nbformat>=5.2.0->papermill) (4.23.0)\n",
      "Requirement already satisfied: charset-normalizer<4,>=2 in /home/jiggle/personal/competition/hcm-ai/Pipeline_HCM_AI/venv/lib/python3.9/site-packages (from requests->papermill) (3.3.2)\n",
      "Requirement already satisfied: idna<4,>=2.5 in /home/jiggle/personal/competition/hcm-ai/Pipeline_HCM_AI/venv/lib/python3.9/site-packages (from requests->papermill) (2.10)\n",
      "Requirement already satisfied: urllib3<3,>=1.21.1 in /home/jiggle/personal/competition/hcm-ai/Pipeline_HCM_AI/venv/lib/python3.9/site-packages (from requests->papermill) (2.2.2)\n",
      "Requirement already satisfied: certifi>=2017.4.17 in /home/jiggle/personal/competition/hcm-ai/Pipeline_HCM_AI/venv/lib/python3.9/site-packages (from requests->papermill) (2024.7.4)\n",
      "Requirement already satisfied: attrs>=22.2.0 in /home/jiggle/personal/competition/hcm-ai/Pipeline_HCM_AI/venv/lib/python3.9/site-packages (from jsonschema>=2.6->nbformat>=5.2.0->papermill) (23.2.0)\n",
      "Requirement already satisfied: jsonschema-specifications>=2023.03.6 in /home/jiggle/personal/competition/hcm-ai/Pipeline_HCM_AI/venv/lib/python3.9/site-packages (from jsonschema>=2.6->nbformat>=5.2.0->papermill) (2023.12.1)\n",
      "Requirement already satisfied: referencing>=0.28.4 in /home/jiggle/personal/competition/hcm-ai/Pipeline_HCM_AI/venv/lib/python3.9/site-packages (from jsonschema>=2.6->nbformat>=5.2.0->papermill) (0.35.1)\n",
      "Requirement already satisfied: rpds-py>=0.7.1 in /home/jiggle/personal/competition/hcm-ai/Pipeline_HCM_AI/venv/lib/python3.9/site-packages (from jsonschema>=2.6->nbformat>=5.2.0->papermill) (0.19.1)\n",
      "Requirement already satisfied: importlib-metadata>=4.8.3 in /home/jiggle/personal/competition/hcm-ai/Pipeline_HCM_AI/venv/lib/python3.9/site-packages (from jupyter-client>=6.1.12->nbclient>=0.2.0->papermill) (8.0.0)\n",
      "Requirement already satisfied: python-dateutil>=2.8.2 in /home/jiggle/personal/competition/hcm-ai/Pipeline_HCM_AI/venv/lib/python3.9/site-packages (from jupyter-client>=6.1.12->nbclient>=0.2.0->papermill) (2.9.0.post0)\n",
      "Requirement already satisfied: pyzmq>=23.0 in /home/jiggle/personal/competition/hcm-ai/Pipeline_HCM_AI/venv/lib/python3.9/site-packages (from jupyter-client>=6.1.12->nbclient>=0.2.0->papermill) (26.0.3)\n",
      "Requirement already satisfied: tornado>=6.2 in /home/jiggle/personal/competition/hcm-ai/Pipeline_HCM_AI/venv/lib/python3.9/site-packages (from jupyter-client>=6.1.12->nbclient>=0.2.0->papermill) (6.4.1)\n",
      "Requirement already satisfied: platformdirs>=2.5 in /home/jiggle/personal/competition/hcm-ai/Pipeline_HCM_AI/venv/lib/python3.9/site-packages (from jupyter-core!=5.0.*,>=4.12->nbclient>=0.2.0->papermill) (4.2.2)\n",
      "Requirement already satisfied: zipp>=0.5 in /home/jiggle/personal/competition/hcm-ai/Pipeline_HCM_AI/venv/lib/python3.9/site-packages (from importlib-metadata>=4.8.3->jupyter-client>=6.1.12->nbclient>=0.2.0->papermill) (3.19.2)\n",
      "Requirement already satisfied: six>=1.5 in /home/jiggle/personal/competition/hcm-ai/Pipeline_HCM_AI/venv/lib/python3.9/site-packages (from python-dateutil>=2.8.2->jupyter-client>=6.1.12->nbclient>=0.2.0->papermill) (1.16.0)\n"
     ]
    }
   ],
   "source": [
    "! pip install papermill"
   ]
  },
  {
   "cell_type": "code",
   "execution_count": null,
   "metadata": {},
   "outputs": [],
   "source": [
    "import papermill as pm\n",
    "import json\n",
    "from concurrent.futures import ThreadPoolExecutor, as_completed\n",
    "from typing import Dict, List, Union, Tuple\n",
    "\n",
    "\n",
    "NotebookStep = Dict[str, Union[str, Dict]]  # Notebook type\n",
    "StepInfo = Dict[str, Union[bool, List[NotebookStep]]]\n",
    "StepsDict = Dict[str, StepInfo] "
   ]
  },
  {
   "cell_type": "code",
   "execution_count": null,
   "metadata": {},
   "outputs": [],
   "source": [
    "def set_kernel(notebook_path: str, kernel_name: str) -> None:\n",
    "    \"\"\"\n",
    "    Set the kernel for a notebook.\n",
    "    \n",
    "    Args:\n",
    "    notebook_path (str): Path to the notebook file.\n",
    "    kernel_name (str): Name of the kernel to set.\n",
    "    \"\"\"\n",
    "    with open(notebook_path, 'r', encoding='utf-8') as f:\n",
    "        notebook = json.load(f)\n",
    "\n",
    "    if 'metadata' not in notebook:\n",
    "        notebook['metadata'] = {}\n",
    "\n",
    "    if 'kernelspec' not in notebook['metadata']:\n",
    "        notebook['metadata']['kernelspec'] = {}\n",
    "\n",
    "    notebook['metadata']['kernelspec']['name'] = kernel_name\n",
    "    notebook['metadata']['kernelspec']['display_name'] = kernel_name\n",
    "\n",
    "    with open(notebook_path, 'w', encoding='utf-8') as f:\n",
    "        json.dump(notebook, f, ensure_ascii=False, indent=4)\n",
    "\n",
    "    print(f\"Kernel set to '{kernel_name}' for notebook: {notebook_path}\")\n",
    "\n",
    "\n",
    "def get_current_kernel() -> str:\n",
    "    \"\"\"Get the kernel name of the current notebook.\"\"\"\n",
    "    with open('/proc/self/cmdline', 'r') as f:\n",
    "        cmdline = f.read()\n",
    "\n",
    "    for part in cmdline.split('\\x00'):\n",
    "        if '--KernelManager.kernel_name=' in part:\n",
    "            return part.split('=')[1]\n",
    "    return 'python3'\n",
    "\n",
    "\n",
    "def execute_notebook(notebook: str, parameters: Dict, is_skip_on_failure: bool) -> Tuple[str, bool]:\n",
    "    \"\"\"\n",
    "    Execute a notebook and handle errors if the notebook is in the skip_on_failure list.\n",
    "\n",
    "    Parameters:\n",
    "    - notebook: Path to the notebook to execute.\n",
    "    - parameters: Parameters for the notebook.\n",
    "    - is_skip_on_failure: Check if notebook allowed to fail without stopping the pipeline.\n",
    "\n",
    "    Returns:\n",
    "    - notebook: Path to the notebook.\n",
    "    - success: True if the notebook executed successfully, False if there was an error.\n",
    "    \"\"\"\n",
    "    original_dir = os.getcwd()\n",
    "    notebook_dir = os.path.dirname(notebook)\n",
    "\n",
    "    try:\n",
    "        os.chdir(notebook_dir)\n",
    "\n",
    "        # Set the kernel of the target notebook to be the same as the current notebook\n",
    "        current_kernel = get_current_kernel()\n",
    "        set_kernel(notebook, current_kernel)\n",
    "\n",
    "        output_notebook = notebook.replace(\".ipynb\", \"_output.ipynb\")\n",
    "        pm.execute_notebook(\n",
    "            input_path=notebook,\n",
    "            output_path=output_notebook,\n",
    "            parameters=parameters\n",
    "        )\n",
    "        print(\n",
    "            f\"Finished executing {notebook}. Output saved to {output_notebook}\")\n",
    "        return notebook, True\n",
    "    except Exception as e:\n",
    "        print(f\"Error executing {notebook}: {e}\")\n",
    "        if is_skip_on_failure:\n",
    "            print(f\"Skipping {notebook} due to failure.\")\n",
    "            return notebook, False\n",
    "        else:\n",
    "            raise\n",
    "    finally:\n",
    "        os.chdir(original_dir)\n",
    "\n",
    "\n",
    "def run_notebooks_in_parallel(notebooks: List[Dict]) -> None:\n",
    "    \"\"\"Run notebooks in parallel.\"\"\"\n",
    "    with ThreadPoolExecutor(max_workers=len(notebooks)) as executor:\n",
    "        futures = [executor.submit(\n",
    "            execute_notebook, nb['notebook'], nb['parameters'], nb.get('is_skip_on_failure', False)) for nb in notebooks]\n",
    "        for future in as_completed(futures):\n",
    "            notebook, success = future.result()\n",
    "            cur_notebook = next(\n",
    "                nb for nb in notebooks if nb['notebook'] == notebook)\n",
    "            if not success and not cur_notebook.get('is_skip_on_failure', False):\n",
    "                print(f\"Aborting due to failure in {notebook}\")\n",
    "                return\n",
    "\n",
    "\n",
    "def run_notebooks_sequentially(notebooks: List[Dict]) -> None:\n",
    "    \"\"\"Run notebooks sequentially.\"\"\"\n",
    "    for nb in notebooks:\n",
    "        notebook, parameters, is_skip_on_failure = nb['notebook'], nb['parameters'], nb.get('is_skip_on_failure', False)\n",
    "        notebook, success = execute_notebook(\n",
    "            notebook, parameters, is_skip_on_failure)\n",
    "        if not success and not is_skip_on_failure:\n",
    "            print(f\"Aborting due to failure in {notebook}\")\n",
    "            return\n",
    "\n",
    "\n",
    "def run_notebooks(steps: Dict[str, Dict[str, Union[bool, List[Dict]]]]) -> None:\n",
    "    \"\"\"\n",
    "    Execute notebooks sequentially with the specified parameters. If a step is marked as parallel,\n",
    "    execute the notebooks in that step in parallel.\n",
    "\n",
    "    Parameters:\n",
    "    - steps: Dictionary containing information about the steps to execute.\n",
    "    \"\"\"\n",
    "\n",
    "    for step_name, step_info in steps.items():\n",
    "        is_parallel = step_info['parallel']\n",
    "        notebooks = step_info['notebooks']\n",
    "        print(\n",
    "            f'----------------Step {step_name} starting----------------')\n",
    "        if is_parallel:\n",
    "            run_notebooks_in_parallel(notebooks)\n",
    "        else:\n",
    "            run_notebooks_sequentially(notebooks)"
   ]
  },
  {
   "cell_type": "markdown",
   "metadata": {},
   "source": [
    "## Data extraction pipeline"
   ]
  },
  {
   "cell_type": "code",
   "execution_count": null,
   "metadata": {},
   "outputs": [],
   "source": [
    "data_extraction_path = f'{dir_path}/data_extraction'\n",
    "dataset_path = f'{data_extraction_path}/dataset/AIC_Video'"
   ]
  },
  {
   "cell_type": "code",
   "execution_count": null,
   "metadata": {},
   "outputs": [],
   "source": [
    "data_extraction_pipeline = {\n",
    "    'Extract data': {\n",
    "        'parallel': True,\n",
    "        'notebooks': [\n",
    "            {\n",
    "                'notebook': f'{data_extraction_path}/transnet/transnetv2.ipynb',\n",
    "                'parameters': {\n",
    "                    'videos_dir': dataset_path,\n",
    "                    'save_dir': f'{data_extraction_path}/transnet/SceneJSON',\n",
    "                },\n",
    "            },\n",
    "            {\n",
    "                'notebook': f'{data_extraction_path}/audio/audio_extraction.ipynb',\n",
    "                'parameters': {\n",
    "                    'videos_dir': dataset_path,\n",
    "                    'save_dir': f'{data_extraction_path}/audio/Audio',\n",
    "                },\n",
    "            },\n",
    "        ],\n",
    "    },\n",
    "    'Cut frames & transcribe audio': {\n",
    "        'parallel': True,\n",
    "        'notebooks': [\n",
    "            {\n",
    "                'notebook': f'{data_extraction_path}/transnet/cutframe.ipynb',\n",
    "                'parameters': {\n",
    "                    'videos_dir': dataset_path,\n",
    "                    'scene_json_dirs': f'{data_extraction_path}/transnet/SceneJSON',\n",
    "                    'save_dir_all': f'{data_extraction_path}/transnet/Keyframes',\n",
    "                    'metadata_dir_all': f'{data_extraction_path}/transnet/Keyframes_Metadata',\n",
    "                    'extract_metadata_only': False,\n",
    "                    'num_frames_per_segment': 5,\n",
    "                },\n",
    "            },\n",
    "            {\n",
    "                'notebook': f'{data_extraction_path}/audio/audio_detection.ipynb',\n",
    "                'parameters': {\n",
    "                    'audios_dir': f'{data_extraction_path}/audio/Audio',\n",
    "                    'save_dir': f'{data_extraction_path}/audio/audio_detection',\n",
    "                },\n",
    "            },\n",
    "        ],\n",
    "    },\n",
    "    'Extract metadata': {\n",
    "        'parallel': True,\n",
    "        'notebooks': [\n",
    "            {\n",
    "                'notebook': f'{data_extraction_path}/clip/clipv2.ipynb',\n",
    "                'parameters': {\n",
    "                    'bs': 4,\n",
    "                    'keyframes_dir': f'{data_extraction_path}/transnet/Keyframes',\n",
    "                    'save_dir': f'{data_extraction_path}/clip/CLIPv2_features',\n",
    "                },\n",
    "            },\n",
    "            {\n",
    "                'notebook': f'{data_extraction_path}/metadata/easyocr.ipynb',\n",
    "                'parameters': {\n",
    "                    'bs': 16,\n",
    "                    'keyframes_dir': f'{data_extraction_path}/transnet/Keyframes',\n",
    "                    'save_dir': f'{data_extraction_path}/metadata/ocr',\n",
    "                },\n",
    "            },\n",
    "            {\n",
    "                'notebook': f'{data_extraction_path}/metadata/object_extraction.ipynb',\n",
    "                'parameters': {\n",
    "                    'keyframes_dir': f'{data_extraction_path}/transnet/Keyframes',\n",
    "                    'save_dir': f'{data_extraction_path}/metadata/object_extraction',\n",
    "                },\n",
    "            },\n",
    "        ],\n",
    "    }\n",
    "}"
   ]
  },
  {
   "cell_type": "code",
   "execution_count": null,
   "metadata": {},
   "outputs": [],
   "source": [
    "run_notebooks(data_extraction_pipeline)"
   ]
  },
  {
   "cell_type": "markdown",
   "metadata": {},
   "source": [
    "## Indexing pipeline"
   ]
  },
  {
   "cell_type": "code",
   "execution_count": null,
   "metadata": {},
   "outputs": [],
   "source": [
    "indexing_path = f'{dir_path}/indexing'"
   ]
  },
  {
   "cell_type": "code",
   "execution_count": null,
   "metadata": {},
   "outputs": [],
   "source": [
    "indexing_pipeline = {\n",
    "    'Preparation data': {\n",
    "        'parallel': True,\n",
    "        'notebooks': [\n",
    "            {\n",
    "                'notebook': 'data_preparation.ipynb',\n",
    "                'parameters': {\n",
    "                    'combined_keyframes_metadata_filename': 'keyframes_metadata.json',\n",
    "                    'keyframes_metadata_dir': f'{data_extraction_path}/transnet/Keyframes_Metadata',\n",
    "                },\n",
    "            },\n",
    "        ],\n",
    "    },\n",
    "    'Indexing': {\n",
    "        'parallel': True,\n",
    "        'notebooks': [\n",
    "            {\n",
    "                'notebook': f'{indexing_path}/create_faiss_bin.ipynb',\n",
    "                'parameters': {\n",
    "                    'feature_shape': 512,\n",
    "                    'features_dir': f'{data_extraction_path}/clip/CLIPv2_features',\n",
    "                    'cpu_bin_name': 'faiss_clipv2_cosine_cpu.bin',\n",
    "                    'gpu_bin_name': 'faiss_clipv2_cosine_gpu.bin',\n",
    "                },\n",
    "            },\n",
    "        ],\n",
    "    },\n",
    "}"
   ]
  },
  {
   "cell_type": "code",
   "execution_count": null,
   "metadata": {},
   "outputs": [
    {
     "name": "stderr",
     "output_type": "stream",
     "text": [
      "/home/jiggle/personal/competition/hcm-ai/Pipeline_HCM_AI/venv/lib/python3.9/site-packages/tqdm/auto.py:22: TqdmWarning: IProgress not found. Please update jupyter and ipywidgets. See https://ipywidgets.readthedocs.io/en/stable/user_install.html\n",
      "  from .autonotebook import tqdm as notebook_tqdm\n"
     ]
    },
    {
     "name": "stdout",
     "output_type": "stream",
     "text": [
      "----------------Step Indexing starting----------------\n",
      "Kernel set to 'python3' for notebook: /home/jiggle/personal/competition/hcm-ai/Pipeline_HCM_AI/notebooks/indexing/create_faiss_bin.ipynb\n"
     ]
    },
    {
     "name": "stderr",
     "output_type": "stream",
     "text": [
      "Executing:   0%|          | 0/9 [00:00<?, ?cell/s]"
     ]
    },
    {
     "name": "stderr",
     "output_type": "stream",
     "text": [
      "Executing: 100%|██████████| 9/9 [00:04<00:00,  1.94cell/s]"
     ]
    },
    {
     "name": "stdout",
     "output_type": "stream",
     "text": [
      "Finished executing /home/jiggle/personal/competition/hcm-ai/Pipeline_HCM_AI/notebooks/indexing/create_faiss_bin.ipynb. Output saved to /home/jiggle/personal/competition/hcm-ai/Pipeline_HCM_AI/notebooks/indexing/create_faiss_bin_output.ipynb\n"
     ]
    },
    {
     "name": "stderr",
     "output_type": "stream",
     "text": [
      "\n"
     ]
    }
   ],
   "source": [
    "run_notebooks(indexing_pipeline)"
   ]
  }
 ],
 "metadata": {
  "kernelspec": {
   "display_name": "venv",
   "language": "python",
   "name": "python3"
  },
  "language_info": {
   "codemirror_mode": {
    "name": "ipython",
    "version": 3
   },
   "file_extension": ".py",
   "mimetype": "text/x-python",
   "name": "python",
   "nbconvert_exporter": "python",
   "pygments_lexer": "ipython3",
   "version": "3.9.19"
  }
 },
 "nbformat": 4,
 "nbformat_minor": 2
}
