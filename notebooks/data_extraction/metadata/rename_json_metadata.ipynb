{
 "cells": [
  {
   "cell_type": "markdown",
   "metadata": {},
   "source": [
    "# Tag"
   ]
  },
  {
   "cell_type": "code",
   "execution_count": null,
   "metadata": {},
   "outputs": [],
   "source": [
    "import os\n",
    "from collections import defaultdict\n",
    "from tqdm import tqdm"
   ]
  },
  {
   "cell_type": "code",
   "execution_count": null,
   "metadata": {},
   "outputs": [],
   "source": [
    "def rename_files(folder_path):\n",
    "    # Counters for summary\n",
    "    summary = defaultdict(int)\n",
    "\n",
    "    # Get list of all JSON files in the folder\n",
    "    json_files = [f for f in os.listdir(folder_path) if f.endswith('.json')]\n",
    "\n",
    "    # Create a progress bar\n",
    "    for filename in tqdm(json_files, desc=\"Renaming files\", unit=\"file\"):\n",
    "        file_path = os.path.join(folder_path, filename)\n",
    "        \n",
    "        # Split the filename into parts\n",
    "        parts = filename.split('_')\n",
    "        \n",
    "        # Check if it's an 'extra' file\n",
    "        if len(parts) == 4 and parts[2] == 'extra' and parts[3] == 'tagging.json':\n",
    "            new_filename = f\"{parts[0]}_{parts[1]}_extra.json\"\n",
    "            new_file_path = os.path.join(folder_path, new_filename)\n",
    "            try:\n",
    "                os.rename(file_path, new_file_path)\n",
    "                summary['renamed_extra'] += 1\n",
    "            except OSError as e:\n",
    "                print(f\"Error renaming {filename}: {e}\")\n",
    "                summary['errors'] += 1\n",
    "        \n",
    "        # Check if it's a 'normal' file\n",
    "        elif len(parts) == 3 and parts[2] == 'tagging.json':\n",
    "            new_filename = f\"{parts[0]}_{parts[1]}.json\"\n",
    "            new_file_path = os.path.join(folder_path, new_filename)\n",
    "            try:\n",
    "                os.rename(file_path, new_file_path)\n",
    "                summary['renamed_normal'] += 1\n",
    "            except OSError as e:\n",
    "                print(f\"Error renaming {filename}: {e}\")\n",
    "                summary['errors'] += 1\n",
    "        \n",
    "        else:\n",
    "            summary['skipped'] += 1\n",
    "\n",
    "    return summary"
   ]
  },
  {
   "cell_type": "code",
   "execution_count": null,
   "metadata": {},
   "outputs": [
    {
     "name": "stdout",
     "output_type": "stream",
     "text": [
      "Starting file renaming process...\n"
     ]
    },
    {
     "name": "stderr",
     "output_type": "stream",
     "text": [
      "Renaming files: 100%|██████████| 726/726 [00:00<00:00, 21060.72file/s]\n"
     ]
    }
   ],
   "source": [
    "# Specify the folder path where your JSON files are located\n",
    "current_dir = os.getcwd()\n",
    "folder_path = f\"{current_dir}/tag\" \n",
    "\n",
    "# Run the renaming function\n",
    "print(\"Starting file renaming process...\")\n",
    "results = rename_files(folder_path)"
   ]
  }
 ],
 "metadata": {
  "kernelspec": {
   "display_name": "venv",
   "language": "python",
   "name": "python3"
  },
  "language_info": {
   "codemirror_mode": {
    "name": "ipython",
    "version": 3
   },
   "file_extension": ".py",
   "mimetype": "text/x-python",
   "name": "python",
   "nbconvert_exporter": "python",
   "pygments_lexer": "ipython3",
   "version": "3.9.19"
  }
 },
 "nbformat": 4,
 "nbformat_minor": 2
}
