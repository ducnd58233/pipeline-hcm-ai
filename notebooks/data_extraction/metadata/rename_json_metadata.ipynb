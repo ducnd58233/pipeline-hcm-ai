{
 "cells": [
  {
   "cell_type": "markdown",
   "metadata": {},
   "source": [
    "# Tag"
   ]
  },
  {
   "cell_type": "code",
   "execution_count": null,
   "metadata": {},
   "outputs": [],
   "source": [
    "import re\n",
    "from collections import defaultdict\n",
    "import os"
   ]
  },
  {
   "cell_type": "code",
   "execution_count": null,
   "metadata": {},
   "outputs": [],
   "source": [
    "def rename_files(folder_path):\n",
    "    # Regular expressions for matching file names\n",
    "    pattern_extra = re.compile(r'(L\\d+_V\\d+)_extra_tagging\\.json')\n",
    "    pattern_normal = re.compile(r'(L\\d+_V\\d+)_tagging\\.json')\n",
    "\n",
    "    # Counters for summary\n",
    "    summary = defaultdict(int)\n",
    "\n",
    "    # Iterate through all files in the folder\n",
    "    for filename in os.listdir(folder_path):\n",
    "        file_path = os.path.join(folder_path, filename)\n",
    "        \n",
    "        # Check if it's a file (not a directory)\n",
    "        if os.path.isfile(file_path):\n",
    "            # Try to match with the 'extra' pattern\n",
    "            match_extra = pattern_extra.match(filename)\n",
    "            if match_extra:\n",
    "                new_filename = f\"{match_extra.group(1)}_extra.json\"\n",
    "                new_file_path = os.path.join(folder_path, new_filename)\n",
    "                try:\n",
    "                    os.rename(file_path, new_file_path)\n",
    "                    summary['renamed_extra'] += 1\n",
    "                except OSError as e:\n",
    "                    print(f\"Error renaming {filename}: {e}\")\n",
    "                    summary['errors'] += 1\n",
    "            \n",
    "            # Try to match with the 'normal' pattern\n",
    "            elif pattern_normal.match(filename):\n",
    "                match_normal = pattern_normal.match(filename)\n",
    "                new_filename = f\"{match_normal.group(1)}.json\"\n",
    "                new_file_path = os.path.join(folder_path, new_filename)\n",
    "                try:\n",
    "                    os.rename(file_path, new_file_path)\n",
    "                    summary['renamed_normal'] += 1\n",
    "                except OSError as e:\n",
    "                    print(f\"Error renaming {filename}: {e}\")\n",
    "                    summary['errors'] += 1\n",
    "            \n",
    "            else:\n",
    "                summary['skipped'] += 1\n",
    "\n",
    "    return summary"
   ]
  },
  {
   "cell_type": "code",
   "execution_count": null,
   "metadata": {},
   "outputs": [
    {
     "name": "stdout",
     "output_type": "stream",
     "text": [
      "Starting file renaming process...\n"
     ]
    }
   ],
   "source": [
    "# Specify the folder path where your JSON files are located\n",
    "current_dir = os.getcwd()\n",
    "folder_path = f\"{current_dir}/tag_output\" \n",
    "\n",
    "# Run the renaming function\n",
    "print(\"Starting file renaming process...\")\n",
    "results = rename_files(folder_path)"
   ]
  }
 ],
 "metadata": {
  "kernelspec": {
   "display_name": "venv",
   "language": "python",
   "name": "python3"
  },
  "language_info": {
   "codemirror_mode": {
    "name": "ipython",
    "version": 3
   },
   "file_extension": ".py",
   "mimetype": "text/x-python",
   "name": "python",
   "nbconvert_exporter": "python",
   "pygments_lexer": "ipython3",
   "version": "3.9.19"
  }
 },
 "nbformat": 4,
 "nbformat_minor": 2
}
