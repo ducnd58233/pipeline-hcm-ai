{
 "cells": [
  {
   "cell_type": "markdown",
   "metadata": {},
   "source": [
    "# Set up"
   ]
  },
  {
   "cell_type": "code",
   "execution_count": null,
   "metadata": {
    "tags": [
     "parameters"
    ]
   },
   "outputs": [],
   "source": [
    "save_dir = None\n",
    "checkpoint_dir = None\n",
    "keyframes_dir = None\n"
   ]
  },
  {
   "cell_type": "code",
   "execution_count": null,
   "metadata": {},
   "outputs": [
    {
     "name": "stdout",
     "output_type": "stream",
     "text": [
      "fatal: destination path 'recognize-anything' already exists and is not an empty directory.\n",
      "Requirement already satisfied: timm in /home/heigatvu/anaconda3/envs/hcm-ai/lib/python3.9/site-packages (1.0.9)\n",
      "Requirement already satisfied: transformers in /home/heigatvu/anaconda3/envs/hcm-ai/lib/python3.9/site-packages (4.44.2)\n",
      "Requirement already satisfied: fairscale in /home/heigatvu/anaconda3/envs/hcm-ai/lib/python3.9/site-packages (0.4.13)\n",
      "Requirement already satisfied: pycocoevalcap in /home/heigatvu/anaconda3/envs/hcm-ai/lib/python3.9/site-packages (1.2)\n",
      "Requirement already satisfied: torch in /home/heigatvu/anaconda3/envs/hcm-ai/lib/python3.9/site-packages (from timm) (2.4.0)\n",
      "Requirement already satisfied: torchvision in /home/heigatvu/anaconda3/envs/hcm-ai/lib/python3.9/site-packages (from timm) (0.19.0)\n",
      "Requirement already satisfied: pyyaml in /home/heigatvu/anaconda3/envs/hcm-ai/lib/python3.9/site-packages (from timm) (6.0.2)\n",
      "Requirement already satisfied: huggingface_hub in /home/heigatvu/anaconda3/envs/hcm-ai/lib/python3.9/site-packages (from timm) (0.24.6)\n",
      "Requirement already satisfied: safetensors in /home/heigatvu/anaconda3/envs/hcm-ai/lib/python3.9/site-packages (from timm) (0.4.4)\n",
      "Requirement already satisfied: filelock in /home/heigatvu/anaconda3/envs/hcm-ai/lib/python3.9/site-packages (from transformers) (3.15.4)\n",
      "Requirement already satisfied: numpy>=1.17 in /home/heigatvu/anaconda3/envs/hcm-ai/lib/python3.9/site-packages (from transformers) (2.0.2)\n",
      "Requirement already satisfied: packaging>=20.0 in /home/heigatvu/anaconda3/envs/hcm-ai/lib/python3.9/site-packages (from transformers) (24.1)\n",
      "Requirement already satisfied: regex!=2019.12.17 in /home/heigatvu/anaconda3/envs/hcm-ai/lib/python3.9/site-packages (from transformers) (2024.7.24)\n",
      "Requirement already satisfied: requests in /home/heigatvu/anaconda3/envs/hcm-ai/lib/python3.9/site-packages (from transformers) (2.32.3)\n",
      "Requirement already satisfied: tokenizers<0.20,>=0.19 in /home/heigatvu/anaconda3/envs/hcm-ai/lib/python3.9/site-packages (from transformers) (0.19.1)\n",
      "Requirement already satisfied: tqdm>=4.27 in /home/heigatvu/anaconda3/envs/hcm-ai/lib/python3.9/site-packages (from transformers) (4.66.5)\n",
      "Requirement already satisfied: pycocotools>=2.0.2 in /home/heigatvu/anaconda3/envs/hcm-ai/lib/python3.9/site-packages (from pycocoevalcap) (2.0.8)\n",
      "Requirement already satisfied: fsspec>=2023.5.0 in /home/heigatvu/anaconda3/envs/hcm-ai/lib/python3.9/site-packages (from huggingface_hub->timm) (2024.6.1)\n",
      "Requirement already satisfied: typing-extensions>=3.7.4.3 in /home/heigatvu/anaconda3/envs/hcm-ai/lib/python3.9/site-packages (from huggingface_hub->timm) (4.12.2)\n",
      "Requirement already satisfied: matplotlib>=2.1.0 in /home/heigatvu/anaconda3/envs/hcm-ai/lib/python3.9/site-packages (from pycocotools>=2.0.2->pycocoevalcap) (3.9.2)\n",
      "Requirement already satisfied: sympy in /home/heigatvu/anaconda3/envs/hcm-ai/lib/python3.9/site-packages (from torch->timm) (1.13.2)\n",
      "Requirement already satisfied: networkx in /home/heigatvu/anaconda3/envs/hcm-ai/lib/python3.9/site-packages (from torch->timm) (3.2.1)\n",
      "Requirement already satisfied: jinja2 in /home/heigatvu/anaconda3/envs/hcm-ai/lib/python3.9/site-packages (from torch->timm) (3.1.4)\n",
      "Requirement already satisfied: nvidia-cuda-nvrtc-cu12==12.1.105 in /home/heigatvu/anaconda3/envs/hcm-ai/lib/python3.9/site-packages (from torch->timm) (12.1.105)\n",
      "Requirement already satisfied: nvidia-cuda-runtime-cu12==12.1.105 in /home/heigatvu/anaconda3/envs/hcm-ai/lib/python3.9/site-packages (from torch->timm) (12.1.105)\n",
      "Requirement already satisfied: nvidia-cuda-cupti-cu12==12.1.105 in /home/heigatvu/anaconda3/envs/hcm-ai/lib/python3.9/site-packages (from torch->timm) (12.1.105)\n",
      "Requirement already satisfied: nvidia-cudnn-cu12==9.1.0.70 in /home/heigatvu/anaconda3/envs/hcm-ai/lib/python3.9/site-packages (from torch->timm) (9.1.0.70)\n",
      "Requirement already satisfied: nvidia-cublas-cu12==12.1.3.1 in /home/heigatvu/anaconda3/envs/hcm-ai/lib/python3.9/site-packages (from torch->timm) (12.1.3.1)\n",
      "Requirement already satisfied: nvidia-cufft-cu12==11.0.2.54 in /home/heigatvu/anaconda3/envs/hcm-ai/lib/python3.9/site-packages (from torch->timm) (11.0.2.54)\n",
      "Requirement already satisfied: nvidia-curand-cu12==10.3.2.106 in /home/heigatvu/anaconda3/envs/hcm-ai/lib/python3.9/site-packages (from torch->timm) (10.3.2.106)\n",
      "Requirement already satisfied: nvidia-cusolver-cu12==11.4.5.107 in /home/heigatvu/anaconda3/envs/hcm-ai/lib/python3.9/site-packages (from torch->timm) (11.4.5.107)\n",
      "Requirement already satisfied: nvidia-cusparse-cu12==12.1.0.106 in /home/heigatvu/anaconda3/envs/hcm-ai/lib/python3.9/site-packages (from torch->timm) (12.1.0.106)\n",
      "Requirement already satisfied: nvidia-nccl-cu12==2.20.5 in /home/heigatvu/anaconda3/envs/hcm-ai/lib/python3.9/site-packages (from torch->timm) (2.20.5)\n",
      "Requirement already satisfied: nvidia-nvtx-cu12==12.1.105 in /home/heigatvu/anaconda3/envs/hcm-ai/lib/python3.9/site-packages (from torch->timm) (12.1.105)\n",
      "Requirement already satisfied: triton==3.0.0 in /home/heigatvu/anaconda3/envs/hcm-ai/lib/python3.9/site-packages (from torch->timm) (3.0.0)\n",
      "Requirement already satisfied: nvidia-nvjitlink-cu12 in /home/heigatvu/anaconda3/envs/hcm-ai/lib/python3.9/site-packages (from nvidia-cusolver-cu12==11.4.5.107->torch->timm) (12.6.20)\n",
      "Requirement already satisfied: charset-normalizer<4,>=2 in /home/heigatvu/anaconda3/envs/hcm-ai/lib/python3.9/site-packages (from requests->transformers) (3.3.2)\n",
      "Requirement already satisfied: idna<4,>=2.5 in /home/heigatvu/anaconda3/envs/hcm-ai/lib/python3.9/site-packages (from requests->transformers) (3.8)\n",
      "Requirement already satisfied: urllib3<3,>=1.21.1 in /home/heigatvu/anaconda3/envs/hcm-ai/lib/python3.9/site-packages (from requests->transformers) (2.2.2)\n",
      "Requirement already satisfied: certifi>=2017.4.17 in /home/heigatvu/anaconda3/envs/hcm-ai/lib/python3.9/site-packages (from requests->transformers) (2024.7.4)\n",
      "Requirement already satisfied: pillow!=8.3.*,>=5.3.0 in /home/heigatvu/anaconda3/envs/hcm-ai/lib/python3.9/site-packages (from torchvision->timm) (10.4.0)\n",
      "Requirement already satisfied: contourpy>=1.0.1 in /home/heigatvu/anaconda3/envs/hcm-ai/lib/python3.9/site-packages (from matplotlib>=2.1.0->pycocotools>=2.0.2->pycocoevalcap) (1.3.0)\n",
      "Requirement already satisfied: cycler>=0.10 in /home/heigatvu/anaconda3/envs/hcm-ai/lib/python3.9/site-packages (from matplotlib>=2.1.0->pycocotools>=2.0.2->pycocoevalcap) (0.12.1)\n",
      "Requirement already satisfied: fonttools>=4.22.0 in /home/heigatvu/anaconda3/envs/hcm-ai/lib/python3.9/site-packages (from matplotlib>=2.1.0->pycocotools>=2.0.2->pycocoevalcap) (4.53.1)\n",
      "Requirement already satisfied: kiwisolver>=1.3.1 in /home/heigatvu/anaconda3/envs/hcm-ai/lib/python3.9/site-packages (from matplotlib>=2.1.0->pycocotools>=2.0.2->pycocoevalcap) (1.4.5)\n",
      "Requirement already satisfied: pyparsing>=2.3.1 in /home/heigatvu/anaconda3/envs/hcm-ai/lib/python3.9/site-packages (from matplotlib>=2.1.0->pycocotools>=2.0.2->pycocoevalcap) (3.1.4)\n",
      "Requirement already satisfied: python-dateutil>=2.7 in /home/heigatvu/anaconda3/envs/hcm-ai/lib/python3.9/site-packages (from matplotlib>=2.1.0->pycocotools>=2.0.2->pycocoevalcap) (2.9.0)\n",
      "Requirement already satisfied: importlib-resources>=3.2.0 in /home/heigatvu/anaconda3/envs/hcm-ai/lib/python3.9/site-packages (from matplotlib>=2.1.0->pycocotools>=2.0.2->pycocoevalcap) (6.4.4)\n",
      "Requirement already satisfied: MarkupSafe>=2.0 in /home/heigatvu/anaconda3/envs/hcm-ai/lib/python3.9/site-packages (from jinja2->torch->timm) (2.1.5)\n",
      "Requirement already satisfied: mpmath<1.4,>=1.1.0 in /home/heigatvu/anaconda3/envs/hcm-ai/lib/python3.9/site-packages (from sympy->torch->timm) (1.3.0)\n",
      "Requirement already satisfied: zipp>=3.1.0 in /home/heigatvu/anaconda3/envs/hcm-ai/lib/python3.9/site-packages (from importlib-resources>=3.2.0->matplotlib>=2.1.0->pycocotools>=2.0.2->pycocoevalcap) (3.20.1)\n",
      "Requirement already satisfied: six>=1.5 in /home/heigatvu/anaconda3/envs/hcm-ai/lib/python3.9/site-packages (from python-dateutil>=2.7->matplotlib>=2.1.0->pycocotools>=2.0.2->pycocoevalcap) (1.16.0)\n",
      "Note: you may need to restart the kernel to use updated packages.\n",
      "/home/heigatvu/my-project/competition/HCMC-AI/pipeline-hcm-ai/notebooks/data_extraction/metadata/recognize-anything\n"
     ]
    },
    {
     "name": "stderr",
     "output_type": "stream",
     "text": [
      "/home/heigatvu/my-project/competition/HCMC-AI/pipeline-hcm-ai/venv/lib/python3.9/site-packages/IPython/core/magics/osm.py:417: UserWarning: using dhist requires you to install the `pickleshare` library.\n",
      "  self.shell.db['dhist'] = compress_dhist(dhist)[-100:]\n"
     ]
    }
   ],
   "source": [
    "!git clone https://github.com/xinyu1205/recognize-anything.git\n",
    "%pip install timm transformers fairscale pycocoevalcap\n",
    "\n",
    "# change the working directory to the cloned repo\n",
    "%cd recognize-anything"
   ]
  },
  {
   "cell_type": "code",
   "execution_count": null,
   "metadata": {},
   "outputs": [],
   "source": [
    "import os\n",
    "\n",
    "dir_path = os.getcwd() # Get the current directory path\n",
    "parent_path = os.path.dirname(dir_path)\n",
    "\n",
    "if save_dir is None:\n",
    "    save_dir = f\"{parent_path}/tag_output\"\n",
    "if checkpoint_dir is None:\n",
    "    checkpoint_dir = f\"{parent_path}/pretrained\"\n",
    "if keyframes_dir is None:\n",
    "    keyframes_dir = os.path.join(os.path.dirname(parent_path), 'transnet', 'keyframes')\n"
   ]
  },
  {
   "cell_type": "code",
   "execution_count": null,
   "metadata": {},
   "outputs": [
    {
     "name": "stderr",
     "output_type": "stream",
     "text": [
      "/home/heigatvu/my-project/competition/HCMC-AI/pipeline-hcm-ai/venv/lib/python3.9/site-packages/tqdm/auto.py:22: TqdmWarning: IProgress not found. Please update jupyter and ipywidgets. See https://ipywidgets.readthedocs.io/en/stable/user_install.html\n",
      "  from .autonotebook import tqdm as notebook_tqdm\n"
     ]
    }
   ],
   "source": [
    "import os\n",
    "import glob\n",
    "import json\n",
    "import torch\n",
    "import numpy as np\n",
    "from PIL import Image\n",
    "from ram.models import ram_plus\n",
    "from ram import get_transform\n",
    "from ram import inference_ram as inference\n",
    "from tqdm import tqdm\n",
    "import subprocess\n",
    "from concurrent.futures import ThreadPoolExecutor"
   ]
  },
  {
   "cell_type": "markdown",
   "metadata": {},
   "source": [
    "# Download CheckPoint"
   ]
  },
  {
   "cell_type": "code",
   "execution_count": null,
   "metadata": {},
   "outputs": [
    {
     "name": "stdout",
     "output_type": "stream",
     "text": [
      "You selected RAM++\n",
      "Checkpoint directory: /home/heigatvu/my-project/competition/HCMC-AI/pipeline-hcm-ai/notebooks/data_extraction/metadata/pretrained\n",
      "/home/heigatvu/my-project/competition/HCMC-AI/pipeline-hcm-ai/notebooks/data_extraction/metadata/pretrained\n",
      "RAM weights already downloaded!\n",
      "RAM++ weights are downloaded!\n"
     ]
    }
   ],
   "source": [
    "def download_checkpoints(model, checkpoint_dir):\n",
    "    print('You selected', model)\n",
    "    print(f'Checkpoint directory: {checkpoint_dir}')\n",
    "    if not os.path.exists(checkpoint_dir):\n",
    "        os.makedirs(checkpoint_dir)\n",
    "    print(checkpoint_dir)\n",
    "\n",
    "    if model == \"RAM++\":\n",
    "        ram_weights_path = os.path.join(checkpoint_dir, 'ram_plus_swin_large_14m.pth')\n",
    "        if not os.path.exists(ram_weights_path):\n",
    "            url = \"https://huggingface.co/xinyu1205/recognize-anything-plus-model/resolve/main/ram_plus_swin_large_14m.pth\"\n",
    "            subprocess.run(['wget', url, '-O', os.path.join(checkpoint_dir, 'ram_plus_swin_large_14m.pth')], check=True)\n",
    "            print(f\"RAM weights downloaded to {ram_weights_path}\")\n",
    "        else:\n",
    "            print(\"RAM weights already downloaded!\")\n",
    "\n",
    "model = \"RAM++\"\n",
    "download_checkpoints(model, checkpoint_dir)\n",
    "print(model, 'weights are downloaded!')"
   ]
  },
  {
   "cell_type": "markdown",
   "metadata": {},
   "source": [
    "# Parse data path"
   ]
  },
  {
   "cell_type": "code",
   "execution_count": null,
   "metadata": {},
   "outputs": [],
   "source": [
    "def parse_keyframe_info(keyframes_dir):\n",
    "    all_keyframe_paths = {}\n",
    "    for part in sorted(os.listdir(keyframes_dir)):\n",
    "        data_part_path = f'{keyframes_dir}/{part}'\n",
    "        data_part = part.split('/')[-1]\n",
    "        all_keyframe_paths[data_part] = []\n",
    "        image_path = sorted(glob.glob(f'{data_part_path}/*.jpg'))\n",
    "        all_keyframe_paths[data_part] = image_path\n",
    "    return all_keyframe_paths"
   ]
  },
  {
   "cell_type": "markdown",
   "metadata": {},
   "source": [
    "# Inference"
   ]
  },
  {
   "cell_type": "code",
   "execution_count": null,
   "metadata": {},
   "outputs": [],
   "source": [
    "# Configuration\n",
    "PRETRAINED_MODEL_PATH = f'{checkpoint_dir}/ram_plus_swin_large_14m.pth'\n",
    "IMAGE_SIZE = 384\n",
    "\n",
    "def main():\n",
    "    def create_directory(path):\n",
    "        \"\"\"Create a directory if it does not exist.\"\"\"\n",
    "        if not os.path.exists(path):\n",
    "            os.makedirs(path)\n",
    "    \n",
    "    device = torch.device('cuda' if torch.cuda.is_available() else 'cpu')\n",
    "    transform = get_transform(image_size=IMAGE_SIZE)\n",
    "\n",
    "    # Load model\n",
    "    model = ram_plus(pretrained=PRETRAINED_MODEL_PATH, image_size=IMAGE_SIZE, vit='swin_l')\n",
    "    model.eval()\n",
    "    model = model.to(device)\n",
    "\n",
    "    # Parse keyframe info\n",
    "    all_keyframe_paths = parse_keyframe_info(keyframes_dir)\n",
    "\n",
    "    # Initialize output dictionary\n",
    "    output_data = {}\n",
    "\n",
    "    # Process each keyframe\n",
    "    for video_id, image_paths in tqdm(all_keyframe_paths.items()):\n",
    "        for image_path in tqdm(image_paths, desc=f\"Processing videos in {video_id}\", leave=False):\n",
    "            try:\n",
    "                image = transform(Image.open(image_path)).unsqueeze(0).to(device)\n",
    "                res = inference(image, model)\n",
    "                tags = res[0].split(' | ')\n",
    "                output_data[os.path.basename(image_path)] = tags\n",
    "            except Exception as e:\n",
    "                print(f\"Error processing {image_path}: {str(e)}\")   \n",
    "            feature_type = \"tagging\"\n",
    "            # Save output JSON\n",
    "            json_path = os.path.join(\n",
    "                save_dir, f'{video_id}_{feature_type}.json')\n",
    "            create_directory(os.path.dirname(json_path))\n",
    "            with open(json_path, 'w') as f:\n",
    "                json.dump(output_data, f)"
   ]
  },
  {
   "cell_type": "code",
   "execution_count": null,
   "metadata": {},
   "outputs": [
    {
     "name": "stdout",
     "output_type": "stream",
     "text": [
      "--------------\n",
      "/home/heigatvu/my-project/competition/HCMC-AI/pipeline-hcm-ai/notebooks/data_extraction/metadata/pretrained/ram_plus_swin_large_14m.pth\n",
      "--------------\n",
      "load checkpoint from /home/heigatvu/my-project/competition/HCMC-AI/pipeline-hcm-ai/notebooks/data_extraction/metadata/pretrained/ram_plus_swin_large_14m.pth\n",
      "vit: swin_l\n"
     ]
    },
    {
     "name": "stderr",
     "output_type": "stream",
     "text": [
      "100%|██████████| 4/4 [03:01<00:00, 45.36s/it]\n"
     ]
    }
   ],
   "source": [
    "\n",
    "if __name__ == \"__main__\":\n",
    "    main()"
   ]
  },
  {
   "cell_type": "code",
   "execution_count": null,
   "metadata": {},
   "outputs": [],
   "source": [
    "rm -rf ../recognize-anything"
   ]
  },
  {
   "cell_type": "code",
   "execution_count": null,
   "metadata": {},
   "outputs": [],
   "source": [
    "rm -rf ../pretrained"
   ]
  }
 ],
 "metadata": {
  "kernelspec": {
   "display_name": "hcmcai-3.11",
   "language": "python",
   "name": "python3"
  },
  "language_info": {
   "codemirror_mode": {
    "name": "ipython",
    "version": 3
   },
   "file_extension": ".py",
   "mimetype": "text/x-python",
   "name": "python",
   "nbconvert_exporter": "python",
   "pygments_lexer": "ipython3",
   "version": "3.9.19"
  }
 },
 "nbformat": 4,
 "nbformat_minor": 2
}
