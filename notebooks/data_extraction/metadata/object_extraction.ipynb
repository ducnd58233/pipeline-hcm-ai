{
 "cells": [
  {
   "cell_type": "markdown",
   "metadata": {},
   "source": [
    "# Setup"
   ]
  },
  {
   "cell_type": "code",
   "execution_count": null,
   "metadata": {
    "tags": [
     "parameters"
    ]
   },
   "outputs": [],
   "source": [
    "keyframes_dir = None\n",
    "save_dir = None"
   ]
  },
  {
   "cell_type": "code",
   "execution_count": null,
   "metadata": {},
   "outputs": [],
   "source": [
    "import os\n",
    "from collections import defaultdict\n",
    "\n",
    "dir_path = os.getcwd()\n",
    "\n",
    "if not keyframes_dir:\n",
    "    if 'google.colab' in str(get_ipython()):\n",
    "        # Update this path as necessary\n",
    "        keyframes_dir = f'{dir_path}/Keyframes'\n",
    "    elif 'kaggle' in str(get_ipython()):\n",
    "        keyframes_dir = f'{dir_path}/Keyframes'\n",
    "    else:\n",
    "        parent_dir_path = os.path.dirname(dir_path)\n",
    "        keyframes_dir = f'{parent_dir_path}/transnet/Keyframes'\n",
    "\n",
    "if not save_dir:\n",
    "    save_dir = './object_extraction'"
   ]
  },
  {
   "cell_type": "code",
   "execution_count": null,
   "metadata": {},
   "outputs": [],
   "source": [
    "! pip install ultralytics pillow tqdm"
   ]
  },
  {
   "cell_type": "code",
   "execution_count": null,
   "metadata": {},
   "outputs": [],
   "source": [
    "import os\n",
    "import glob\n",
    "import json\n",
    "import torch\n",
    "from typing import Dict, List\n",
    "from ultralytics import YOLO\n",
    "from tqdm.auto import tqdm"
   ]
  },
  {
   "cell_type": "markdown",
   "metadata": {},
   "source": [
    "# Parse data path"
   ]
  },
  {
   "cell_type": "code",
   "execution_count": null,
   "metadata": {},
   "outputs": [],
   "source": [
    "def parse_keyframe_info(keyframes_dir = '../transnet/Keyframes'):\n",
    "    all_keyframe_paths = {}\n",
    "    for part in sorted(os.listdir(keyframes_dir)):\n",
    "        data_part = part.split('/')[-1]\n",
    "        all_keyframe_paths[data_part] = {}\n",
    "        \n",
    "    for data_part in sorted(all_keyframe_paths.keys()):\n",
    "        data_part_path = f'{keyframes_dir}/{data_part}'\n",
    "        video_dirs = sorted(os.listdir(data_part_path))\n",
    "        video_ids = [video_dir.split('_')[-1] for video_dir in video_dirs]\n",
    "        for video_id, video_dir in zip(video_ids, video_dirs):\n",
    "            keyframe_paths = sorted(\n",
    "                glob.glob(f'{data_part_path}/{video_dir}/*.jpg'))\n",
    "            all_keyframe_paths[data_part][video_id] = keyframe_paths\n",
    "    \n",
    "    return all_keyframe_paths"
   ]
  },
  {
   "cell_type": "markdown",
   "metadata": {},
   "source": [
    "# Process Image"
   ]
  },
  {
   "cell_type": "code",
   "execution_count": null,
   "metadata": {},
   "outputs": [],
   "source": [
    "def create_directory(path):\n",
    "    \"\"\"Create a directory if it does not exist.\"\"\"\n",
    "    if not os.path.exists(path):\n",
    "        os.makedirs(path)\n",
    "\n",
    "\n",
    "class ObjectDetector:\n",
    "    def __init__(self, model_path: str):\n",
    "        self.device = 'cuda' if torch.cuda.is_available() else 'cpu'\n",
    "        print(f\"Using device: {self.device}\")\n",
    "        self.model = YOLO(model_path).to(self.device)\n",
    "\n",
    "    def detect(self, image_path: str) -> List[Dict]:\n",
    "        results = self.model(image_path)\n",
    "        return [\n",
    "            {\n",
    "                \"label\": self.model.names[int(box.cls[0])],\n",
    "                \"score\": float(box.conf[0]),\n",
    "                \"box\": box.xyxy[0].tolist()\n",
    "            }\n",
    "            for r in results\n",
    "            for box in r.boxes\n",
    "        ]\n",
    "\n",
    "\n",
    "def count_objects_by_class(detected_objects: List[Dict]) -> Dict[str, int]:\n",
    "    return {obj[\"label\"]: sum(1 for o in detected_objects if o[\"label\"] == obj[\"label\"])\n",
    "            for obj in detected_objects}\n",
    "\n",
    "\n",
    "def save_results(save_dir: str, key: str, video_id: str, results: Dict[str, Dict]):\n",
    "    for dir_type in ['object_detection', 'object_count']:\n",
    "        full_dir = os.path.join(save_dir, dir_type, key, video_id)\n",
    "        create_directory(full_dir)\n",
    "\n",
    "    for image_path, data in results.items():\n",
    "        base_name = os.path.basename(image_path).replace('.jpg', '')\n",
    "        for data_type, content in [('detection', 'detected_objects'), ('counts', 'class_counts')]:\n",
    "            json_path = os.path.join(\n",
    "                save_dir, f'object_{data_type}', key, video_id, f'{base_name}_{data_type}.json')\n",
    "            create_directory(os.path.dirname(json_path))\n",
    "            with open(json_path, 'w') as f:\n",
    "                json.dump(data[content], f, indent=4)\n",
    "\n",
    "\n",
    "def process_video(detector: ObjectDetector, image_paths: List[str]) -> Dict[str, Dict]:\n",
    "    video_results = {}\n",
    "    for image_path in image_paths:\n",
    "        detected_objects = detector.detect(image_path)\n",
    "        if detected_objects:\n",
    "            class_counts = count_objects_by_class(detected_objects)\n",
    "            video_results[image_path] = {\n",
    "                'detected_objects': detected_objects,\n",
    "                'class_counts': class_counts\n",
    "            }\n",
    "    return video_results\n",
    "\n",
    "\n",
    "def process_and_save_results(detector: ObjectDetector, all_keyframe_paths: Dict[str, Dict[str, List[str]]], save_dir: str):\n",
    "    for key, videos in all_keyframe_paths.items():\n",
    "        for video_id, image_paths in tqdm(videos.items(), desc=f\"Processing {key}\"):\n",
    "            video_results = process_video(detector, image_paths)\n",
    "            save_results(save_dir, key, video_id, video_results)"
   ]
  },
  {
   "cell_type": "code",
   "execution_count": null,
   "metadata": {},
   "outputs": [],
   "source": [
    "model_path = 'yolov8n.pt'\n",
    "\n",
    "detector = ObjectDetector(model_path)\n",
    "all_keyframe_paths = parse_keyframe_info(keyframes_dir)\n",
    "process_and_save_results(detector, all_keyframe_paths, save_dir)"
   ]
  }
 ],
 "metadata": {
  "kernelspec": {
   "display_name": "venv",
   "language": "python",
   "name": "python3"
  },
  "language_info": {
   "codemirror_mode": {
    "name": "ipython",
    "version": 3
   },
   "file_extension": ".py",
   "mimetype": "text/x-python",
   "name": "python",
   "nbconvert_exporter": "python",
   "pygments_lexer": "ipython3",
   "version": "3.9.19"
  }
 },
 "nbformat": 4,
 "nbformat_minor": 2
}
