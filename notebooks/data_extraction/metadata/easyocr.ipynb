{
 "cells": [
  {
   "cell_type": "markdown",
   "metadata": {},
   "source": [
    "# Setup"
   ]
  },
  {
   "cell_type": "code",
   "execution_count": null,
   "metadata": {
    "tags": [
     "parameters"
    ]
   },
   "outputs": [],
   "source": [
    "# Parameters\n",
    "bs = None\n",
    "keyframes_dir = None\n",
    "save_dir = None"
   ]
  },
  {
   "cell_type": "code",
   "execution_count": null,
   "metadata": {},
   "outputs": [],
   "source": [
    "import os\n",
    "\n",
    "dir_path = os.getcwd()\n",
    "\n",
    "if not keyframes_dir:\n",
    "    if 'google.colab' in str(get_ipython()):\n",
    "        # Update this path as necessary\n",
    "        keyframes_dir = f'{dir_path}/keyframes'\n",
    "    elif 'kaggle' in str(get_ipython()):\n",
    "        keyframes_dir = f'{dir_path}/keyframes'\n",
    "    else:\n",
    "        parent_dir_path = os.path.dirname(dir_path)\n",
    "        keyframes_dir = f'{parent_dir_path}/transnet/keyframes'\n",
    "        \n",
    "if not bs:\n",
    "    bs = 16\n",
    "    \n",
    "if not save_dir:\n",
    "    save_dir = './ocr'"
   ]
  },
  {
   "cell_type": "code",
   "execution_count": null,
   "metadata": {},
   "outputs": [
    {
     "name": "stdout",
     "output_type": "stream",
     "text": [
      "Requirement already satisfied: easyocr in /home/heigatvu/my-project/competition/HCMC-AI/pipeline-hcm-ai/venv/lib/python3.9/site-packages (1.7.1)\n",
      "Requirement already satisfied: torch in /home/heigatvu/my-project/competition/HCMC-AI/pipeline-hcm-ai/venv/lib/python3.9/site-packages (from easyocr) (2.3.1)\n",
      "Requirement already satisfied: torchvision>=0.5 in /home/heigatvu/my-project/competition/HCMC-AI/pipeline-hcm-ai/venv/lib/python3.9/site-packages (from easyocr) (0.18.1)\n",
      "Requirement already satisfied: opencv-python-headless in /home/heigatvu/my-project/competition/HCMC-AI/pipeline-hcm-ai/venv/lib/python3.9/site-packages (from easyocr) (4.10.0.84)\n",
      "Requirement already satisfied: scipy in /home/heigatvu/my-project/competition/HCMC-AI/pipeline-hcm-ai/venv/lib/python3.9/site-packages (from easyocr) (1.13.1)\n",
      "Requirement already satisfied: numpy in /home/heigatvu/my-project/competition/HCMC-AI/pipeline-hcm-ai/venv/lib/python3.9/site-packages (from easyocr) (1.26.4)\n",
      "Requirement already satisfied: Pillow in /home/heigatvu/my-project/competition/HCMC-AI/pipeline-hcm-ai/venv/lib/python3.9/site-packages (from easyocr) (10.4.0)\n",
      "Requirement already satisfied: scikit-image in /home/heigatvu/my-project/competition/HCMC-AI/pipeline-hcm-ai/venv/lib/python3.9/site-packages (from easyocr) (0.24.0)\n",
      "Requirement already satisfied: python-bidi in /home/heigatvu/my-project/competition/HCMC-AI/pipeline-hcm-ai/venv/lib/python3.9/site-packages (from easyocr) (0.6.0)\n",
      "Requirement already satisfied: PyYAML in /home/heigatvu/my-project/competition/HCMC-AI/pipeline-hcm-ai/venv/lib/python3.9/site-packages (from easyocr) (6.0.2)\n",
      "Requirement already satisfied: Shapely in /home/heigatvu/my-project/competition/HCMC-AI/pipeline-hcm-ai/venv/lib/python3.9/site-packages (from easyocr) (2.0.6)\n",
      "Requirement already satisfied: pyclipper in /home/heigatvu/my-project/competition/HCMC-AI/pipeline-hcm-ai/venv/lib/python3.9/site-packages (from easyocr) (1.3.0.post5)\n",
      "Requirement already satisfied: ninja in /home/heigatvu/my-project/competition/HCMC-AI/pipeline-hcm-ai/venv/lib/python3.9/site-packages (from easyocr) (1.11.1.1)\n",
      "Requirement already satisfied: filelock in /home/heigatvu/my-project/competition/HCMC-AI/pipeline-hcm-ai/venv/lib/python3.9/site-packages (from torch->easyocr) (3.15.4)\n",
      "Requirement already satisfied: typing-extensions>=4.8.0 in /home/heigatvu/my-project/competition/HCMC-AI/pipeline-hcm-ai/venv/lib/python3.9/site-packages (from torch->easyocr) (4.12.2)\n",
      "Requirement already satisfied: sympy in /home/heigatvu/my-project/competition/HCMC-AI/pipeline-hcm-ai/venv/lib/python3.9/site-packages (from torch->easyocr) (1.13.2)\n",
      "Requirement already satisfied: networkx in /home/heigatvu/my-project/competition/HCMC-AI/pipeline-hcm-ai/venv/lib/python3.9/site-packages (from torch->easyocr) (3.2.1)\n",
      "Requirement already satisfied: jinja2 in /home/heigatvu/my-project/competition/HCMC-AI/pipeline-hcm-ai/venv/lib/python3.9/site-packages (from torch->easyocr) (3.1.4)\n",
      "Requirement already satisfied: fsspec in /home/heigatvu/my-project/competition/HCMC-AI/pipeline-hcm-ai/venv/lib/python3.9/site-packages (from torch->easyocr) (2024.6.1)\n",
      "Requirement already satisfied: nvidia-cuda-nvrtc-cu12==12.1.105 in /home/heigatvu/my-project/competition/HCMC-AI/pipeline-hcm-ai/venv/lib/python3.9/site-packages (from torch->easyocr) (12.1.105)\n",
      "Requirement already satisfied: nvidia-cuda-runtime-cu12==12.1.105 in /home/heigatvu/my-project/competition/HCMC-AI/pipeline-hcm-ai/venv/lib/python3.9/site-packages (from torch->easyocr) (12.1.105)\n",
      "Requirement already satisfied: nvidia-cuda-cupti-cu12==12.1.105 in /home/heigatvu/my-project/competition/HCMC-AI/pipeline-hcm-ai/venv/lib/python3.9/site-packages (from torch->easyocr) (12.1.105)\n",
      "Requirement already satisfied: nvidia-cudnn-cu12==8.9.2.26 in /home/heigatvu/my-project/competition/HCMC-AI/pipeline-hcm-ai/venv/lib/python3.9/site-packages (from torch->easyocr) (8.9.2.26)\n",
      "Requirement already satisfied: nvidia-cublas-cu12==12.1.3.1 in /home/heigatvu/my-project/competition/HCMC-AI/pipeline-hcm-ai/venv/lib/python3.9/site-packages (from torch->easyocr) (12.1.3.1)\n",
      "Requirement already satisfied: nvidia-cufft-cu12==11.0.2.54 in /home/heigatvu/my-project/competition/HCMC-AI/pipeline-hcm-ai/venv/lib/python3.9/site-packages (from torch->easyocr) (11.0.2.54)\n",
      "Requirement already satisfied: nvidia-curand-cu12==10.3.2.106 in /home/heigatvu/my-project/competition/HCMC-AI/pipeline-hcm-ai/venv/lib/python3.9/site-packages (from torch->easyocr) (10.3.2.106)\n",
      "Requirement already satisfied: nvidia-cusolver-cu12==11.4.5.107 in /home/heigatvu/my-project/competition/HCMC-AI/pipeline-hcm-ai/venv/lib/python3.9/site-packages (from torch->easyocr) (11.4.5.107)\n",
      "Requirement already satisfied: nvidia-cusparse-cu12==12.1.0.106 in /home/heigatvu/my-project/competition/HCMC-AI/pipeline-hcm-ai/venv/lib/python3.9/site-packages (from torch->easyocr) (12.1.0.106)\n",
      "Requirement already satisfied: nvidia-nccl-cu12==2.20.5 in /home/heigatvu/my-project/competition/HCMC-AI/pipeline-hcm-ai/venv/lib/python3.9/site-packages (from torch->easyocr) (2.20.5)\n",
      "Requirement already satisfied: nvidia-nvtx-cu12==12.1.105 in /home/heigatvu/my-project/competition/HCMC-AI/pipeline-hcm-ai/venv/lib/python3.9/site-packages (from torch->easyocr) (12.1.105)\n",
      "Requirement already satisfied: triton==2.3.1 in /home/heigatvu/my-project/competition/HCMC-AI/pipeline-hcm-ai/venv/lib/python3.9/site-packages (from torch->easyocr) (2.3.1)\n",
      "Requirement already satisfied: nvidia-nvjitlink-cu12 in /home/heigatvu/my-project/competition/HCMC-AI/pipeline-hcm-ai/venv/lib/python3.9/site-packages (from nvidia-cusolver-cu12==11.4.5.107->torch->easyocr) (12.3.101)\n",
      "Requirement already satisfied: imageio>=2.33 in /home/heigatvu/my-project/competition/HCMC-AI/pipeline-hcm-ai/venv/lib/python3.9/site-packages (from scikit-image->easyocr) (2.35.1)\n",
      "Requirement already satisfied: tifffile>=2022.8.12 in /home/heigatvu/my-project/competition/HCMC-AI/pipeline-hcm-ai/venv/lib/python3.9/site-packages (from scikit-image->easyocr) (2024.8.10)\n",
      "Requirement already satisfied: packaging>=21 in /home/heigatvu/my-project/competition/HCMC-AI/pipeline-hcm-ai/venv/lib/python3.9/site-packages (from scikit-image->easyocr) (24.1)\n",
      "Requirement already satisfied: lazy-loader>=0.4 in /home/heigatvu/my-project/competition/HCMC-AI/pipeline-hcm-ai/venv/lib/python3.9/site-packages (from scikit-image->easyocr) (0.4)\n",
      "Requirement already satisfied: MarkupSafe>=2.0 in /home/heigatvu/my-project/competition/HCMC-AI/pipeline-hcm-ai/venv/lib/python3.9/site-packages (from jinja2->torch->easyocr) (2.1.5)\n",
      "Requirement already satisfied: mpmath<1.4,>=1.1.0 in /home/heigatvu/my-project/competition/HCMC-AI/pipeline-hcm-ai/venv/lib/python3.9/site-packages (from sympy->torch->easyocr) (1.3.0)\n",
      "Requirement already satisfied: aiohttp in /home/heigatvu/my-project/competition/HCMC-AI/pipeline-hcm-ai/venv/lib/python3.9/site-packages (3.10.5)\n",
      "Requirement already satisfied: aiofiles in /home/heigatvu/my-project/competition/HCMC-AI/pipeline-hcm-ai/venv/lib/python3.9/site-packages (24.1.0)\n",
      "Requirement already satisfied: aiohappyeyeballs>=2.3.0 in /home/heigatvu/my-project/competition/HCMC-AI/pipeline-hcm-ai/venv/lib/python3.9/site-packages (from aiohttp) (2.4.0)\n",
      "Requirement already satisfied: aiosignal>=1.1.2 in /home/heigatvu/my-project/competition/HCMC-AI/pipeline-hcm-ai/venv/lib/python3.9/site-packages (from aiohttp) (1.3.1)\n",
      "Requirement already satisfied: attrs>=17.3.0 in /home/heigatvu/my-project/competition/HCMC-AI/pipeline-hcm-ai/venv/lib/python3.9/site-packages (from aiohttp) (24.2.0)\n",
      "Requirement already satisfied: frozenlist>=1.1.1 in /home/heigatvu/my-project/competition/HCMC-AI/pipeline-hcm-ai/venv/lib/python3.9/site-packages (from aiohttp) (1.4.1)\n",
      "Requirement already satisfied: multidict<7.0,>=4.5 in /home/heigatvu/my-project/competition/HCMC-AI/pipeline-hcm-ai/venv/lib/python3.9/site-packages (from aiohttp) (6.0.5)\n",
      "Requirement already satisfied: yarl<2.0,>=1.0 in /home/heigatvu/my-project/competition/HCMC-AI/pipeline-hcm-ai/venv/lib/python3.9/site-packages (from aiohttp) (1.9.4)\n",
      "Requirement already satisfied: async-timeout<5.0,>=4.0 in /home/heigatvu/my-project/competition/HCMC-AI/pipeline-hcm-ai/venv/lib/python3.9/site-packages (from aiohttp) (4.0.3)\n",
      "Requirement already satisfied: idna>=2.0 in /home/heigatvu/my-project/competition/HCMC-AI/pipeline-hcm-ai/venv/lib/python3.9/site-packages (from yarl<2.0,>=1.0->aiohttp) (2.10)\n"
     ]
    }
   ],
   "source": [
    "! pip install easyocr\n",
    "! pip install aiohttp aiofiles"
   ]
  },
  {
   "cell_type": "code",
   "execution_count": null,
   "metadata": {},
   "outputs": [],
   "source": [
    "import os\n",
    "import json\n",
    "import asyncio\n",
    "import glob\n",
    "from tqdm import tqdm\n",
    "import easyocr\n",
    "from googletrans import Translator\n",
    "import aiofiles\n",
    "import torch"
   ]
  },
  {
   "cell_type": "markdown",
   "metadata": {},
   "source": [
    "# Parse data path"
   ]
  },
  {
   "cell_type": "code",
   "execution_count": null,
   "metadata": {},
   "outputs": [],
   "source": [
    "def parse_keyframe_info(keyframes_dir):\n",
    "    all_keyframe_paths = {}\n",
    "    for part in sorted(os.listdir(keyframes_dir)):\n",
    "        data_part_path = f'{keyframes_dir}/{part}'\n",
    "        data_part = part.split('/')[-1]\n",
    "        all_keyframe_paths[data_part] = []\n",
    "        image_path = sorted(glob.glob(f'{data_part_path}/*.jpg'))\n",
    "        all_keyframe_paths[data_part] = image_path\n",
    "    return all_keyframe_paths"
   ]
  },
  {
   "cell_type": "markdown",
   "metadata": {},
   "source": [
    "# Inference"
   ]
  },
  {
   "cell_type": "code",
   "execution_count": null,
   "metadata": {},
   "outputs": [],
   "source": [
    "async def create_directory(path):\n",
    "    \"\"\"Create a directory if it does not exist.\"\"\"\n",
    "    os.makedirs(path, exist_ok=True)\n",
    "\n",
    "async def save_ocr_results(save_dir, video_id, ocr_results):\n",
    "    \"\"\"Save OCR results to a JSON file.\"\"\"\n",
    "    async with aiofiles.open(os.path.join(save_dir, f\"{video_id}.json\"), \"w\", encoding='utf-8') as jsonfile:\n",
    "        await jsonfile.write(json.dumps(ocr_results, ensure_ascii=False))\n",
    "\n",
    "async def process_image(reader, image_path):\n",
    "    \"\"\"Process a single image with OCR.\"\"\"\n",
    "    result = await asyncio.to_thread(reader.readtext, image_path)\n",
    "    refined_result = [item for item in result if item[2] > 0.5]\n",
    "    refined_result = easyocr.utils.get_paragraph(refined_result)\n",
    "    return [item[1] for item in refined_result]\n",
    "\n",
    "async def translate_text(text, translator):\n",
    "    \"\"\"Translate text using Google Translate.\"\"\"\n",
    "    try:\n",
    "        translation = await asyncio.to_thread(translator.translate, text, src='vi', dest='en')\n",
    "        return translation.text\n",
    "    except Exception as e:\n",
    "        print(f\"Translation error: {e}\")\n",
    "        return text  # Return the original text if translation fails\n",
    "\n",
    "# This code for asynchronous processing\n",
    "# async def process_video_keyframes(reader, translator, video_keyframe_paths, batch_size=16):\n",
    "#     \"\"\"Process keyframes of a video and perform OCR and translation.\"\"\"\n",
    "#     video_ocr_results = {}\n",
    "#     tasks = []\n",
    "\n",
    "#     for i in range(0, len(video_keyframe_paths), batch_size):\n",
    "#         batch = video_keyframe_paths[i:i+batch_size]\n",
    "#         for image_path in batch:\n",
    "#             task = asyncio.create_task(process_image(reader, image_path))\n",
    "#             tasks.append((os.path.basename(image_path), task))\n",
    "\n",
    "#     for frame_name, task in tasks:\n",
    "#         text_detected = await task\n",
    "#         if text_detected:\n",
    "#             # Join the OCR texts with a special delimiter\n",
    "#             joined_text = \" ||| \".join(text_detected)\n",
    "#             translated_text = await translate_text(joined_text, translator)\n",
    "            \n",
    "#             # Split the translated text back into separate items\n",
    "#             translated_items = translated_text.split(\" ||| \")\n",
    "            \n",
    "#             video_ocr_results[frame_name] = translated_items\n",
    "\n",
    "#     return video_ocr_results\n",
    "\n",
    "# This code for sequence processing\n",
    "async def process_video_keyframes(reader, translator, video_keyframe_paths, batch_size=16):\n",
    "    \"\"\"Process keyframes of a video and perform OCR and translation.\"\"\"\n",
    "    video_ocr_results = {}\n",
    "\n",
    "    for i in range(0, len(video_keyframe_paths), batch_size):\n",
    "        batch = video_keyframe_paths[i:i+batch_size]\n",
    "        for image_path in batch:\n",
    "            text_detected = await process_image(reader, image_path)\n",
    "            if text_detected:\n",
    "                # Join the OCR texts with a special delimiter\n",
    "                joined_text = \" ||| \".join(text_detected)\n",
    "                translated_text = await translate_text(joined_text, translator)\n",
    "                \n",
    "                # Split the translated text back into separate items\n",
    "                translated_items = translated_text.split(\" ||| \")\n",
    "                \n",
    "                video_ocr_results[os.path.basename(image_path)] = translated_items\n",
    "        \n",
    "        torch.cuda.empty_cache()  # Clear the GPU cache after each batch\n",
    "\n",
    "    return video_ocr_results\n",
    "\n",
    "async def ocr_and_save_results(reader, translator, all_keyframe_paths, save_dir, batch_size=16):\n",
    "    \"\"\"Perform OCR on keyframes, translate, and save results to JSON files.\"\"\"\n",
    "    await create_directory(save_dir)\n",
    "    keys = sorted(all_keyframe_paths.keys())\n",
    "\n",
    "    for key in tqdm(keys, desc=\"Processing keys\"):\n",
    "        video_keyframe_paths = all_keyframe_paths[key]\n",
    "        video_ocr_results = await process_video_keyframes(\n",
    "            reader, translator, video_keyframe_paths, batch_size)\n",
    "        await save_ocr_results(save_dir, key, video_ocr_results)"
   ]
  },
  {
   "cell_type": "code",
   "execution_count": null,
   "metadata": {},
   "outputs": [
    {
     "name": "stderr",
     "output_type": "stream",
     "text": [
      "Processing keys: 100%|██████████| 4/4 [16:19<00:00, 244.85s/it]\n"
     ]
    }
   ],
   "source": [
    "all_keyframe_paths = parse_keyframe_info(keyframes_dir)\n",
    "reader = easyocr.Reader(['vi'], gpu=True)\n",
    "translator = Translator()\n",
    "\n",
    "await ocr_and_save_results(reader, translator, all_keyframe_paths, save_dir, bs)"
   ]
  }
 ],
 "metadata": {
  "kernelspec": {
   "display_name": "python3",
   "language": "python",
   "name": "python3"
  },
  "language_info": {
   "codemirror_mode": {
    "name": "ipython",
    "version": 3
   },
   "file_extension": ".py",
   "mimetype": "text/x-python",
   "name": "python",
   "nbconvert_exporter": "python",
   "pygments_lexer": "ipython3",
   "version": "3.9.19"
  }
 },
 "nbformat": 4,
 "nbformat_minor": 2
}
