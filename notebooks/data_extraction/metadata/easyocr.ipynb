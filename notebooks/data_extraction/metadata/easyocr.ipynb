{
 "cells": [
  {
   "cell_type": "markdown",
   "metadata": {},
   "source": [
    "# Setup"
   ]
  },
  {
   "cell_type": "code",
   "execution_count": null,
   "metadata": {
    "tags": [
     "parameters"
    ]
   },
   "outputs": [],
   "source": [
    "# Parameters\n",
    "bs = None\n",
    "keyframes_dir = None\n",
    "save_dir = None"
   ]
  },
  {
   "cell_type": "code",
   "execution_count": null,
   "metadata": {},
   "outputs": [],
   "source": [
    "import os\n",
    "\n",
    "dir_path = os.getcwd()\n",
    "\n",
    "if not keyframes_dir:\n",
    "    if 'google.colab' in str(get_ipython()):\n",
    "        # Update this path as necessary\n",
    "        keyframes_dir = f'{dir_path}/Keyframes'\n",
    "    elif 'kaggle' in str(get_ipython()):\n",
    "        keyframes_dir = f'{dir_path}/Keyframes'\n",
    "    else:\n",
    "        parent_dir_path = os.path.dirname(dir_path)\n",
    "        keyframes_dir = f'{parent_dir_path}/transnet/Keyframes'\n",
    "        \n",
    "if not bs:\n",
    "    bs = 16\n",
    "    \n",
    "if not save_dir:\n",
    "    save_dir = './ocr'"
   ]
  },
  {
   "cell_type": "code",
   "execution_count": null,
   "metadata": {},
   "outputs": [
    {
     "name": "stdout",
     "output_type": "stream",
     "text": [
      "Requirement already satisfied: easyocr in /home/jiggle/personal/competition/hcm-ai/Pipeline_HCM_AI/venv/lib/python3.9/site-packages (1.7.1)\n",
      "Requirement already satisfied: torch in /home/jiggle/personal/competition/hcm-ai/Pipeline_HCM_AI/venv/lib/python3.9/site-packages (from easyocr) (2.3.1)\n",
      "Requirement already satisfied: torchvision>=0.5 in /home/jiggle/personal/competition/hcm-ai/Pipeline_HCM_AI/venv/lib/python3.9/site-packages (from easyocr) (0.18.1)\n",
      "Requirement already satisfied: opencv-python-headless in /home/jiggle/personal/competition/hcm-ai/Pipeline_HCM_AI/venv/lib/python3.9/site-packages (from easyocr) (4.10.0.84)\n",
      "Requirement already satisfied: scipy in /home/jiggle/personal/competition/hcm-ai/Pipeline_HCM_AI/venv/lib/python3.9/site-packages (from easyocr) (1.13.1)\n",
      "Requirement already satisfied: numpy in /home/jiggle/personal/competition/hcm-ai/Pipeline_HCM_AI/venv/lib/python3.9/site-packages (from easyocr) (1.23.3)\n",
      "Requirement already satisfied: Pillow in /home/jiggle/personal/competition/hcm-ai/Pipeline_HCM_AI/venv/lib/python3.9/site-packages (from easyocr) (10.4.0)\n",
      "Requirement already satisfied: scikit-image in /home/jiggle/personal/competition/hcm-ai/Pipeline_HCM_AI/venv/lib/python3.9/site-packages (from easyocr) (0.24.0)\n",
      "Requirement already satisfied: python-bidi in /home/jiggle/personal/competition/hcm-ai/Pipeline_HCM_AI/venv/lib/python3.9/site-packages (from easyocr) (0.5.1)\n",
      "Requirement already satisfied: PyYAML in /home/jiggle/personal/competition/hcm-ai/Pipeline_HCM_AI/venv/lib/python3.9/site-packages (from easyocr) (6.0.1)\n",
      "Requirement already satisfied: Shapely in /home/jiggle/personal/competition/hcm-ai/Pipeline_HCM_AI/venv/lib/python3.9/site-packages (from easyocr) (2.0.5)\n",
      "Requirement already satisfied: pyclipper in /home/jiggle/personal/competition/hcm-ai/Pipeline_HCM_AI/venv/lib/python3.9/site-packages (from easyocr) (1.3.0.post5)\n",
      "Requirement already satisfied: ninja in /home/jiggle/personal/competition/hcm-ai/Pipeline_HCM_AI/venv/lib/python3.9/site-packages (from easyocr) (1.11.1.1)\n",
      "Requirement already satisfied: filelock in /home/jiggle/personal/competition/hcm-ai/Pipeline_HCM_AI/venv/lib/python3.9/site-packages (from torch->easyocr) (3.15.4)\n",
      "Requirement already satisfied: typing-extensions>=4.8.0 in /home/jiggle/personal/competition/hcm-ai/Pipeline_HCM_AI/venv/lib/python3.9/site-packages (from torch->easyocr) (4.12.2)\n",
      "Requirement already satisfied: sympy in /home/jiggle/personal/competition/hcm-ai/Pipeline_HCM_AI/venv/lib/python3.9/site-packages (from torch->easyocr) (1.13.0)\n",
      "Requirement already satisfied: networkx in /home/jiggle/personal/competition/hcm-ai/Pipeline_HCM_AI/venv/lib/python3.9/site-packages (from torch->easyocr) (3.2.1)\n",
      "Requirement already satisfied: jinja2 in /home/jiggle/personal/competition/hcm-ai/Pipeline_HCM_AI/venv/lib/python3.9/site-packages (from torch->easyocr) (3.1.4)\n",
      "Requirement already satisfied: fsspec in /home/jiggle/personal/competition/hcm-ai/Pipeline_HCM_AI/venv/lib/python3.9/site-packages (from torch->easyocr) (2024.6.1)\n",
      "Requirement already satisfied: nvidia-cuda-nvrtc-cu12==12.1.105 in /home/jiggle/personal/competition/hcm-ai/Pipeline_HCM_AI/venv/lib/python3.9/site-packages (from torch->easyocr) (12.1.105)\n",
      "Requirement already satisfied: nvidia-cuda-runtime-cu12==12.1.105 in /home/jiggle/personal/competition/hcm-ai/Pipeline_HCM_AI/venv/lib/python3.9/site-packages (from torch->easyocr) (12.1.105)\n",
      "Requirement already satisfied: nvidia-cuda-cupti-cu12==12.1.105 in /home/jiggle/personal/competition/hcm-ai/Pipeline_HCM_AI/venv/lib/python3.9/site-packages (from torch->easyocr) (12.1.105)\n",
      "Requirement already satisfied: nvidia-cudnn-cu12==8.9.2.26 in /home/jiggle/personal/competition/hcm-ai/Pipeline_HCM_AI/venv/lib/python3.9/site-packages (from torch->easyocr) (8.9.2.26)\n",
      "Requirement already satisfied: nvidia-cublas-cu12==12.1.3.1 in /home/jiggle/personal/competition/hcm-ai/Pipeline_HCM_AI/venv/lib/python3.9/site-packages (from torch->easyocr) (12.1.3.1)\n",
      "Requirement already satisfied: nvidia-cufft-cu12==11.0.2.54 in /home/jiggle/personal/competition/hcm-ai/Pipeline_HCM_AI/venv/lib/python3.9/site-packages (from torch->easyocr) (11.0.2.54)\n",
      "Requirement already satisfied: nvidia-curand-cu12==10.3.2.106 in /home/jiggle/personal/competition/hcm-ai/Pipeline_HCM_AI/venv/lib/python3.9/site-packages (from torch->easyocr) (10.3.2.106)\n",
      "Requirement already satisfied: nvidia-cusolver-cu12==11.4.5.107 in /home/jiggle/personal/competition/hcm-ai/Pipeline_HCM_AI/venv/lib/python3.9/site-packages (from torch->easyocr) (11.4.5.107)\n",
      "Requirement already satisfied: nvidia-cusparse-cu12==12.1.0.106 in /home/jiggle/personal/competition/hcm-ai/Pipeline_HCM_AI/venv/lib/python3.9/site-packages (from torch->easyocr) (12.1.0.106)\n",
      "Requirement already satisfied: nvidia-nccl-cu12==2.20.5 in /home/jiggle/personal/competition/hcm-ai/Pipeline_HCM_AI/venv/lib/python3.9/site-packages (from torch->easyocr) (2.20.5)\n",
      "Requirement already satisfied: nvidia-nvtx-cu12==12.1.105 in /home/jiggle/personal/competition/hcm-ai/Pipeline_HCM_AI/venv/lib/python3.9/site-packages (from torch->easyocr) (12.1.105)\n",
      "Requirement already satisfied: triton==2.3.1 in /home/jiggle/personal/competition/hcm-ai/Pipeline_HCM_AI/venv/lib/python3.9/site-packages (from torch->easyocr) (2.3.1)\n",
      "Requirement already satisfied: nvidia-nvjitlink-cu12 in /home/jiggle/personal/competition/hcm-ai/Pipeline_HCM_AI/venv/lib/python3.9/site-packages (from nvidia-cusolver-cu12==11.4.5.107->torch->easyocr) (12.5.82)\n",
      "Requirement already satisfied: imageio>=2.33 in /home/jiggle/personal/competition/hcm-ai/Pipeline_HCM_AI/venv/lib/python3.9/site-packages (from scikit-image->easyocr) (2.34.2)\n",
      "Requirement already satisfied: tifffile>=2022.8.12 in /home/jiggle/personal/competition/hcm-ai/Pipeline_HCM_AI/venv/lib/python3.9/site-packages (from scikit-image->easyocr) (2024.7.24)\n",
      "Requirement already satisfied: packaging>=21 in /home/jiggle/personal/competition/hcm-ai/Pipeline_HCM_AI/venv/lib/python3.9/site-packages (from scikit-image->easyocr) (24.1)\n",
      "Requirement already satisfied: lazy-loader>=0.4 in /home/jiggle/personal/competition/hcm-ai/Pipeline_HCM_AI/venv/lib/python3.9/site-packages (from scikit-image->easyocr) (0.4)\n",
      "Requirement already satisfied: MarkupSafe>=2.0 in /home/jiggle/personal/competition/hcm-ai/Pipeline_HCM_AI/venv/lib/python3.9/site-packages (from jinja2->torch->easyocr) (2.1.5)\n",
      "Requirement already satisfied: mpmath<1.4,>=1.1.0 in /home/jiggle/personal/competition/hcm-ai/Pipeline_HCM_AI/venv/lib/python3.9/site-packages (from sympy->torch->easyocr) (1.3.0)\n"
     ]
    }
   ],
   "source": [
    "! pip install easyocr"
   ]
  },
  {
   "cell_type": "code",
   "execution_count": null,
   "metadata": {},
   "outputs": [],
   "source": [
    "import os\n",
    "import glob\n",
    "import json\n",
    "import easyocr\n",
    "from tqdm import tqdm"
   ]
  },
  {
   "cell_type": "markdown",
   "metadata": {},
   "source": [
    "# Parse data path"
   ]
  },
  {
   "cell_type": "code",
   "execution_count": null,
   "metadata": {},
   "outputs": [],
   "source": [
    "def parse_keyframe_info(keyframes_dir = '../transnet/Keyframes'):\n",
    "    all_keyframe_paths = {}\n",
    "    for part in sorted(os.listdir(keyframes_dir)):\n",
    "        data_part = part.split('/')[-1]\n",
    "        all_keyframe_paths[data_part] = {}\n",
    "        \n",
    "    for data_part in sorted(all_keyframe_paths.keys()):\n",
    "        data_part_path = f'{keyframes_dir}/{data_part}'\n",
    "        video_dirs = sorted(os.listdir(data_part_path))\n",
    "        video_ids = [video_dir.split('_')[-1] for video_dir in video_dirs]\n",
    "        for video_id, video_dir in zip(video_ids, video_dirs):\n",
    "            keyframe_paths = sorted(\n",
    "                glob.glob(f'{data_part_path}/{video_dir}/*.jpg'))\n",
    "            all_keyframe_paths[data_part][video_id] = keyframe_paths\n",
    "    \n",
    "    return all_keyframe_paths"
   ]
  },
  {
   "cell_type": "markdown",
   "metadata": {},
   "source": [
    "# Inference"
   ]
  },
  {
   "cell_type": "code",
   "execution_count": null,
   "metadata": {},
   "outputs": [],
   "source": [
    "def create_directory(path):\n",
    "    \"\"\"Create a directory if it does not exist.\"\"\"\n",
    "    if not os.path.exists(path):\n",
    "        os.makedirs(path)\n",
    "\n",
    "\n",
    "def save_ocr_results(save_dir, key, video_id, ocr_results):\n",
    "    \"\"\"Save OCR results to a JSON file.\"\"\"\n",
    "    with open(os.path.join(save_dir, key, f\"{video_id}.json\"), \"w\", encoding='utf-8') as jsonfile:\n",
    "        json.dump(ocr_results, jsonfile, ensure_ascii=False, indent=4)\n",
    "\n",
    "\n",
    "def process_video_keyframes(reader, video_keyframe_paths, batch_size=16):\n",
    "    \"\"\"Process keyframes of a video and perform OCR.\"\"\"\n",
    "    video_ocr_results = {}\n",
    "\n",
    "    for i in range(0, len(video_keyframe_paths), batch_size):\n",
    "        image_paths = video_keyframe_paths[i:i+batch_size]\n",
    "        results = reader.readtext_batched(\n",
    "            image_paths, batch_size=len(image_paths))\n",
    "        for image_path, result in zip(image_paths, results):\n",
    "            frame_name = os.path.basename(image_path)\n",
    "            refined_result = [item for item in result if item[2] > 0.5]\n",
    "            refined_result = easyocr.utils.get_paragraph(refined_result)\n",
    "            text_detected = [item[1] for item in refined_result]\n",
    "            video_ocr_results[frame_name] = text_detected\n",
    "    return video_ocr_results\n",
    "\n",
    "\n",
    "def ocr_and_save_results(reader, all_keyframe_paths, save_dir, batch_size=16):\n",
    "    \"\"\"Perform OCR on keyframes and save results to JSON files.\"\"\"\n",
    "    create_directory(save_dir)\n",
    "    keys = sorted(all_keyframe_paths.keys())\n",
    "\n",
    "    for key in tqdm(keys, desc=\"Processing keys\"):\n",
    "        video_keyframe_paths = all_keyframe_paths[key]\n",
    "        video_ids = sorted(video_keyframe_paths.keys())\n",
    "        key_dir = os.path.join(save_dir, key)\n",
    "        create_directory(key_dir)\n",
    "\n",
    "        for video_id in tqdm(video_ids, desc=f\"Processing {key}\"):\n",
    "            video_keyframe_path = video_keyframe_paths[video_id]\n",
    "            video_ocr_results = process_video_keyframes(\n",
    "                reader, video_keyframe_path, batch_size)\n",
    "            save_ocr_results(save_dir, key, video_id, video_ocr_results)"
   ]
  },
  {
   "cell_type": "code",
   "execution_count": null,
   "metadata": {},
   "outputs": [
    {
     "name": "stderr",
     "output_type": "stream",
     "text": [
      "Processing L01_extra: 100%|██████████| 1/1 [00:05<00:00,  5.02s/it]\n",
      "Processing L21_extra: 100%|██████████| 30/30 [02:08<00:00,  4.28s/it]\n",
      "Processing keys: 100%|██████████| 2/2 [02:13<00:00, 66.73s/it]\n"
     ]
    }
   ],
   "source": [
    "all_keyframe_paths = parse_keyframe_info(keyframes_dir)\n",
    "# this needs to run only once to load the model into memory\n",
    "reader = easyocr.Reader(['vi'], gpu=True)\n",
    "ocr_and_save_results(reader, all_keyframe_paths, save_dir, bs)"
   ]
  }
 ],
 "metadata": {
  "kernelspec": {
   "display_name": "venv",
   "language": "python",
   "name": "python3"
  },
  "language_info": {
   "codemirror_mode": {
    "name": "ipython",
    "version": 3
   },
   "file_extension": ".py",
   "mimetype": "text/x-python",
   "name": "python",
   "nbconvert_exporter": "python",
   "pygments_lexer": "ipython3"
  }
 },
 "nbformat": 4,
 "nbformat_minor": 2
}
