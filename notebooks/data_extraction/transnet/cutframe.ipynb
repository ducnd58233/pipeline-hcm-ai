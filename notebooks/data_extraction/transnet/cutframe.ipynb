{
 "cells": [
  {
   "cell_type": "markdown",
   "metadata": {},
   "source": [
    "# Setup"
   ]
  },
  {
   "cell_type": "code",
   "execution_count": null,
   "metadata": {
    "tags": [
     "parameters"
    ]
   },
   "outputs": [],
   "source": [
    "# Parameters\n",
    "videos_dir = None\n",
    "scene_json_dirs = None\n",
    "save_dir_all = None\n",
    "metadata_dir_all = None\n",
    "extract_metadata_only = None\n",
    "# Change this to the desired number of frames per segment\n",
    "num_frames_per_segment = None"
   ]
  },
  {
   "cell_type": "code",
   "execution_count": null,
   "metadata": {},
   "outputs": [],
   "source": [
    "import os\n",
    "\n",
    "dir_path = os.getcwd()\n",
    "\n",
    "\n",
    "if not videos_dir:\n",
    "    if 'google.colab' in str(get_ipython()):\n",
    "        # Update this path as necessary\n",
    "        videos_dir = f'{dir_path}/AIC_Video'\n",
    "    elif 'kaggle' in str(get_ipython()):\n",
    "        videos_dir = f'{dir_path}/AIC_Video'\n",
    "    else:\n",
    "        parent_dir_path = os.path.dirname(dir_path)\n",
    "        videos_dir = f'{parent_dir_path}/dataset/AIC_Video'\n",
    "    \n",
    "if not scene_json_dirs:\n",
    "    scene_json_dirs = f'{dir_path}/SceneJSON'\n",
    "    \n",
    "if not save_dir_all:\n",
    "    save_dir_all = f'{dir_path}/Keyframes'\n",
    "    \n",
    "if not metadata_dir_all:\n",
    "    metadata_dir_all = f'{dir_path}/Keyframes_Metadata'\n",
    "    \n",
    "if not extract_metadata_only:\n",
    "    extract_metadata_only = False\n",
    "    \n",
    "if not num_frames_per_segment:\n",
    "    num_frames_per_segment = 5  # Change this to the desired number of frames per segment"
   ]
  },
  {
   "cell_type": "code",
   "execution_count": null,
   "metadata": {},
   "outputs": [
    {
     "name": "stdout",
     "output_type": "stream",
     "text": [
      "fatal: destination path 'TransNetV2' already exists and is not an empty directory.\n"
     ]
    },
    {
     "name": "stdout",
     "output_type": "stream",
     "text": [
      "Updated Git hooks.\n",
      "Git LFS initialized.\n",
      "fetch: Fetching reference refs/heads/feat/app\n",
      "Checking out LFS objects: 100% (4/4), 0 B | 0 B/s, done.                        \n"
     ]
    }
   ],
   "source": [
    "!git clone https://github.com/soCzech/TransNetV2.git\n",
    "!git lfs install\n",
    "!cd TransNetV2\n",
    "!git lfs fetch https://github.com/soCzech/TransNetV2.git\n",
    "!git lfs checkout"
   ]
  },
  {
   "cell_type": "code",
   "execution_count": null,
   "metadata": {},
   "outputs": [],
   "source": [
    "import os\n",
    "import json\n",
    "import cv2\n",
    "import numpy as np\n",
    "from tqdm import tqdm"
   ]
  },
  {
   "cell_type": "markdown",
   "metadata": {},
   "source": [
    "# Process cutting frames"
   ]
  },
  {
   "cell_type": "code",
   "execution_count": null,
   "metadata": {},
   "outputs": [],
   "source": [
    "def numpy_to_python(obj):\n",
    "    \"\"\"Convert numpy types to standard Python types.\"\"\"\n",
    "    if isinstance(obj, np.integer):\n",
    "        return int(obj)\n",
    "    elif isinstance(obj, np.floating):\n",
    "        return float(obj)\n",
    "    elif isinstance(obj, np.ndarray):\n",
    "        return obj.tolist()\n",
    "    else:\n",
    "        return obj\n",
    "\n",
    "\n",
    "def parse_video_info(videos_dir):\n",
    "    \"\"\"Parse video information from the directory structure.\"\"\"\n",
    "    all_video_paths = {}\n",
    "    for part in sorted(os.listdir(videos_dir)):\n",
    "        data_part = part.split('_')[-1]\n",
    "        all_video_paths[data_part] = {}\n",
    "\n",
    "    for data_part in sorted(all_video_paths.keys()):\n",
    "        data_part_path = os.path.join(\n",
    "            videos_dir, f'Videos_{data_part}', 'video')\n",
    "        video_paths = sorted(os.listdir(data_part_path))\n",
    "        video_ids = [video_path.replace('.mp4', '').split(\n",
    "            '_')[-1] for video_path in video_paths]\n",
    "        for video_id, video_path in zip(video_ids, video_paths):\n",
    "            video_path_full = os.path.join(data_part_path, video_path)\n",
    "            all_video_paths[data_part][video_id] = video_path_full\n",
    "\n",
    "    return all_video_paths\n",
    "\n",
    "\n",
    "def get_evenly_spaced_frames(start_idx, end_idx, num_frames):\n",
    "    \"\"\"Get evenly spaced frame indices between start_idx and end_idx.\"\"\"\n",
    "    return np.linspace(start_idx, end_idx, num_frames, dtype=int)\n",
    "\n",
    "\n",
    "def get_frame_timestamp(frame_index, fps):\n",
    "    \"\"\"Convert frame index to timestamp in seconds.\"\"\"\n",
    "    return frame_index / fps\n",
    "\n",
    "\n",
    "def create_directory(directory):\n",
    "    \"\"\"Create a directory if it doesn't exist.\"\"\"\n",
    "    if not os.path.exists(directory):\n",
    "        os.makedirs(directory)\n",
    "\n",
    "\n",
    "def get_relative_path(path, base_dir):\n",
    "    \"\"\"Get the relative path from base_dir to path.\"\"\"\n",
    "    return os.path.relpath(path, base_dir)\n",
    "\n",
    "\n",
    "def get_video_fps(video_path):\n",
    "    \"\"\"Get the fps of a video file.\"\"\"\n",
    "    cap = cv2.VideoCapture(video_path)\n",
    "    fps = cap.get(cv2.CAP_PROP_FPS)\n",
    "    cap.release()\n",
    "    return fps\n",
    "\n",
    "\n",
    "def process_metadata(video_path, scene_json_path, save_dir, videos_dir, fps, num_frames_per_segment):\n",
    "    \"\"\"Process and extract metadata from video segments.\"\"\"\n",
    "    with open(scene_json_path, 'r') as f:\n",
    "        video_scenes = json.load(f)\n",
    "\n",
    "    frame_metadata = {}\n",
    "    video_id = os.path.basename(video_path).split('.')[0]\n",
    "\n",
    "    relative_video_path = get_relative_path(video_path, videos_dir)\n",
    "    keyframes_dir = os.path.dirname(os.path.dirname(save_dir))\n",
    "\n",
    "    for i, (start, end) in enumerate(video_scenes):\n",
    "        frame_indices = get_evenly_spaced_frames(\n",
    "            start, end, num_frames_per_segment)\n",
    "\n",
    "        for index in frame_indices:\n",
    "            timestamp = get_frame_timestamp(index, fps)\n",
    "            filename = f\"{index:06d}.jpg\"\n",
    "            filepath = os.path.join(save_dir, filename)\n",
    "            relative_frame_path = get_relative_path(filepath, keyframes_dir)\n",
    "\n",
    "            frame_metadata[f\"{video_id}_{index:06d}\"] = {\n",
    "                \"shot_index\": numpy_to_python(i),\n",
    "                \"frame_index\": numpy_to_python(index),\n",
    "                \"shot_start\": numpy_to_python(start),\n",
    "                \"shot_end\": numpy_to_python(end),\n",
    "                \"timestamp\": numpy_to_python(timestamp),\n",
    "                \"video_path\": relative_video_path,\n",
    "                \"frame_path\": relative_frame_path\n",
    "            }\n",
    "\n",
    "    return frame_metadata\n",
    "\n",
    "\n",
    "def sample_frames(video_path, scene_json_path, save_dir, videos_dir, fps, num_frames_per_segment):\n",
    "    \"\"\"Sample frames from video segments and save them to the specified directory.\"\"\"\n",
    "    create_directory(save_dir)\n",
    "\n",
    "    frame_metadata = process_metadata(\n",
    "        video_path, scene_json_path, save_dir, videos_dir, fps, num_frames_per_segment)\n",
    "\n",
    "    cap = cv2.VideoCapture(video_path)\n",
    "\n",
    "    for frame_id, metadata in frame_metadata.items():\n",
    "        index = metadata['frame_index']\n",
    "        cap.set(cv2.CAP_PROP_POS_FRAMES, index)\n",
    "        ret, frame = cap.read()\n",
    "        if ret:\n",
    "            filename = f\"{index:06d}.jpg\"\n",
    "            filepath = os.path.join(save_dir, filename)\n",
    "            if not cv2.imwrite(filepath, frame):\n",
    "                print('Failed to save frame:', filepath)\n",
    "        else:\n",
    "            print('Failed to read frame at index:', index)\n",
    "\n",
    "    cap.release()\n",
    "    return frame_metadata\n",
    "\n",
    "\n",
    "def process_videos(all_video_paths, scene_json_dirs, save_dir_all, metadata_dir_all, videos_dir, num_frames_per_segment, extract_only=False):\n",
    "    \"\"\"Process all videos: sample frames (if needed) and extract metadata.\"\"\"\n",
    "    create_directory(save_dir_all)\n",
    "    create_directory(metadata_dir_all)\n",
    "\n",
    "    for key in all_video_paths.keys():\n",
    "        save_dir = os.path.join(save_dir_all, key)\n",
    "\n",
    "        if not all_video_paths[key]:\n",
    "            print(f\"Skipping empty AIC_Video subdirectory: {key}\")\n",
    "            continue\n",
    "\n",
    "        scene_json_subdir = os.path.join(scene_json_dirs, key)\n",
    "        if not os.path.exists(scene_json_subdir) or not os.listdir(scene_json_subdir):\n",
    "            print(\n",
    "                f\"Skipping empty or non-existent SceneJSON subdirectory: {key}\")\n",
    "            continue\n",
    "\n",
    "        create_directory(save_dir)\n",
    "\n",
    "        video_paths_dict = all_video_paths[key]\n",
    "        video_ids = sorted(video_paths_dict.keys())\n",
    "\n",
    "        # Calculate fps once for this group of videos\n",
    "        first_video_path = video_paths_dict[video_ids[0]]\n",
    "        fps = get_video_fps(first_video_path)\n",
    "\n",
    "        for video_id in tqdm(video_ids, desc=f\"Processing videos in {key}\"):\n",
    "            video_path = video_paths_dict[video_id]\n",
    "            video_scene_path = os.path.join(\n",
    "                scene_json_dirs, key, f\"{video_id}.json\")\n",
    "\n",
    "            if not os.path.exists(video_scene_path):\n",
    "                print(f\"Skipping missing SceneJSON file: {video_scene_path}\")\n",
    "                continue\n",
    "\n",
    "            save_dir_video = os.path.join(save_dir, video_id)\n",
    "\n",
    "            if extract_only:\n",
    "                frame_metadata = process_metadata(\n",
    "                    video_path, video_scene_path, save_dir_video, videos_dir, fps, num_frames_per_segment)\n",
    "            else:\n",
    "                frame_metadata = sample_frames(\n",
    "                    video_path, video_scene_path, save_dir_video, videos_dir, fps, num_frames_per_segment)\n",
    "\n",
    "            # Save metadata for this video\n",
    "            metadata_filename = os.path.join(\n",
    "                metadata_dir_all, f\"{key}_{video_id}.json\")\n",
    "            with open(metadata_filename, 'w') as f:\n",
    "                json.dump(frame_metadata, f, default=numpy_to_python)"
   ]
  },
  {
   "cell_type": "code",
   "execution_count": null,
   "metadata": {},
   "outputs": [
    {
     "name": "stderr",
     "output_type": "stream",
     "text": [
      "Processing videos in L01:   0%|          | 0/1 [00:00<?, ?it/s]"
     ]
    },
    {
     "name": "stderr",
     "output_type": "stream",
     "text": [
      "Processing videos in L01:   0%|          | 0/1 [00:23<?, ?it/s]\n"
     ]
    },
    {
     "ename": "KeyboardInterrupt",
     "evalue": "",
     "output_type": "error",
     "traceback": [
      "\u001b[0;31m---------------------------------------------------------------------------\u001b[0m",
      "\u001b[0;31mKeyboardInterrupt\u001b[0m                         Traceback (most recent call last)",
      "Cell \u001b[0;32mIn[6], line 2\u001b[0m\n\u001b[1;32m      1\u001b[0m all_video_paths \u001b[38;5;241m=\u001b[39m parse_video_info(videos_dir)\n\u001b[0;32m----> 2\u001b[0m \u001b[43mprocess_videos\u001b[49m\u001b[43m(\u001b[49m\u001b[43mall_video_paths\u001b[49m\u001b[43m,\u001b[49m\u001b[43m \u001b[49m\u001b[43mscene_json_dirs\u001b[49m\u001b[43m,\u001b[49m\u001b[43m \u001b[49m\u001b[43msave_dir_all\u001b[49m\u001b[43m,\u001b[49m\n\u001b[1;32m      3\u001b[0m \u001b[43m               \u001b[49m\u001b[43mmetadata_dir_all\u001b[49m\u001b[43m,\u001b[49m\u001b[43m \u001b[49m\u001b[43mvideos_dir\u001b[49m\u001b[43m,\u001b[49m\u001b[43m \u001b[49m\u001b[43mnum_frames_per_segment\u001b[49m\u001b[43m,\u001b[49m\u001b[43m \u001b[49m\u001b[43mextract_only\u001b[49m\u001b[38;5;241;43m=\u001b[39;49m\u001b[38;5;28;43;01mFalse\u001b[39;49;00m\u001b[43m)\u001b[49m\n",
      "Cell \u001b[0;32mIn[5], line 163\u001b[0m, in \u001b[0;36mprocess_videos\u001b[0;34m(all_video_paths, scene_json_dirs, save_dir_all, metadata_dir_all, videos_dir, num_frames_per_segment, extract_only)\u001b[0m\n\u001b[1;32m    160\u001b[0m     frame_metadata \u001b[38;5;241m=\u001b[39m process_metadata(\n\u001b[1;32m    161\u001b[0m         video_path, video_scene_path, save_dir_video, videos_dir, fps, num_frames_per_segment)\n\u001b[1;32m    162\u001b[0m \u001b[38;5;28;01melse\u001b[39;00m:\n\u001b[0;32m--> 163\u001b[0m     frame_metadata \u001b[38;5;241m=\u001b[39m \u001b[43msample_frames\u001b[49m\u001b[43m(\u001b[49m\n\u001b[1;32m    164\u001b[0m \u001b[43m        \u001b[49m\u001b[43mvideo_path\u001b[49m\u001b[43m,\u001b[49m\u001b[43m \u001b[49m\u001b[43mvideo_scene_path\u001b[49m\u001b[43m,\u001b[49m\u001b[43m \u001b[49m\u001b[43msave_dir_video\u001b[49m\u001b[43m,\u001b[49m\u001b[43m \u001b[49m\u001b[43mvideos_dir\u001b[49m\u001b[43m,\u001b[49m\u001b[43m \u001b[49m\u001b[43mfps\u001b[49m\u001b[43m,\u001b[49m\u001b[43m \u001b[49m\u001b[43mnum_frames_per_segment\u001b[49m\u001b[43m)\u001b[49m\n\u001b[1;32m    166\u001b[0m \u001b[38;5;66;03m# Save metadata for this video\u001b[39;00m\n\u001b[1;32m    167\u001b[0m metadata_filename \u001b[38;5;241m=\u001b[39m os\u001b[38;5;241m.\u001b[39mpath\u001b[38;5;241m.\u001b[39mjoin(\n\u001b[1;32m    168\u001b[0m     metadata_dir_all, \u001b[38;5;124mf\u001b[39m\u001b[38;5;124m\"\u001b[39m\u001b[38;5;132;01m{\u001b[39;00mkey\u001b[38;5;132;01m}\u001b[39;00m\u001b[38;5;124m_\u001b[39m\u001b[38;5;132;01m{\u001b[39;00mvideo_id\u001b[38;5;132;01m}\u001b[39;00m\u001b[38;5;124m.json\u001b[39m\u001b[38;5;124m\"\u001b[39m)\n",
      "Cell \u001b[0;32mIn[5], line 107\u001b[0m, in \u001b[0;36msample_frames\u001b[0;34m(video_path, scene_json_path, save_dir, videos_dir, fps, num_frames_per_segment)\u001b[0m\n\u001b[1;32m    105\u001b[0m \u001b[38;5;28;01mfor\u001b[39;00m frame_id, metadata \u001b[38;5;129;01min\u001b[39;00m frame_metadata\u001b[38;5;241m.\u001b[39mitems():\n\u001b[1;32m    106\u001b[0m     index \u001b[38;5;241m=\u001b[39m metadata[\u001b[38;5;124m'\u001b[39m\u001b[38;5;124mframe_index\u001b[39m\u001b[38;5;124m'\u001b[39m]\n\u001b[0;32m--> 107\u001b[0m     \u001b[43mcap\u001b[49m\u001b[38;5;241;43m.\u001b[39;49m\u001b[43mset\u001b[49m\u001b[43m(\u001b[49m\u001b[43mcv2\u001b[49m\u001b[38;5;241;43m.\u001b[39;49m\u001b[43mCAP_PROP_POS_FRAMES\u001b[49m\u001b[43m,\u001b[49m\u001b[43m \u001b[49m\u001b[43mindex\u001b[49m\u001b[43m)\u001b[49m\n\u001b[1;32m    108\u001b[0m     ret, frame \u001b[38;5;241m=\u001b[39m cap\u001b[38;5;241m.\u001b[39mread()\n\u001b[1;32m    109\u001b[0m     \u001b[38;5;28;01mif\u001b[39;00m ret:\n",
      "\u001b[0;31mKeyboardInterrupt\u001b[0m: "
     ]
    }
   ],
   "source": [
    "all_video_paths = parse_video_info(videos_dir)\n",
    "process_videos(all_video_paths, scene_json_dirs, save_dir_all,\n",
    "               metadata_dir_all, videos_dir, num_frames_per_segment, extract_only=False)"
   ]
  }
 ],
 "metadata": {
  "kernelspec": {
   "display_name": "python3",
   "language": "python",
   "name": "python3"
  },
  "language_info": {
   "codemirror_mode": {
    "name": "ipython",
    "version": 3
   },
   "file_extension": ".py",
   "mimetype": "text/x-python",
   "name": "python",
   "nbconvert_exporter": "python",
   "pygments_lexer": "ipython3",
   "version": "3.9.19"
  }
 },
 "nbformat": 4,
 "nbformat_minor": 2
}
