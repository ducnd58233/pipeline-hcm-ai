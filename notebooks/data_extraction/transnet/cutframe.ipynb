{
 "cells": [
  {
   "cell_type": "markdown",
   "metadata": {},
   "source": [
    "# Setup"
   ]
  },
  {
   "cell_type": "code",
   "execution_count": null,
   "metadata": {
    "tags": [
     "parameters"
    ]
   },
   "outputs": [],
   "source": [
    "# Parameters\n",
    "videos_dir = None\n",
    "scene_json_dirs = None\n",
    "save_dir_all = None\n",
    "metadata_dir_all = None\n",
    "extract_metadata_only = None\n",
    "# Change this to the desired number of frames per segment\n",
    "num_frames_per_segment = None"
   ]
  },
  {
   "cell_type": "code",
   "execution_count": null,
   "metadata": {},
   "outputs": [],
   "source": [
    "import os\n",
    "\n",
    "dir_path = os.getcwd()\n",
    "\n",
    "\n",
    "if not videos_dir:\n",
    "    if 'google.colab' in str(get_ipython()):\n",
    "        # Update this path as necessary\n",
    "        videos_dir = f'{dir_path}/AIC_Video'\n",
    "    elif 'kaggle' in str(get_ipython()):\n",
    "        videos_dir = f'{dir_path}/AIC_Video'\n",
    "    else:\n",
    "        parent_dir_path = os.path.dirname(dir_path)\n",
    "        videos_dir = f'{parent_dir_path}/dataset/AIC_Video'\n",
    "    \n",
    "if not scene_json_dirs:\n",
    "    scene_json_dirs = f'{dir_path}/SceneJSON'\n",
    "    \n",
    "if not save_dir_all:\n",
    "    save_dir_all = f'{dir_path}/Keyframes'\n",
    "    \n",
    "if not metadata_dir_all:\n",
    "    metadata_dir_all = f'{dir_path}/Keyframes_Metadata'\n",
    "    \n",
    "if not extract_metadata_only:\n",
    "    extract_metadata_only = False\n",
    "    \n",
    "if not num_frames_per_segment:\n",
    "    num_frames_per_segment = 3  # Change this to the desired number of frames per segment"
   ]
  },
  {
   "cell_type": "code",
   "execution_count": null,
   "metadata": {},
   "outputs": [
    {
     "name": "stdout",
     "output_type": "stream",
     "text": [
      "/home/heigatvu/my-project/competition/HCMC-AI/pipeline-hcm-ai/notebooks/data_extraction/transnet\n"
     ]
    }
   ],
   "source": [
    "print(dir_path)"
   ]
  },
  {
   "cell_type": "code",
   "execution_count": null,
   "metadata": {},
   "outputs": [
    {
     "name": "stdout",
     "output_type": "stream",
     "text": [
      "fatal: destination path 'TransNetV2' already exists and is not an empty directory.\n",
      "Updated Git hooks.\n",
      "Git LFS initialized.\n",
      "fetch: Fetching reference HEAD\n",
      "Checking out LFS objects: 100% (3/3), 0 B | 0 B/s, done.                        \n"
     ]
    }
   ],
   "source": [
    "!git clone https://github.com/soCzech/TransNetV2.git\n",
    "!git lfs install\n",
    "!cd TransNetV2\n",
    "!git lfs fetch https://github.com/soCzech/TransNetV2.git\n",
    "!git lfs checkout"
   ]
  },
  {
   "cell_type": "code",
   "execution_count": null,
   "metadata": {},
   "outputs": [
    {
     "name": "stderr",
     "output_type": "stream",
     "text": [
      "2024-08-21 22:27:19.936323: I tensorflow/core/util/port.cc:110] oneDNN custom operations are on. You may see slightly different numerical results due to floating-point round-off errors from different computation orders. To turn them off, set the environment variable `TF_ENABLE_ONEDNN_OPTS=0`.\n",
      "2024-08-21 22:27:19.937744: I tensorflow/tsl/cuda/cudart_stub.cc:28] Could not find cuda drivers on your machine, GPU will not be used.\n",
      "2024-08-21 22:27:19.971073: I tensorflow/core/platform/cpu_feature_guard.cc:182] This TensorFlow binary is optimized to use available CPU instructions in performance-critical operations.\n",
      "To enable the following instructions: AVX2 AVX_VNNI FMA, in other operations, rebuild TensorFlow with the appropriate compiler flags.\n",
      "2024-08-21 22:27:20.489494: W tensorflow/compiler/tf2tensorrt/utils/py_utils.cc:38] TF-TRT Warning: Could not find TensorRT\n"
     ]
    }
   ],
   "source": [
    "import os\n",
    "import json\n",
    "import cv2\n",
    "import numpy as np\n",
    "from tqdm import tqdm"
   ]
  },
  {
   "cell_type": "markdown",
   "metadata": {},
   "source": [
    "# Process cutting frames"
   ]
  },
  {
   "cell_type": "code",
   "execution_count": null,
   "metadata": {},
   "outputs": [],
   "source": [
    "def numpy_to_python(obj):\n",
    "    \"\"\"Convert numpy types to standard Python types.\"\"\"\n",
    "    if isinstance(obj, np.integer):\n",
    "        return int(obj)\n",
    "    elif isinstance(obj, np.floating):\n",
    "        return float(obj)\n",
    "    elif isinstance(obj, np.ndarray):\n",
    "        return obj.tolist()\n",
    "    else:\n",
    "        return obj\n",
    "\n",
    "\n",
    "def parse_video_info(videos_dir):\n",
    "    \"\"\"Parse video information from the directory structure.\"\"\"\n",
    "    all_video_paths = {}\n",
    "    for part in sorted(os.listdir(videos_dir)):\n",
    "        data_part = part.split('_')[-1]\n",
    "        all_video_paths[data_part] = {}\n",
    "\n",
    "    for data_part in sorted(all_video_paths.keys()):\n",
    "        data_part_path = os.path.join(\n",
    "            videos_dir, f'Videos_{data_part}', 'video')\n",
    "        video_paths = sorted(os.listdir(data_part_path))\n",
    "        video_ids = [video_path.replace('.mp4', '').split(\n",
    "            '_')[-1] for video_path in video_paths]\n",
    "        for video_id, video_path in zip(video_ids, video_paths):\n",
    "            video_path_full = os.path.join(data_part_path, video_path)\n",
    "            all_video_paths[data_part][video_id] = video_path_full\n",
    "\n",
    "    return all_video_paths\n",
    "\n",
    "\n",
    "def get_evenly_spaced_frames(start_idx, end_idx, num_frames):\n",
    "    \"\"\"Get evenly spaced frame indices between start_idx and end_idx.\"\"\"\n",
    "    return np.linspace(start_idx, end_idx, num_frames, dtype=int)\n",
    "\n",
    "\n",
    "def get_frame_timestamp(frame_index, fps):\n",
    "    \"\"\"Convert frame index to timestamp in seconds.\"\"\"\n",
    "    return frame_index / fps\n",
    "\n",
    "\n",
    "def create_directory(directory):\n",
    "    \"\"\"Create a directory if it doesn't exist.\"\"\"\n",
    "    if not os.path.exists(directory):\n",
    "        os.makedirs(directory)\n",
    "\n",
    "\n",
    "def get_relative_path(path, base_dir):\n",
    "    \"\"\"Get the relative path from base_dir to path.\"\"\"\n",
    "    return os.path.relpath(path, base_dir)\n",
    "\n",
    "\n",
    "def get_video_fps(video_path):\n",
    "    \"\"\"Get the fps of a video file.\"\"\"\n",
    "    cap = cv2.VideoCapture(video_path)\n",
    "    fps = cap.get(cv2.CAP_PROP_FPS)\n",
    "    cap.release()\n",
    "    return fps\n",
    "\n",
    "\n",
    "def process_metadata(video_path, scene_json_path, save_dir, videos_dir, fps, num_frames_per_segment):\n",
    "    \"\"\"Process and extract metadata from video segments.\"\"\"\n",
    "    with open(scene_json_path, 'r') as f:\n",
    "        video_scenes = json.load(f)\n",
    "\n",
    "    frame_metadata = {}\n",
    "    video_id = os.path.basename(video_path).split('.')[0]\n",
    "\n",
    "    relative_video_path = get_relative_path(video_path, videos_dir)\n",
    "    keyframes_dir = os.path.dirname(os.path.dirname(save_dir))\n",
    "\n",
    "    for i, (start, end) in enumerate(video_scenes):\n",
    "        frame_indices = get_evenly_spaced_frames(\n",
    "            start, end, num_frames_per_segment)\n",
    "\n",
    "        for index in frame_indices:\n",
    "            timestamp = get_frame_timestamp(index, fps)\n",
    "            filename = f\"{index:06d}.jpg\"\n",
    "            filepath = os.path.join(save_dir, filename)\n",
    "            relative_frame_path = get_relative_path(filepath, keyframes_dir)\n",
    "\n",
    "            frame_metadata[f\"{video_id}_{index:06d}\"] = {\n",
    "                \"shot_index\": numpy_to_python(i),\n",
    "                \"frame_index\": numpy_to_python(index),\n",
    "                \"shot_start\": numpy_to_python(start),\n",
    "                \"shot_end\": numpy_to_python(end),\n",
    "                \"timestamp\": numpy_to_python(timestamp),\n",
    "                \"video_path\": relative_video_path,\n",
    "                \"frame_path\": relative_frame_path\n",
    "            }\n",
    "\n",
    "    return frame_metadata\n",
    "\n",
    "\n",
    "def sample_frames(video_path, scene_json_path, save_dir, videos_dir, fps, num_frames_per_segment, width= 640, height= 640):\n",
    "    \"\"\"Sample frames from video segments and save them to the specified directory.\"\"\"\n",
    "    create_directory(save_dir)\n",
    "\n",
    "    frame_metadata = process_metadata(\n",
    "        video_path, scene_json_path, save_dir, videos_dir, fps, num_frames_per_segment)\n",
    "\n",
    "    cap = cv2.VideoCapture(video_path)\n",
    "\n",
    "    for frame_id, metadata in frame_metadata.items():\n",
    "        index = metadata['frame_index']\n",
    "        cap.set(cv2.CAP_PROP_POS_FRAMES, index)\n",
    "        ret, frame = cap.read()\n",
    "        if ret:\n",
    "            # Resize the frame to the desired dimensions\n",
    "            resized_frame = cv2.resize(frame, (width, height))\n",
    "            filename = f\"{index:06d}.jpg\"\n",
    "            filepath = os.path.join(save_dir, filename)\n",
    "            if not cv2.imwrite(filepath, resized_frame):\n",
    "                print('Failed to save frame:', filepath)\n",
    "        else:\n",
    "            print('Failed to read frame at index:', index)\n",
    "\n",
    "    cap.release()\n",
    "    return frame_metadata\n",
    "\n",
    "\n",
    "def process_videos(all_video_paths, scene_json_dirs, save_dir_all, metadata_dir_all, videos_dir, num_frames_per_segment, extract_only=False, width= 640, height= 640):\n",
    "    \"\"\"Process all videos: sample frames (if needed) and extract metadata.\"\"\"\n",
    "    create_directory(save_dir_all)\n",
    "    create_directory(metadata_dir_all)\n",
    "\n",
    "    for key in all_video_paths.keys():\n",
    "        save_dir = os.path.join(save_dir_all, key)\n",
    "\n",
    "        if not all_video_paths[key]:\n",
    "            print(f\"Skipping empty AIC_Video subdirectory: {key}\")\n",
    "            continue\n",
    "\n",
    "        scene_json_subdir = os.path.join(scene_json_dirs, key)\n",
    "        if not os.path.exists(scene_json_subdir) or not os.listdir(scene_json_subdir):\n",
    "            print(\n",
    "                f\"Skipping empty or non-existent SceneJSON subdirectory: {key}\")\n",
    "            continue\n",
    "\n",
    "        create_directory(save_dir)\n",
    "\n",
    "        video_paths_dict = all_video_paths[key]\n",
    "        video_ids = sorted(video_paths_dict.keys())\n",
    "\n",
    "        # Calculate fps once for this group of videos\n",
    "        first_video_path = video_paths_dict[video_ids[0]]\n",
    "        fps = get_video_fps(first_video_path)\n",
    "\n",
    "        for video_id in tqdm(video_ids, desc=f\"Processing videos in {key}\"):\n",
    "            video_path = video_paths_dict[video_id]\n",
    "            video_scene_path = os.path.join(\n",
    "                scene_json_dirs, key, f\"{video_id}.json\")\n",
    "\n",
    "            if not os.path.exists(video_scene_path):\n",
    "                print(f\"Skipping missing SceneJSON file: {video_scene_path}\")\n",
    "                continue\n",
    "\n",
    "            save_dir_video = os.path.join(save_dir, video_id)\n",
    "\n",
    "            if extract_only:\n",
    "                frame_metadata = process_metadata(\n",
    "                    video_path, video_scene_path, save_dir_video, videos_dir, fps, num_frames_per_segment)\n",
    "            else:\n",
    "                frame_metadata = sample_frames(\n",
    "                    video_path, video_scene_path, save_dir_video, videos_dir, fps, num_frames_per_segment, width= 640, height= 640)\n",
    "\n",
    "            # Save metadata for this video\n",
    "            metadata_filename = os.path.join(\n",
    "                metadata_dir_all, f\"{key}_{video_id}.json\")\n",
    "            with open(metadata_filename, 'w') as f:\n",
    "                json.dump(frame_metadata, f, default=numpy_to_python)"
   ]
  },
  {
   "cell_type": "code",
   "execution_count": null,
   "metadata": {},
   "outputs": [
    {
     "name": "stderr",
     "output_type": "stream",
     "text": [
      "Processing videos in L01:   0%|          | 0/2 [00:00<?, ?it/s]"
     ]
    },
    {
     "name": "stderr",
     "output_type": "stream",
     "text": [
      "Processing videos in L01: 100%|██████████| 2/2 [01:34<00:00, 47.21s/it]\n"
     ]
    }
   ],
   "source": [
    "all_video_paths = parse_video_info(videos_dir)\n",
    "process_videos(all_video_paths, scene_json_dirs, save_dir_all, num_frames_per_segment, width= 640, height= 640)"
   ]
  }
 ],
 "metadata": {
  "kernelspec": {
   "display_name": "python3",
   "language": "python",
   "name": "python3"
  },
  "language_info": {
   "codemirror_mode": {
    "name": "ipython",
    "version": 3
   },
   "file_extension": ".py",
   "mimetype": "text/x-python",
   "name": "python",
   "nbconvert_exporter": "python",
   "pygments_lexer": "ipython3",
   "version": "3.9.19"
  }
 },
 "nbformat": 4,
 "nbformat_minor": 2
}
