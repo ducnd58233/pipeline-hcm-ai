{
 "cells": [
  {
   "cell_type": "markdown",
   "metadata": {},
   "source": [
    "# Setup"
   ]
  },
  {
   "cell_type": "code",
   "execution_count": 1,
   "metadata": {},
   "outputs": [],
   "source": [
    "import os\n",
    "\n",
    "dir_path = os.getcwd()"
   ]
  },
  {
   "cell_type": "code",
   "execution_count": 2,
   "metadata": {},
   "outputs": [
    {
     "name": "stdout",
     "output_type": "stream",
     "text": [
      "fatal: destination path 'TransNetV2' already exists and is not an empty directory.\n",
      "Updated Git hooks.\n",
      "Git LFS initialized.\n",
      "fetch: Fetching reference refs/heads/feat/transnet\n"
     ]
    }
   ],
   "source": [
    "!git clone https://github.com/soCzech/TransNetV2.git\n",
    "!git lfs install\n",
    "!cd TransNetV2\n",
    "!git lfs fetch https://github.com/soCzech/TransNetV2.git\n",
    "!git lfs checkout"
   ]
  },
  {
   "cell_type": "code",
   "execution_count": 3,
   "metadata": {},
   "outputs": [
    {
     "name": "stderr",
     "output_type": "stream",
     "text": [
      "2024-07-21 01:34:25.973176: I tensorflow/tsl/cuda/cudart_stub.cc:28] Could not find cuda drivers on your machine, GPU will not be used.\n",
      "2024-07-21 01:34:26.138575: I tensorflow/core/platform/cpu_feature_guard.cc:182] This TensorFlow binary is optimized to use available CPU instructions in performance-critical operations.\n",
      "To enable the following instructions: AVX2 FMA, in other operations, rebuild TensorFlow with the appropriate compiler flags.\n",
      "2024-07-21 01:34:27.100789: W tensorflow/compiler/tf2tensorrt/utils/py_utils.cc:38] TF-TRT Warning: Could not find TensorRT\n"
     ]
    }
   ],
   "source": [
    "# Import module\n",
    "import os\n",
    "import cv2\n",
    "import json\n",
    "import glob\n",
    "import ffmpeg\n",
    "import torch\n",
    "import numpy as np\n",
    "from tqdm import tqdm\n",
    "from TransNetV2.inference.transnetv2 import TransNetV2"
   ]
  },
  {
   "cell_type": "markdown",
   "metadata": {},
   "source": [
    "# Process cutting frames"
   ]
  },
  {
   "cell_type": "code",
   "execution_count": 4,
   "metadata": {},
   "outputs": [],
   "source": [
    "def parse_video_info(videos_dir):\n",
    "    \"\"\"Parse video information from the directory structure.\"\"\"\n",
    "    all_video_paths = {}\n",
    "    for part in sorted(os.listdir(videos_dir)):\n",
    "        data_part = part.split('_')[-1]\n",
    "        all_video_paths[data_part] = {}\n",
    "\n",
    "    for data_part in sorted(all_video_paths.keys()):\n",
    "        data_part_path = f'{videos_dir}/Videos_{data_part}/video'\n",
    "        video_paths = sorted(os.listdir(data_part_path))\n",
    "        video_ids = [video_path.replace('.mp4', '').split(\n",
    "            '_')[-1] for video_path in video_paths]\n",
    "        for video_id, video_path in zip(video_ids, video_paths):\n",
    "            video_path_full = f'{data_part_path}/{video_path}'\n",
    "            all_video_paths[data_part][video_id] = video_path_full\n",
    "\n",
    "    return all_video_paths\n",
    "\n",
    "\n",
    "def get_evenly_spaced_frames(start_idx, end_idx, num_frames):\n",
    "    \"\"\"Get evenly spaced frame indices between start_idx and end_idx.\"\"\"\n",
    "    return np.linspace(start_idx, end_idx, num_frames).astype(int)\n",
    "\n",
    "\n",
    "def sample_frames(video_path, scene_json_path, save_dir, num_frames_per_segment, width=48, height=27):\n",
    "    \"\"\"Sample frames from video segments and save them to the specified directory.\"\"\"\n",
    "    if not os.path.exists(save_dir):\n",
    "        os.makedirs(save_dir)\n",
    "\n",
    "    with open(scene_json_path, 'r') as f:\n",
    "        video_scenes = json.load(f)\n",
    "\n",
    "    cap = cv2.VideoCapture(video_path)\n",
    "    for i, shot in enumerate(tqdm(video_scenes)):\n",
    "        shot_frames_id = get_evenly_spaced_frames(\n",
    "            shot[0], shot[1], num_frames_per_segment)\n",
    "        for index in shot_frames_id:\n",
    "            cap.set(cv2.CAP_PROP_POS_FRAMES, index)\n",
    "            ret, frame = cap.read()\n",
    "            if ret:\n",
    "                frame = cv2.resize(frame, (width, height))\n",
    "                filename = f\"{save_dir}/{index:06d}.jpg\"\n",
    "                if not cv2.imwrite(filename, frame):\n",
    "                    print('Failed to save frame:', filename)\n",
    "            else:\n",
    "                print('Failed to read frame at index:', index)\n",
    "    cap.release()\n",
    "\n",
    "\n",
    "def process_videos(all_video_paths, scene_json_dirs, save_dir_all, num_frames_per_segment):\n",
    "    \"\"\"Process all videos and sample frames from their scenes.\"\"\"\n",
    "    if not os.path.exists(save_dir_all):\n",
    "        os.mkdir(save_dir_all)\n",
    "\n",
    "    for key in all_video_paths.keys():\n",
    "        save_dir = f'{save_dir_all}/{key}_extra'\n",
    "\n",
    "        if not os.path.exists(save_dir):\n",
    "            os.mkdir(save_dir)\n",
    "\n",
    "        video_paths_dict = all_video_paths[key]\n",
    "        video_ids = sorted(video_paths_dict.keys())\n",
    "        for video_id in tqdm(video_ids):\n",
    "            video_path = video_paths_dict[video_id]\n",
    "            video_scene_path = f'{scene_json_dirs}/{key}/{video_id}.json'\n",
    "\n",
    "            save_dir_video = f'{save_dir}/{video_id}'\n",
    "            sample_frames(video_path, video_scene_path,\n",
    "                          save_dir_video, num_frames_per_segment)"
   ]
  },
  {
   "cell_type": "code",
   "execution_count": 5,
   "metadata": {},
   "outputs": [
    {
     "name": "stderr",
     "output_type": "stream",
     "text": [
      "100%|██████████| 269/269 [01:35<00:00,  2.81it/s]\n",
      "100%|██████████| 1/1 [01:35<00:00, 95.77s/it]\n"
     ]
    }
   ],
   "source": [
    "videos_dir = f'{dir_path}/AIC_Video'\n",
    "scene_json_dirs = f'{dir_path}/SceneJSON'\n",
    "save_dir_all = f'{dir_path}/Keyframes'\n",
    "num_frames_per_segment = 5  # Change this to the desired number of frames per segment\n",
    "\n",
    "all_video_paths = parse_video_info(videos_dir)\n",
    "process_videos(all_video_paths, scene_json_dirs, save_dir_all, num_frames_per_segment)"
   ]
  },
  {
   "cell_type": "code",
   "execution_count": null,
   "metadata": {},
   "outputs": [],
   "source": []
  }
 ],
 "metadata": {
  "kernelspec": {
   "display_name": "venv",
   "language": "python",
   "name": "python3"
  },
  "language_info": {
   "codemirror_mode": {
    "name": "ipython",
    "version": 3
   },
   "file_extension": ".py",
   "mimetype": "text/x-python",
   "name": "python",
   "nbconvert_exporter": "python",
   "pygments_lexer": "ipython3",
   "version": "3.9.19"
  }
 },
 "nbformat": 4,
 "nbformat_minor": 2
}
