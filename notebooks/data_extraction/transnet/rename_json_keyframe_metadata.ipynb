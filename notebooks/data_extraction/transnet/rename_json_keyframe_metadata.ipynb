{
 "cells": [
  {
   "cell_type": "code",
   "execution_count": null,
   "metadata": {},
   "outputs": [],
   "source": [
    "import json\n",
    "import os\n",
    "from tqdm import tqdm"
   ]
  },
  {
   "cell_type": "code",
   "execution_count": null,
   "metadata": {},
   "outputs": [],
   "source": [
    "def rename_keys(json_file):\n",
    "    # Read the JSON file\n",
    "    with open(json_file, 'r') as f:\n",
    "        data = json.load(f)\n",
    "    \n",
    "    # New dictionary to store renamed keys\n",
    "    new_data = {}\n",
    "    \n",
    "    # Rename keys with progress bar\n",
    "    for key, value in tqdm(data.items(), desc=\"Renaming keys\", leave=False):\n",
    "        parts = key.split('_')\n",
    "        if len(parts) == 4 and parts[-1] == 'extra':\n",
    "            new_key = f\"{parts[0]}_{parts[1]}_extra_{parts[2]}\"\n",
    "            new_data[new_key] = value\n",
    "        else:\n",
    "            new_data[key] = value  # Keep the key unchanged if it doesn't match the expected format\n",
    "    \n",
    "    # Write the updated data back to the JSON file\n",
    "    with open(json_file, 'w') as f:\n",
    "        json.dump(new_data, f)\n",
    "\n",
    "    return len(new_data)\n",
    "\n",
    "def process_folder(folder_path):\n",
    "    # Get list of relevant files\n",
    "    json_files = [f for f in os.listdir(folder_path) if f.endswith('_extra.json')]\n",
    "    \n",
    "    total_keys_renamed = 0\n",
    "    \n",
    "    # Process files with progress bar\n",
    "    for filename in tqdm(json_files, desc=\"Processing files\"):\n",
    "        file_path = os.path.join(folder_path, filename)\n",
    "        \n",
    "        # Count keys before renaming\n",
    "        with open(file_path, 'r') as f:\n",
    "            data = json.load(f)\n",
    "            keys_before = len(data)\n",
    "        \n",
    "        # Rename keys\n",
    "        keys_after = rename_keys(file_path)\n",
    "        \n",
    "        total_keys_renamed += (keys_after - keys_before)\n",
    "\n",
    "    return len(json_files), total_keys_renamed"
   ]
  },
  {
   "cell_type": "code",
   "execution_count": null,
   "metadata": {},
   "outputs": [
    {
     "name": "stderr",
     "output_type": "stream",
     "text": [
      "Processing files: 100%|██████████| 363/363 [00:04<00:00, 89.09it/s]"
     ]
    },
    {
     "name": "stdout",
     "output_type": "stream",
     "text": [
      "Keys renamed successfully.\n"
     ]
    },
    {
     "name": "stderr",
     "output_type": "stream",
     "text": [
      "\n"
     ]
    }
   ],
   "source": [
    "current_dir = os.getcwd()\n",
    "metadata_dir_all = f\"{current_dir}/keyframes_metadata\"\n",
    "\n",
    "process_folder(metadata_dir_all)\n",
    "print(\"Keys renamed successfully.\")"
   ]
  }
 ],
 "metadata": {
  "kernelspec": {
   "display_name": "venv",
   "language": "python",
   "name": "python3"
  },
  "language_info": {
   "codemirror_mode": {
    "name": "ipython",
    "version": 3
   },
   "file_extension": ".py",
   "mimetype": "text/x-python",
   "name": "python",
   "nbconvert_exporter": "python",
   "pygments_lexer": "ipython3",
   "version": "3.9.19"
  }
 },
 "nbformat": 4,
 "nbformat_minor": 2
}
