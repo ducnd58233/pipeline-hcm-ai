{
 "cells": [
  {
   "cell_type": "code",
   "execution_count": null,
   "metadata": {},
   "outputs": [],
   "source": [
    "import os\n",
    "import json\n",
    "import re"
   ]
  },
  {
   "cell_type": "code",
   "execution_count": null,
   "metadata": {},
   "outputs": [],
   "source": [
    "def rename_keys(json_file):\n",
    "    # Read the JSON file\n",
    "    with open(json_file, 'r') as f:\n",
    "        data = json.load(f)\n",
    "    \n",
    "    # New dictionary to store renamed keys\n",
    "    new_data = {}\n",
    "    \n",
    "    # Regular expression to match the key pattern\n",
    "    pattern = r'(L\\d+_V\\d+)_(\\d+)_(extra)'\n",
    "    \n",
    "    # Rename keys\n",
    "    for key, value in data.items():\n",
    "        if re.match(pattern, key):\n",
    "            new_key = re.sub(pattern, r'\\1_\\3_\\2', key)\n",
    "            new_data[new_key] = value\n",
    "        else:\n",
    "            new_data[key] = value  # Keep keys that don't match the pattern unchanged\n",
    "    \n",
    "    # Write the updated data back to the JSON file\n",
    "    with open(json_file, 'w') as f:\n",
    "        json.dump(new_data, f, indent=2)\n",
    "        \n",
    "        \n",
    "def process_folder(folder_path):\n",
    "    # Iterate through all files in the folder\n",
    "    for filename in os.listdir(folder_path):\n",
    "        if filename.endswith('_extra.json'):\n",
    "            file_path = os.path.join(folder_path, filename)\n",
    "            print(f\"Processing file: {filename}\")\n",
    "            rename_keys(file_path)\n",
    "            print(f\"Completed processing: {filename}\")"
   ]
  },
  {
   "cell_type": "code",
   "execution_count": null,
   "metadata": {},
   "outputs": [
    {
     "name": "stdout",
     "output_type": "stream",
     "text": [
      "Processing file: L01_V001_extra.json\n",
      "Completed processing: L01_V001_extra.json\n",
      "Processing file: L01_V002_extra.json\n",
      "Completed processing: L01_V002_extra.json\n",
      "Keys renamed successfully.\n"
     ]
    }
   ],
   "source": [
    "current_dir = os.getcwd()\n",
    "metadata_dir_all = f\"{current_dir}/keyframes_metadata\"\n",
    "process_folder(metadata_dir_all)\n",
    "print(\"Keys renamed successfully.\")"
   ]
  }
 ],
 "metadata": {
  "kernelspec": {
   "display_name": "venv",
   "language": "python",
   "name": "python3"
  },
  "language_info": {
   "codemirror_mode": {
    "name": "ipython",
    "version": 3
   },
   "file_extension": ".py",
   "mimetype": "text/x-python",
   "name": "python",
   "nbconvert_exporter": "python",
   "pygments_lexer": "ipython3",
   "version": "3.9.19"
  }
 },
 "nbformat": 4,
 "nbformat_minor": 2
}
