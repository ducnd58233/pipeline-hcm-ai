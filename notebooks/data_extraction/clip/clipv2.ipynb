{
 "cells": [
  {
   "cell_type": "markdown",
   "metadata": {},
   "source": [
    "# Setup"
   ]
  },
  {
   "cell_type": "code",
   "execution_count": null,
   "metadata": {
    "tags": [
     "parameters"
    ]
   },
   "outputs": [],
   "source": [
    "# Parameters\n",
    "keyframes_dir = None\n",
    "save_dir = None\n",
    "bs = None"
   ]
  },
  {
   "cell_type": "code",
   "execution_count": null,
   "metadata": {},
   "outputs": [],
   "source": [
    "import os\n",
    "\n",
    "dir_path = os.getcwd()\n",
    "\n",
    "if not keyframes_dir:\n",
    "    if 'google.colab' in str(get_ipython()):\n",
    "        # Update this path as necessary\n",
    "        keyframes_dir = f'{dir_path}/Keyframes'\n",
    "    elif 'kaggle' in str(get_ipython()):\n",
    "        keyframes_dir = f'{dir_path}/Keyframes'\n",
    "    else:\n",
    "        parent_dir_path = os.path.dirname(dir_path)\n",
    "        keyframes_dir = f'{parent_dir_path}/transnet/Keyframes'\n",
    "\n",
    "if not bs:\n",
    "    bs = 4\n",
    "\n",
    "if not save_dir:\n",
    "    save_dir = './CLIPv2_features'"
   ]
  },
  {
   "cell_type": "code",
   "execution_count": null,
   "metadata": {},
   "outputs": [
    {
     "name": "stdout",
     "output_type": "stream",
     "text": [
      "Requirement already satisfied: open_clip_torch in /home/jiggle/personal/competition/hcm-ai/Pipeline_HCM_AI/venv/lib/python3.9/site-packages (2.26.1)\n",
      "Requirement already satisfied: torch>=1.9.0 in /home/jiggle/personal/competition/hcm-ai/Pipeline_HCM_AI/venv/lib/python3.9/site-packages (from open_clip_torch) (2.3.1)\n",
      "Requirement already satisfied: torchvision in /home/jiggle/personal/competition/hcm-ai/Pipeline_HCM_AI/venv/lib/python3.9/site-packages (from open_clip_torch) (0.18.1)\n",
      "Requirement already satisfied: regex in /home/jiggle/personal/competition/hcm-ai/Pipeline_HCM_AI/venv/lib/python3.9/site-packages (from open_clip_torch) (2022.9.13)\n",
      "Requirement already satisfied: ftfy in /home/jiggle/personal/competition/hcm-ai/Pipeline_HCM_AI/venv/lib/python3.9/site-packages (from open_clip_torch) (6.1.1)\n",
      "Requirement already satisfied: tqdm in /home/jiggle/personal/competition/hcm-ai/Pipeline_HCM_AI/venv/lib/python3.9/site-packages (from open_clip_torch) (4.64.1)\n",
      "Requirement already satisfied: huggingface-hub in /home/jiggle/personal/competition/hcm-ai/Pipeline_HCM_AI/venv/lib/python3.9/site-packages (from open_clip_torch) (0.24.0)\n",
      "Requirement already satisfied: timm in /home/jiggle/personal/competition/hcm-ai/Pipeline_HCM_AI/venv/lib/python3.9/site-packages (from open_clip_torch) (1.0.7)\n",
      "Requirement already satisfied: filelock in /home/jiggle/personal/competition/hcm-ai/Pipeline_HCM_AI/venv/lib/python3.9/site-packages (from torch>=1.9.0->open_clip_torch) (3.15.4)\n",
      "Requirement already satisfied: typing-extensions>=4.8.0 in /home/jiggle/personal/competition/hcm-ai/Pipeline_HCM_AI/venv/lib/python3.9/site-packages (from torch>=1.9.0->open_clip_torch) (4.12.2)\n",
      "Requirement already satisfied: sympy in /home/jiggle/personal/competition/hcm-ai/Pipeline_HCM_AI/venv/lib/python3.9/site-packages (from torch>=1.9.0->open_clip_torch) (1.13.0)\n",
      "Requirement already satisfied: networkx in /home/jiggle/personal/competition/hcm-ai/Pipeline_HCM_AI/venv/lib/python3.9/site-packages (from torch>=1.9.0->open_clip_torch) (3.2.1)\n",
      "Requirement already satisfied: jinja2 in /home/jiggle/personal/competition/hcm-ai/Pipeline_HCM_AI/venv/lib/python3.9/site-packages (from torch>=1.9.0->open_clip_torch) (3.1.4)\n",
      "Requirement already satisfied: fsspec in /home/jiggle/personal/competition/hcm-ai/Pipeline_HCM_AI/venv/lib/python3.9/site-packages (from torch>=1.9.0->open_clip_torch) (2024.6.1)\n",
      "Requirement already satisfied: nvidia-cuda-nvrtc-cu12==12.1.105 in /home/jiggle/personal/competition/hcm-ai/Pipeline_HCM_AI/venv/lib/python3.9/site-packages (from torch>=1.9.0->open_clip_torch) (12.1.105)\n",
      "Requirement already satisfied: nvidia-cuda-runtime-cu12==12.1.105 in /home/jiggle/personal/competition/hcm-ai/Pipeline_HCM_AI/venv/lib/python3.9/site-packages (from torch>=1.9.0->open_clip_torch) (12.1.105)\n",
      "Requirement already satisfied: nvidia-cuda-cupti-cu12==12.1.105 in /home/jiggle/personal/competition/hcm-ai/Pipeline_HCM_AI/venv/lib/python3.9/site-packages (from torch>=1.9.0->open_clip_torch) (12.1.105)\n",
      "Requirement already satisfied: nvidia-cudnn-cu12==8.9.2.26 in /home/jiggle/personal/competition/hcm-ai/Pipeline_HCM_AI/venv/lib/python3.9/site-packages (from torch>=1.9.0->open_clip_torch) (8.9.2.26)\n",
      "Requirement already satisfied: nvidia-cublas-cu12==12.1.3.1 in /home/jiggle/personal/competition/hcm-ai/Pipeline_HCM_AI/venv/lib/python3.9/site-packages (from torch>=1.9.0->open_clip_torch) (12.1.3.1)\n",
      "Requirement already satisfied: nvidia-cufft-cu12==11.0.2.54 in /home/jiggle/personal/competition/hcm-ai/Pipeline_HCM_AI/venv/lib/python3.9/site-packages (from torch>=1.9.0->open_clip_torch) (11.0.2.54)\n",
      "Requirement already satisfied: nvidia-curand-cu12==10.3.2.106 in /home/jiggle/personal/competition/hcm-ai/Pipeline_HCM_AI/venv/lib/python3.9/site-packages (from torch>=1.9.0->open_clip_torch) (10.3.2.106)\n",
      "Requirement already satisfied: nvidia-cusolver-cu12==11.4.5.107 in /home/jiggle/personal/competition/hcm-ai/Pipeline_HCM_AI/venv/lib/python3.9/site-packages (from torch>=1.9.0->open_clip_torch) (11.4.5.107)\n",
      "Requirement already satisfied: nvidia-cusparse-cu12==12.1.0.106 in /home/jiggle/personal/competition/hcm-ai/Pipeline_HCM_AI/venv/lib/python3.9/site-packages (from torch>=1.9.0->open_clip_torch) (12.1.0.106)\n",
      "Requirement already satisfied: nvidia-nccl-cu12==2.20.5 in /home/jiggle/personal/competition/hcm-ai/Pipeline_HCM_AI/venv/lib/python3.9/site-packages (from torch>=1.9.0->open_clip_torch) (2.20.5)\n",
      "Requirement already satisfied: nvidia-nvtx-cu12==12.1.105 in /home/jiggle/personal/competition/hcm-ai/Pipeline_HCM_AI/venv/lib/python3.9/site-packages (from torch>=1.9.0->open_clip_torch) (12.1.105)\n",
      "Requirement already satisfied: triton==2.3.1 in /home/jiggle/personal/competition/hcm-ai/Pipeline_HCM_AI/venv/lib/python3.9/site-packages (from torch>=1.9.0->open_clip_torch) (2.3.1)\n",
      "Requirement already satisfied: nvidia-nvjitlink-cu12 in /home/jiggle/personal/competition/hcm-ai/Pipeline_HCM_AI/venv/lib/python3.9/site-packages (from nvidia-cusolver-cu12==11.4.5.107->torch>=1.9.0->open_clip_torch) (12.5.82)\n",
      "Requirement already satisfied: wcwidth>=0.2.5 in /home/jiggle/personal/competition/hcm-ai/Pipeline_HCM_AI/venv/lib/python3.9/site-packages (from ftfy->open_clip_torch) (0.2.13)\n",
      "Requirement already satisfied: packaging>=20.9 in /home/jiggle/personal/competition/hcm-ai/Pipeline_HCM_AI/venv/lib/python3.9/site-packages (from huggingface-hub->open_clip_torch) (24.1)\n",
      "Requirement already satisfied: pyyaml>=5.1 in /home/jiggle/personal/competition/hcm-ai/Pipeline_HCM_AI/venv/lib/python3.9/site-packages (from huggingface-hub->open_clip_torch) (6.0.1)\n",
      "Requirement already satisfied: requests in /home/jiggle/personal/competition/hcm-ai/Pipeline_HCM_AI/venv/lib/python3.9/site-packages (from huggingface-hub->open_clip_torch) (2.32.3)\n",
      "Requirement already satisfied: safetensors in /home/jiggle/personal/competition/hcm-ai/Pipeline_HCM_AI/venv/lib/python3.9/site-packages (from timm->open_clip_torch) (0.4.3)\n",
      "Requirement already satisfied: numpy in /home/jiggle/personal/competition/hcm-ai/Pipeline_HCM_AI/venv/lib/python3.9/site-packages (from torchvision->open_clip_torch) (1.23.3)\n",
      "Requirement already satisfied: pillow!=8.3.*,>=5.3.0 in /home/jiggle/personal/competition/hcm-ai/Pipeline_HCM_AI/venv/lib/python3.9/site-packages (from torchvision->open_clip_torch) (10.4.0)\n",
      "Requirement already satisfied: MarkupSafe>=2.0 in /home/jiggle/personal/competition/hcm-ai/Pipeline_HCM_AI/venv/lib/python3.9/site-packages (from jinja2->torch>=1.9.0->open_clip_torch) (2.1.5)\n",
      "Requirement already satisfied: charset-normalizer<4,>=2 in /home/jiggle/personal/competition/hcm-ai/Pipeline_HCM_AI/venv/lib/python3.9/site-packages (from requests->huggingface-hub->open_clip_torch) (3.3.2)\n",
      "Requirement already satisfied: idna<4,>=2.5 in /home/jiggle/personal/competition/hcm-ai/Pipeline_HCM_AI/venv/lib/python3.9/site-packages (from requests->huggingface-hub->open_clip_torch) (2.10)\n",
      "Requirement already satisfied: urllib3<3,>=1.21.1 in /home/jiggle/personal/competition/hcm-ai/Pipeline_HCM_AI/venv/lib/python3.9/site-packages (from requests->huggingface-hub->open_clip_torch) (2.2.2)\n",
      "Requirement already satisfied: certifi>=2017.4.17 in /home/jiggle/personal/competition/hcm-ai/Pipeline_HCM_AI/venv/lib/python3.9/site-packages (from requests->huggingface-hub->open_clip_torch) (2024.7.4)\n",
      "Requirement already satisfied: mpmath<1.4,>=1.1.0 in /home/jiggle/personal/competition/hcm-ai/Pipeline_HCM_AI/venv/lib/python3.9/site-packages (from sympy->torch>=1.9.0->open_clip_torch) (1.3.0)\n"
     ]
    }
   ],
   "source": [
    "# Instal dependency\n",
    "! pip install open_clip_torch"
   ]
  },
  {
   "cell_type": "code",
   "execution_count": null,
   "metadata": {},
   "outputs": [
    {
     "name": "stderr",
     "output_type": "stream",
     "text": [
      "/home/jiggle/personal/competition/hcm-ai/Pipeline_HCM_AI/venv/lib/python3.9/site-packages/tqdm/auto.py:22: TqdmWarning: IProgress not found. Please update jupyter and ipywidgets. See https://ipywidgets.readthedocs.io/en/stable/user_install.html\n",
      "  from .autonotebook import tqdm as notebook_tqdm\n"
     ]
    }
   ],
   "source": [
    "# Import module\n",
    "import os\n",
    "import open_clip\n",
    "import glob\n",
    "import torch\n",
    "import numpy as np\n",
    "from PIL import Image\n",
    "from tqdm import tqdm"
   ]
  },
  {
   "cell_type": "markdown",
   "metadata": {},
   "source": [
    "# Parse data path"
   ]
  },
  {
   "cell_type": "code",
   "execution_count": null,
   "metadata": {},
   "outputs": [],
   "source": [
    "def parse_keyframe_info(keyframes_dir='../transnet/Keyframes'):\n",
    "    all_keyframe_paths = {}\n",
    "    for part in sorted(os.listdir(keyframes_dir)):\n",
    "        data_part = part.split('/')[-1]\n",
    "        all_keyframe_paths[data_part] = {}\n",
    "\n",
    "    for data_part in sorted(all_keyframe_paths.keys()):\n",
    "        data_part_path = f'{keyframes_dir}/{data_part}'\n",
    "        video_dirs = sorted(os.listdir(data_part_path))\n",
    "        video_ids = [video_dir.split('_')[-1] for video_dir in video_dirs]\n",
    "        for video_id, video_dir in zip(video_ids, video_dirs):\n",
    "            keyframe_paths = sorted(\n",
    "                glob.glob(f'{data_part_path}/{video_dir}/*.jpg'))\n",
    "            all_keyframe_paths[data_part][video_id] = keyframe_paths\n",
    "\n",
    "    return all_keyframe_paths"
   ]
  },
  {
   "cell_type": "markdown",
   "metadata": {},
   "source": [
    "# Model"
   ]
  },
  {
   "cell_type": "code",
   "execution_count": null,
   "metadata": {},
   "outputs": [
    {
     "name": "stdout",
     "output_type": "stream",
     "text": [
      "cuda\n"
     ]
    }
   ],
   "source": [
    "##### Load Model #####\n",
    "device = \"cuda\" if torch.cuda.is_available() else \"cpu\"\n",
    "print(device)\n",
    "model, _, preprocess = open_clip.create_model_and_transforms('ViT-g-14', device=device, pretrained='datacomp_xl_s13b_b90k')"
   ]
  },
  {
   "cell_type": "code",
   "execution_count": null,
   "metadata": {},
   "outputs": [],
   "source": [
    "def create_directory(path):\n",
    "    \"\"\"Create a directory if it does not exist.\"\"\"\n",
    "    if not os.path.exists(path):\n",
    "        os.makedirs(path)\n",
    "\n",
    "\n",
    "def process_and_save_results(all_keyframe_paths, save_dir, model, bs):\n",
    "    create_directory(save_dir)\n",
    "    \n",
    "    for key, video_keyframe_paths in tqdm(all_keyframe_paths.items()):\n",
    "        video_ids = sorted(video_keyframe_paths.keys())\n",
    "        video_path = f'{save_dir}/{key}'\n",
    "        create_directory(video_path)\n",
    "\n",
    "        \n",
    "        for video_id in tqdm(video_ids):\n",
    "            video_feats = []\n",
    "            video_keyframe_path = video_keyframe_paths[video_id]\n",
    "            for i in range(0, len(video_keyframe_path), bs):\n",
    "                # Support batchsize inferencing\n",
    "                images = []\n",
    "                image_paths = video_keyframe_path[i:i+bs]\n",
    "                for image_path in image_paths:\n",
    "                    image = preprocess(Image.open(image_path)).unsqueeze(0)\n",
    "                    images.append(image)\n",
    "                images = torch.cat(images).to(device)\n",
    "\n",
    "                with torch.no_grad(), torch.cuda.amp.autocast():\n",
    "                    image_feats = model.encode_image(images)\n",
    "                image_feats /= image_feats.norm(dim=-1, keepdim=True)\n",
    "\n",
    "                for b in range(image_feats.shape[0]):\n",
    "                    video_feats.append(image_feats[b].detach().cpu().numpy().astype(np.float32).flatten())\n",
    "            \n",
    "            np.save(f'{video_path}/{video_id}.npy', video_feats)"
   ]
  },
  {
   "cell_type": "code",
   "execution_count": null,
   "metadata": {},
   "outputs": [
    {
     "name": "stderr",
     "output_type": "stream",
     "text": [
      "100%|██████████| 1/1 [09:52<00:00, 592.23s/it]\n",
      " 12%|█▏        | 3/25 [33:28<4:05:26, 669.38s/it]\n",
      " 50%|█████     | 1/2 [43:20<43:20, 2600.56s/it]\n"
     ]
    },
    {
     "ename": "KeyboardInterrupt",
     "evalue": "",
     "output_type": "error",
     "traceback": [
      "\u001b[0;31m---------------------------------------------------------------------------\u001b[0m",
      "\u001b[0;31mKeyboardInterrupt\u001b[0m                         Traceback (most recent call last)",
      "Cell \u001b[0;32mIn[8], line 2\u001b[0m\n\u001b[1;32m      1\u001b[0m all_keyframe_paths \u001b[38;5;241m=\u001b[39m parse_keyframe_info(keyframes_dir)\n\u001b[0;32m----> 2\u001b[0m \u001b[43mprocess_and_save_results\u001b[49m\u001b[43m(\u001b[49m\u001b[43mall_keyframe_paths\u001b[49m\u001b[43m,\u001b[49m\u001b[43m \u001b[49m\u001b[43msave_dir\u001b[49m\u001b[43m,\u001b[49m\u001b[43m \u001b[49m\u001b[43mmodel\u001b[49m\u001b[43m,\u001b[49m\u001b[43m \u001b[49m\u001b[43mbs\u001b[49m\u001b[43m)\u001b[49m\n",
      "Cell \u001b[0;32mIn[7], line 33\u001b[0m, in \u001b[0;36mprocess_and_save_results\u001b[0;34m(all_keyframe_paths, save_dir, model, bs)\u001b[0m\n\u001b[1;32m     30\u001b[0m     image_feats \u001b[38;5;241m/\u001b[39m\u001b[38;5;241m=\u001b[39m image_feats\u001b[38;5;241m.\u001b[39mnorm(dim\u001b[38;5;241m=\u001b[39m\u001b[38;5;241m-\u001b[39m\u001b[38;5;241m1\u001b[39m, keepdim\u001b[38;5;241m=\u001b[39m\u001b[38;5;28;01mTrue\u001b[39;00m)\n\u001b[1;32m     32\u001b[0m     \u001b[38;5;28;01mfor\u001b[39;00m b \u001b[38;5;129;01min\u001b[39;00m \u001b[38;5;28mrange\u001b[39m(image_feats\u001b[38;5;241m.\u001b[39mshape[\u001b[38;5;241m0\u001b[39m]):\n\u001b[0;32m---> 33\u001b[0m         video_feats\u001b[38;5;241m.\u001b[39mappend(\u001b[43mimage_feats\u001b[49m\u001b[43m[\u001b[49m\u001b[43mb\u001b[49m\u001b[43m]\u001b[49m\u001b[38;5;241;43m.\u001b[39;49m\u001b[43mdetach\u001b[49m\u001b[43m(\u001b[49m\u001b[43m)\u001b[49m\u001b[38;5;241;43m.\u001b[39;49m\u001b[43mcpu\u001b[49m\u001b[43m(\u001b[49m\u001b[43m)\u001b[49m\u001b[38;5;241m.\u001b[39mnumpy()\u001b[38;5;241m.\u001b[39mastype(np\u001b[38;5;241m.\u001b[39mfloat32)\u001b[38;5;241m.\u001b[39mflatten())\n\u001b[1;32m     35\u001b[0m np\u001b[38;5;241m.\u001b[39msave(\u001b[38;5;124mf\u001b[39m\u001b[38;5;124m'\u001b[39m\u001b[38;5;132;01m{\u001b[39;00mvideo_path\u001b[38;5;132;01m}\u001b[39;00m\u001b[38;5;124m/\u001b[39m\u001b[38;5;132;01m{\u001b[39;00mvideo_id\u001b[38;5;132;01m}\u001b[39;00m\u001b[38;5;124m.npy\u001b[39m\u001b[38;5;124m'\u001b[39m, video_feats)\n",
      "\u001b[0;31mKeyboardInterrupt\u001b[0m: "
     ]
    }
   ],
   "source": [
    "all_keyframe_paths = parse_keyframe_info(keyframes_dir)\n",
    "process_and_save_results(all_keyframe_paths, save_dir, model, bs)"
   ]
  }
 ],
 "metadata": {
  "kernelspec": {
   "display_name": "python3",
   "language": "python",
   "name": "python3"
  },
  "language_info": {
   "codemirror_mode": {
    "name": "ipython",
    "version": 3
   },
   "file_extension": ".py",
   "mimetype": "text/x-python",
   "name": "python",
   "nbconvert_exporter": "python",
   "pygments_lexer": "ipython3",
   "version": "3.9.19"
  }
 },
 "nbformat": 4,
 "nbformat_minor": 2
}
