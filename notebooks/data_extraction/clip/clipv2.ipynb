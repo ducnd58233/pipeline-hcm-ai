{
 "cells": [
  {
   "cell_type": "markdown",
   "metadata": {},
   "source": [
    "# Setup"
   ]
  },
  {
   "cell_type": "code",
   "execution_count": null,
   "metadata": {
    "tags": [
     "parameters"
    ]
   },
   "outputs": [],
   "source": [
    "# Parameters\n",
    "keyframes_dir = None\n",
    "save_dir = None\n",
    "bs = None"
   ]
  },
  {
   "cell_type": "code",
   "execution_count": null,
   "metadata": {},
   "outputs": [],
   "source": [
    "import os\n",
    "\n",
    "dir_path = os.getcwd()\n",
    "\n",
    "if not keyframes_dir:\n",
    "    if 'google.colab' in str(get_ipython()):\n",
    "        # Update this path as necessary\n",
    "        keyframes_dir = f'{dir_path}/Keyframes'\n",
    "    elif 'kaggle' in str(get_ipython()):\n",
    "        keyframes_dir = f'{dir_path}/Keyframes'\n",
    "    else:\n",
    "        parent_dir_path = os.path.dirname(dir_path)\n",
    "        keyframes_dir = f'{parent_dir_path}/transnet/Keyframes'\n",
    "\n",
    "if not bs:\n",
    "    bs = 4\n",
    "\n",
    "if not save_dir:\n",
    "    save_dir = './CLIPv2_features'"
   ]
  },
  {
   "cell_type": "code",
   "execution_count": null,
   "metadata": {},
   "outputs": [],
   "source": [
    "# Instal dependency\n",
    "! pip install open_clip_torch"
   ]
  },
  {
   "cell_type": "code",
   "execution_count": null,
   "metadata": {},
   "outputs": [],
   "source": [
    "# Import module\n",
    "import os\n",
    "import open_clip\n",
    "import glob\n",
    "import torch\n",
    "import numpy as np\n",
    "from PIL import Image\n",
    "from tqdm import tqdm"
   ]
  },
  {
   "cell_type": "markdown",
   "metadata": {},
   "source": [
    "# Parse data path"
   ]
  },
  {
   "cell_type": "code",
   "execution_count": null,
   "metadata": {},
   "outputs": [],
   "source": [
    "def parse_keyframe_info(keyframes_dir='../transnet/Keyframes'):\n",
    "    all_keyframe_paths = {}\n",
    "    for part in sorted(os.listdir(keyframes_dir)):\n",
    "        data_part = part.split('/')[-1]\n",
    "        all_keyframe_paths[data_part] = {}\n",
    "\n",
    "    for data_part in sorted(all_keyframe_paths.keys()):\n",
    "        data_part_path = f'{keyframes_dir}/{data_part}'\n",
    "        video_dirs = sorted(os.listdir(data_part_path))\n",
    "        video_ids = [video_dir.split('_')[-1] for video_dir in video_dirs]\n",
    "        for video_id, video_dir in zip(video_ids, video_dirs):\n",
    "            keyframe_paths = sorted(\n",
    "                glob.glob(f'{data_part_path}/{video_dir}/*.jpg'))\n",
    "            all_keyframe_paths[data_part][video_id] = keyframe_paths\n",
    "\n",
    "    return all_keyframe_paths"
   ]
  },
  {
   "cell_type": "markdown",
   "metadata": {},
   "source": [
    "# Model"
   ]
  },
  {
   "cell_type": "code",
   "execution_count": null,
   "metadata": {},
   "outputs": [],
   "source": [
    "##### Load Model #####\n",
    "device = \"cuda\" if torch.cuda.is_available() else \"cpu\"\n",
    "print(device)\n",
    "model, _, preprocess = open_clip.create_model_and_transforms('ViT-L-14', device=device, pretrained='datacomp_xl_s13b_b90k')"
   ]
  },
  {
   "cell_type": "code",
   "execution_count": null,
   "metadata": {},
   "outputs": [],
   "source": [
    "def create_directory(path):\n",
    "    \"\"\"Create a directory if it does not exist.\"\"\"\n",
    "    if not os.path.exists(path):\n",
    "        os.makedirs(path)\n",
    "\n",
    "\n",
    "def process_and_save_results(all_keyframe_paths, save_dir, model, bs):\n",
    "    create_directory(save_dir)\n",
    "    \n",
    "    for key, video_keyframe_paths in tqdm(all_keyframe_paths.items()):\n",
    "        video_ids = sorted(video_keyframe_paths.keys())\n",
    "        video_path = f'{save_dir}/{key}'\n",
    "        create_directory(video_path)\n",
    "\n",
    "        \n",
    "        for video_id in tqdm(video_ids):\n",
    "            video_feats = []\n",
    "            video_keyframe_path = video_keyframe_paths[video_id]\n",
    "            for i in range(0, len(video_keyframe_path), bs):\n",
    "                # Support batchsize inferencing\n",
    "                images = []\n",
    "                image_paths = video_keyframe_path[i:i+bs]\n",
    "                for image_path in image_paths:\n",
    "                    image = preprocess(Image.open(image_path)).unsqueeze(0)\n",
    "                    images.append(image)\n",
    "                images = torch.cat(images).to(device)\n",
    "\n",
    "                with torch.no_grad(), torch.cuda.amp.autocast():\n",
    "                    image_feats = model.encode_image(images)\n",
    "                image_feats /= image_feats.norm(dim=-1, keepdim=True)\n",
    "\n",
    "                for b in range(image_feats.shape[0]):\n",
    "                    video_feats.append(image_feats[b].detach().cpu().numpy().astype(np.float32).flatten())\n",
    "            \n",
    "            np.save(f'{video_path}/{video_id}.npy', video_feats)"
   ]
  },
  {
   "cell_type": "code",
   "execution_count": null,
   "metadata": {},
   "outputs": [],
   "source": [
    "all_keyframe_paths = parse_keyframe_info(keyframes_dir)\n",
    "process_and_save_results(all_keyframe_paths, save_dir, model, bs)"
   ]
  }
 ],
 "metadata": {
  "kernelspec": {
   "display_name": "python3",
   "language": "python",
   "name": "python3"
  },
  "language_info": {
   "name": "python",
   "version": "3.9.19"
  }
 },
 "nbformat": 4,
 "nbformat_minor": 2
}
