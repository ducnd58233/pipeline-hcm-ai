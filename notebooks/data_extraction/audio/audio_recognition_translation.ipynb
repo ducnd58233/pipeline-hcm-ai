{
 "cells": [
  {
   "cell_type": "markdown",
   "metadata": {},
   "source": [
    "# Setup"
   ]
  },
  {
   "cell_type": "code",
   "execution_count": null,
   "metadata": {
    "tags": [
     "parameters"
    ]
   },
   "outputs": [],
   "source": [
    "audios_dir = None\n",
    "save_dir = None"
   ]
  },
  {
   "cell_type": "code",
   "execution_count": null,
   "metadata": {},
   "outputs": [],
   "source": [
    "import os\n",
    "\n",
    "dir_path = os.getcwd()\n",
    "parent_dir_path = os.path.dirname(dir_path)\n",
    "\n",
    "if not audios_dir:\n",
    "    audios_dir = f'{dir_path}/Audio'\n",
    "\n",
    "if not save_dir:\n",
    "    save_dir = f'{dir_path}/audio_recognition'"
   ]
  },
  {
   "cell_type": "code",
   "execution_count": null,
   "metadata": {},
   "outputs": [
    {
     "name": "stdout",
     "output_type": "stream",
     "text": [
      "Requirement already satisfied: tqdm in /home/heigatvu/anaconda3/envs/hcm-ai/lib/python3.9/site-packages (4.66.5)\n",
      "Requirement already satisfied: torch in /home/heigatvu/anaconda3/envs/hcm-ai/lib/python3.9/site-packages (2.4.0)\n",
      "Requirement already satisfied: filelock in /home/heigatvu/anaconda3/envs/hcm-ai/lib/python3.9/site-packages (from torch) (3.15.4)\n",
      "Requirement already satisfied: typing-extensions>=4.8.0 in /home/heigatvu/anaconda3/envs/hcm-ai/lib/python3.9/site-packages (from torch) (4.12.2)\n",
      "Requirement already satisfied: sympy in /home/heigatvu/anaconda3/envs/hcm-ai/lib/python3.9/site-packages (from torch) (1.13.2)\n",
      "Requirement already satisfied: networkx in /home/heigatvu/anaconda3/envs/hcm-ai/lib/python3.9/site-packages (from torch) (3.2.1)\n",
      "Requirement already satisfied: jinja2 in /home/heigatvu/anaconda3/envs/hcm-ai/lib/python3.9/site-packages (from torch) (3.1.4)\n",
      "Requirement already satisfied: fsspec in /home/heigatvu/anaconda3/envs/hcm-ai/lib/python3.9/site-packages (from torch) (2024.6.1)\n",
      "Requirement already satisfied: nvidia-cuda-nvrtc-cu12==12.1.105 in /home/heigatvu/anaconda3/envs/hcm-ai/lib/python3.9/site-packages (from torch) (12.1.105)\n",
      "Requirement already satisfied: nvidia-cuda-runtime-cu12==12.1.105 in /home/heigatvu/anaconda3/envs/hcm-ai/lib/python3.9/site-packages (from torch) (12.1.105)\n",
      "Requirement already satisfied: nvidia-cuda-cupti-cu12==12.1.105 in /home/heigatvu/anaconda3/envs/hcm-ai/lib/python3.9/site-packages (from torch) (12.1.105)\n",
      "Requirement already satisfied: nvidia-cudnn-cu12==9.1.0.70 in /home/heigatvu/anaconda3/envs/hcm-ai/lib/python3.9/site-packages (from torch) (9.1.0.70)\n",
      "Requirement already satisfied: nvidia-cublas-cu12==12.1.3.1 in /home/heigatvu/anaconda3/envs/hcm-ai/lib/python3.9/site-packages (from torch) (12.1.3.1)\n",
      "Requirement already satisfied: nvidia-cufft-cu12==11.0.2.54 in /home/heigatvu/anaconda3/envs/hcm-ai/lib/python3.9/site-packages (from torch) (11.0.2.54)\n",
      "Requirement already satisfied: nvidia-curand-cu12==10.3.2.106 in /home/heigatvu/anaconda3/envs/hcm-ai/lib/python3.9/site-packages (from torch) (10.3.2.106)\n",
      "Requirement already satisfied: nvidia-cusolver-cu12==11.4.5.107 in /home/heigatvu/anaconda3/envs/hcm-ai/lib/python3.9/site-packages (from torch) (11.4.5.107)\n",
      "Requirement already satisfied: nvidia-cusparse-cu12==12.1.0.106 in /home/heigatvu/anaconda3/envs/hcm-ai/lib/python3.9/site-packages (from torch) (12.1.0.106)\n",
      "Requirement already satisfied: nvidia-nccl-cu12==2.20.5 in /home/heigatvu/anaconda3/envs/hcm-ai/lib/python3.9/site-packages (from torch) (2.20.5)\n",
      "Requirement already satisfied: nvidia-nvtx-cu12==12.1.105 in /home/heigatvu/anaconda3/envs/hcm-ai/lib/python3.9/site-packages (from torch) (12.1.105)\n",
      "Requirement already satisfied: triton==3.0.0 in /home/heigatvu/anaconda3/envs/hcm-ai/lib/python3.9/site-packages (from torch) (3.0.0)\n",
      "Requirement already satisfied: nvidia-nvjitlink-cu12 in /home/heigatvu/anaconda3/envs/hcm-ai/lib/python3.9/site-packages (from nvidia-cusolver-cu12==11.4.5.107->torch) (12.6.20)\n",
      "Requirement already satisfied: MarkupSafe>=2.0 in /home/heigatvu/anaconda3/envs/hcm-ai/lib/python3.9/site-packages (from jinja2->torch) (2.1.5)\n",
      "Requirement already satisfied: mpmath<1.4,>=1.1.0 in /home/heigatvu/anaconda3/envs/hcm-ai/lib/python3.9/site-packages (from sympy->torch) (1.3.0)\n",
      "Requirement already satisfied: transformers in /home/heigatvu/anaconda3/envs/hcm-ai/lib/python3.9/site-packages (4.44.2)\n",
      "Requirement already satisfied: filelock in /home/heigatvu/anaconda3/envs/hcm-ai/lib/python3.9/site-packages (from transformers) (3.15.4)\n",
      "Requirement already satisfied: huggingface-hub<1.0,>=0.23.2 in /home/heigatvu/anaconda3/envs/hcm-ai/lib/python3.9/site-packages (from transformers) (0.24.6)\n",
      "Requirement already satisfied: numpy>=1.17 in /home/heigatvu/anaconda3/envs/hcm-ai/lib/python3.9/site-packages (from transformers) (1.26.4)\n",
      "Requirement already satisfied: packaging>=20.0 in /home/heigatvu/anaconda3/envs/hcm-ai/lib/python3.9/site-packages (from transformers) (24.1)\n",
      "Requirement already satisfied: pyyaml>=5.1 in /home/heigatvu/anaconda3/envs/hcm-ai/lib/python3.9/site-packages (from transformers) (6.0.2)\n",
      "Requirement already satisfied: regex!=2019.12.17 in /home/heigatvu/anaconda3/envs/hcm-ai/lib/python3.9/site-packages (from transformers) (2024.7.24)\n",
      "Requirement already satisfied: requests in /home/heigatvu/anaconda3/envs/hcm-ai/lib/python3.9/site-packages (from transformers) (2.32.3)\n",
      "Requirement already satisfied: safetensors>=0.4.1 in /home/heigatvu/anaconda3/envs/hcm-ai/lib/python3.9/site-packages (from transformers) (0.4.4)\n",
      "Requirement already satisfied: tokenizers<0.20,>=0.19 in /home/heigatvu/anaconda3/envs/hcm-ai/lib/python3.9/site-packages (from transformers) (0.19.1)\n",
      "Requirement already satisfied: tqdm>=4.27 in /home/heigatvu/anaconda3/envs/hcm-ai/lib/python3.9/site-packages (from transformers) (4.66.5)\n",
      "Requirement already satisfied: fsspec>=2023.5.0 in /home/heigatvu/anaconda3/envs/hcm-ai/lib/python3.9/site-packages (from huggingface-hub<1.0,>=0.23.2->transformers) (2024.6.1)\n",
      "Requirement already satisfied: typing-extensions>=3.7.4.3 in /home/heigatvu/anaconda3/envs/hcm-ai/lib/python3.9/site-packages (from huggingface-hub<1.0,>=0.23.2->transformers) (4.12.2)\n",
      "Requirement already satisfied: charset-normalizer<4,>=2 in /home/heigatvu/anaconda3/envs/hcm-ai/lib/python3.9/site-packages (from requests->transformers) (3.3.2)\n",
      "Requirement already satisfied: idna<4,>=2.5 in /home/heigatvu/anaconda3/envs/hcm-ai/lib/python3.9/site-packages (from requests->transformers) (3.8)\n",
      "Requirement already satisfied: urllib3<3,>=1.21.1 in /home/heigatvu/anaconda3/envs/hcm-ai/lib/python3.9/site-packages (from requests->transformers) (2.2.2)\n",
      "Requirement already satisfied: certifi>=2017.4.17 in /home/heigatvu/anaconda3/envs/hcm-ai/lib/python3.9/site-packages (from requests->transformers) (2024.7.4)\n",
      "Requirement already satisfied: librosa in /home/heigatvu/anaconda3/envs/hcm-ai/lib/python3.9/site-packages (0.10.2.post1)\n",
      "Requirement already satisfied: audioread>=2.1.9 in /home/heigatvu/anaconda3/envs/hcm-ai/lib/python3.9/site-packages (from librosa) (3.0.1)\n",
      "Requirement already satisfied: numpy!=1.22.0,!=1.22.1,!=1.22.2,>=1.20.3 in /home/heigatvu/anaconda3/envs/hcm-ai/lib/python3.9/site-packages (from librosa) (1.26.4)\n",
      "Requirement already satisfied: scipy>=1.2.0 in /home/heigatvu/anaconda3/envs/hcm-ai/lib/python3.9/site-packages (from librosa) (1.13.1)\n",
      "Requirement already satisfied: scikit-learn>=0.20.0 in /home/heigatvu/anaconda3/envs/hcm-ai/lib/python3.9/site-packages (from librosa) (1.5.1)\n",
      "Requirement already satisfied: joblib>=0.14 in /home/heigatvu/anaconda3/envs/hcm-ai/lib/python3.9/site-packages (from librosa) (1.4.2)\n",
      "Requirement already satisfied: decorator>=4.3.0 in /home/heigatvu/anaconda3/envs/hcm-ai/lib/python3.9/site-packages (from librosa) (5.1.1)\n",
      "Requirement already satisfied: numba>=0.51.0 in /home/heigatvu/anaconda3/envs/hcm-ai/lib/python3.9/site-packages (from librosa) (0.60.0)\n",
      "Requirement already satisfied: soundfile>=0.12.1 in /home/heigatvu/anaconda3/envs/hcm-ai/lib/python3.9/site-packages (from librosa) (0.12.1)\n",
      "Requirement already satisfied: pooch>=1.1 in /home/heigatvu/anaconda3/envs/hcm-ai/lib/python3.9/site-packages (from librosa) (1.8.2)\n",
      "Requirement already satisfied: soxr>=0.3.2 in /home/heigatvu/anaconda3/envs/hcm-ai/lib/python3.9/site-packages (from librosa) (0.4.0)\n",
      "Requirement already satisfied: typing-extensions>=4.1.1 in /home/heigatvu/anaconda3/envs/hcm-ai/lib/python3.9/site-packages (from librosa) (4.12.2)\n",
      "Requirement already satisfied: lazy-loader>=0.1 in /home/heigatvu/anaconda3/envs/hcm-ai/lib/python3.9/site-packages (from librosa) (0.4)\n",
      "Requirement already satisfied: msgpack>=1.0 in /home/heigatvu/anaconda3/envs/hcm-ai/lib/python3.9/site-packages (from librosa) (1.0.8)\n",
      "Requirement already satisfied: packaging in /home/heigatvu/anaconda3/envs/hcm-ai/lib/python3.9/site-packages (from lazy-loader>=0.1->librosa) (24.1)\n",
      "Requirement already satisfied: llvmlite<0.44,>=0.43.0dev0 in /home/heigatvu/anaconda3/envs/hcm-ai/lib/python3.9/site-packages (from numba>=0.51.0->librosa) (0.43.0)\n",
      "Requirement already satisfied: platformdirs>=2.5.0 in /home/heigatvu/anaconda3/envs/hcm-ai/lib/python3.9/site-packages (from pooch>=1.1->librosa) (4.2.2)\n",
      "Requirement already satisfied: requests>=2.19.0 in /home/heigatvu/anaconda3/envs/hcm-ai/lib/python3.9/site-packages (from pooch>=1.1->librosa) (2.32.3)\n",
      "Requirement already satisfied: threadpoolctl>=3.1.0 in /home/heigatvu/anaconda3/envs/hcm-ai/lib/python3.9/site-packages (from scikit-learn>=0.20.0->librosa) (3.5.0)\n",
      "Requirement already satisfied: cffi>=1.0 in /home/heigatvu/anaconda3/envs/hcm-ai/lib/python3.9/site-packages (from soundfile>=0.12.1->librosa) (1.17.0)\n",
      "Requirement already satisfied: pycparser in /home/heigatvu/anaconda3/envs/hcm-ai/lib/python3.9/site-packages (from cffi>=1.0->soundfile>=0.12.1->librosa) (2.22)\n",
      "Requirement already satisfied: charset-normalizer<4,>=2 in /home/heigatvu/anaconda3/envs/hcm-ai/lib/python3.9/site-packages (from requests>=2.19.0->pooch>=1.1->librosa) (3.3.2)\n",
      "Requirement already satisfied: idna<4,>=2.5 in /home/heigatvu/anaconda3/envs/hcm-ai/lib/python3.9/site-packages (from requests>=2.19.0->pooch>=1.1->librosa) (3.8)\n",
      "Requirement already satisfied: urllib3<3,>=1.21.1 in /home/heigatvu/anaconda3/envs/hcm-ai/lib/python3.9/site-packages (from requests>=2.19.0->pooch>=1.1->librosa) (2.2.2)\n",
      "Requirement already satisfied: certifi>=2017.4.17 in /home/heigatvu/anaconda3/envs/hcm-ai/lib/python3.9/site-packages (from requests>=2.19.0->pooch>=1.1->librosa) (2024.7.4)\n"
     ]
    }
   ],
   "source": [
    "! pip install tqdm\n",
    "! pip install torch\n",
    "! pip install transformers\n",
    "! pip install librosa"
   ]
  },
  {
   "cell_type": "code",
   "execution_count": null,
   "metadata": {},
   "outputs": [
    {
     "name": "stderr",
     "output_type": "stream",
     "text": [
      "/home/heigatvu/anaconda3/envs/hcm-ai/lib/python3.9/site-packages/tqdm/auto.py:21: TqdmWarning: IProgress not found. Please update jupyter and ipywidgets. See https://ipywidgets.readthedocs.io/en/stable/user_install.html\n",
      "  from .autonotebook import tqdm as notebook_tqdm\n"
     ]
    }
   ],
   "source": [
    "import os\n",
    "import json\n",
    "import glob\n",
    "from tqdm import tqdm\n",
    "import torch\n",
    "import librosa\n",
    "from transformers import WhisperProcessor, WhisperForConditionalGeneration\n",
    "import gc"
   ]
  },
  {
   "cell_type": "markdown",
   "metadata": {},
   "source": [
    "# Parse data path and audio info"
   ]
  },
  {
   "cell_type": "code",
   "execution_count": null,
   "metadata": {},
   "outputs": [],
   "source": [
    "def parse_audio_info(audios_dir):\n",
    "    \"\"\"Parse audio information from the directory structure.\"\"\"\n",
    "    all_audio_paths = {}\n",
    "    for part in sorted(os.listdir(audios_dir)):\n",
    "        data_part = part.split('/')[-1]\n",
    "        all_audio_paths[data_part] = {}\n",
    "    \n",
    "    for data_part in sorted(all_audio_paths.keys()):\n",
    "        data_part_path = f'{audios_dir}/{data_part}'\n",
    "        audio_dirs = sorted(os.listdir(data_part_path))\n",
    "        audio_ids = [audio_dir.split('/')[-1] for audio_dir in audio_dirs]\n",
    "        for audio_id, audio_dir in zip(audio_ids, audio_dirs):\n",
    "            audio_paths = sorted(glob.glob(f'{data_part_path}/{audio_dir}/*.mp3'))\n",
    "            all_audio_paths[data_part][audio_id] = audio_paths\n",
    "    \n",
    "    return all_audio_paths"
   ]
  },
  {
   "cell_type": "markdown",
   "metadata": {},
   "source": [
    "# Audio detection"
   ]
  },
  {
   "cell_type": "code",
   "execution_count": null,
   "metadata": {},
   "outputs": [],
   "source": [
    "def create_directory(path):\n",
    "    \"\"\"Create a directory if it does not exist.\"\"\"\n",
    "    if not os.path.exists(path):\n",
    "        os.makedirs(path)\n",
    "\n",
    "\n",
    "def load_whisper_model():\n",
    "    \"\"\"Load the Whisper large v3 model and processor.\"\"\"\n",
    "    processor = WhisperProcessor.from_pretrained(\"openai/whisper-large-v3\")\n",
    "    model = WhisperForConditionalGeneration.from_pretrained(\"openai/whisper-large-v3\")\n",
    "    model.config.forced_decoder_ids = None\n",
    "    device = \"cuda\" if torch.cuda.is_available() else \"cpu\"\n",
    "    model = model.to(device)\n",
    "    return processor, model\n",
    "\n",
    "def transcribe_and_translate(audio_path, processor, model):\n",
    "    \"\"\"\n",
    "    Transcribe and translate audio using Whisper ASR model.\n",
    "    \n",
    "    Parameters:\n",
    "    - audio_path: Path to the audio file.\n",
    "    - processor: Whisper processor.\n",
    "    - model: Whisper model.\n",
    "    - target_language: Target language for translation.\n",
    "    \n",
    "    Returns:\n",
    "    - transcription: Transcribed and translated text from the audio.\n",
    "    \"\"\"\n",
    "    try:\n",
    "        # Load audio file\n",
    "        audio, sr = librosa.load(audio_path, sr=16000)\n",
    "        \n",
    "        # Process audio\n",
    "        input_features = processor(audio, sampling_rate=16000, return_tensors=\"pt\").input_features\n",
    "        input_features = input_features.to(model.device)\n",
    "        \n",
    "        # Generate token ids\n",
    "        forced_decoder_ids = processor.get_decoder_prompt_ids(language=target_language, task=\"translate\")\n",
    "        with torch.no_grad():\n",
    "            predicted_ids = model.generate(input_features, forced_decoder_ids=forced_decoder_ids)\n",
    "        \n",
    "        # Decode token ids to text\n",
    "        transcription = processor.batch_decode(predicted_ids, skip_special_tokens=True)[0]\n",
    "        \n",
    "        # Clear CUDA cache\n",
    "        if torch.cuda.is_available():\n",
    "            torch.cuda.empty_cache()\n",
    "        \n",
    "        return transcription\n",
    "    except Exception as e:\n",
    "        print(f\"Error processing audio {audio_path}: {e}\")\n",
    "        return \"\"\n",
    "\n",
    "def process_and_save(all_audio_paths, save_dir, processor, model):\n",
    "    \"\"\"Transcribe and translate audio for each audio file and save the results as JSON files.\"\"\"\n",
    "    create_directory(save_dir)\n",
    "    \n",
    "    for key in tqdm(all_audio_paths.keys(), desc=\"Processing parts\"):\n",
    "        key_dir = os.path.join(save_dir, key)\n",
    "        create_directory(key_dir)\n",
    "        \n",
    "        audio_paths_dict = all_audio_paths[key]\n",
    "        audio_ids = sorted(audio_paths_dict.keys())\n",
    "        \n",
    "        for audio_id in tqdm(audio_ids, desc=f\"Processing {key}\"):\n",
    "            transcriptions = []\n",
    "            for idx, audio_path in enumerate(audio_paths_dict[audio_id]):\n",
    "                transcription = transcribe_and_translate(audio_path, processor, model)\n",
    "                segment_id = audio_path.split(\"/\")[-1].split(\".\")[0]\n",
    "                transcriptions.append({\n",
    "                    \"segment_id\": f\"{segment_id}\",\n",
    "                    \"audio_path\": audio_path,\n",
    "                    \"transcription\": transcription\n",
    "                })\n",
    "            \n",
    "            json_path = os.path.join(key_dir, f\"{audio_id}.json\")\n",
    "            with open(json_path, 'w', encoding='utf-8') as f:\n",
    "                json.dump(transcriptions, f, ensure_ascii=False, indent=4)\n",
    "            print(f\"Transcription and translation saved to {json_path}\")\n",
    "            \n",
    "            # Force garbage collection\n",
    "            gc.collect()\n",
    "            if torch.cuda.is_available():\n",
    "                torch.cuda.empty_cache()\n"
   ]
  },
  {
   "cell_type": "code",
   "execution_count": null,
   "metadata": {},
   "outputs": [
    {
     "name": "stderr",
     "output_type": "stream",
     "text": [
      "Processing parts:   0%|          | 0/1 [00:00<?, ?it/s]The attention mask is not set and cannot be inferred from input because pad token is same as eos token. As a consequence, you may observe unexpected behavior. Please pass your input's `attention_mask` to obtain reliable results.\n"
     ]
    },
    {
     "name": "stdout",
     "output_type": "stream",
     "text": [
      "Transcription and translation saved to /home/heigatvu/my-project/competition/HCMC-AI/pipeline-hcm-ai/notebooks/data_extraction/audio/audio_recognition/L01/V001.json\n"
     ]
    },
    {
     "name": "stderr",
     "output_type": "stream",
     "text": [
      "Processing L01: 100%|██████████| 2/2 [02:55<00:00, 87.55s/it]\n",
      "Processing parts: 100%|██████████| 1/1 [02:55<00:00, 175.10s/it]"
     ]
    },
    {
     "name": "stdout",
     "output_type": "stream",
     "text": [
      "Transcription and translation saved to /home/heigatvu/my-project/competition/HCMC-AI/pipeline-hcm-ai/notebooks/data_extraction/audio/audio_recognition/L01/V002.json\n"
     ]
    },
    {
     "name": "stderr",
     "output_type": "stream",
     "text": [
      "\n"
     ]
    }
   ],
   "source": [
    "# Parse audio information\n",
    "all_audio_paths = parse_audio_info(audios_dir)\n",
    "\n",
    "# Load Whisper model\n",
    "processor, model = load_whisper_model()\n",
    "\n",
    "# Set target language (change this to your desired language)\n",
    "target_language = \"english\"\n",
    "\n",
    "# Process and save results\n",
    "process_and_save(all_audio_paths, save_dir, processor, model)"
   ]
  }
 ],
 "metadata": {
  "kernelspec": {
   "display_name": "python3",
   "language": "python",
   "name": "python3"
  },
  "language_info": {
   "codemirror_mode": {
    "name": "ipython",
    "version": 3
   },
   "file_extension": ".py",
   "mimetype": "text/x-python",
   "name": "python",
   "nbconvert_exporter": "python",
   "pygments_lexer": "ipython3",
   "version": "3.9.19"
  }
 },
 "nbformat": 4,
 "nbformat_minor": 2
}
