{
 "cells": [
  {
   "cell_type": "code",
   "execution_count": 1,
   "metadata": {
    "tags": [
     "parameters"
    ]
   },
   "outputs": [],
   "source": [
    "combined_keyframes_metadata_filename = None\n",
    "keyframes_metadata_dir = None\n",
    "\n",
    "combined_object_extraction_filename = None\n",
    "object_extraction_dir = None\n",
    "\n",
    "final_metadata_filename = None"
   ]
  },
  {
   "cell_type": "code",
   "execution_count": 2,
   "metadata": {},
   "outputs": [],
   "source": [
    "import os\n",
    "import json\n",
    "\n",
    "dir_path = os.getcwd()"
   ]
  },
  {
   "cell_type": "code",
   "execution_count": 3,
   "metadata": {},
   "outputs": [],
   "source": [
    "data_extraction_path = f'{dir_path}/data_extraction'\n",
    "dataset_path = f'{data_extraction_path}/dataset/AIC_Video'\n",
    "\n",
    "if not combined_keyframes_metadata_filename:\n",
    "    combined_keyframes_metadata_filename = 'keyframes_metadata.json'\n",
    "    \n",
    "if not keyframes_metadata_dir:\n",
    "    keyframes_metadata_dir = f'{data_extraction_path}/transnet/Keyframes_Metadata'\n",
    "    \n",
    "if not combined_object_extraction_filename:\n",
    "    combined_object_extraction_filename = 'object_extraction_metadata.json'\n",
    "    \n",
    "if not object_extraction_dir:\n",
    "    object_extraction_dir = f'{data_extraction_path}/metadata/object_extraction/object_detection'\n",
    "    \n",
    "if not final_metadata_filename:\n",
    "    final_metadata_filename = 'final_metadata.json'"
   ]
  },
  {
   "cell_type": "markdown",
   "metadata": {},
   "source": [
    "# Combine keyframe metadata"
   ]
  },
  {
   "cell_type": "code",
   "execution_count": 4,
   "metadata": {},
   "outputs": [
    {
     "name": "stdout",
     "output_type": "stream",
     "text": [
      "Combined keyframe metadata successful: keyframes_metadata.json\n"
     ]
    }
   ],
   "source": [
    "def combine_keyframe_metadata_json_files(directory, output_file):\n",
    "    combined_data = {}\n",
    "\n",
    "    if os.path.exists(output_file):\n",
    "        with open(output_file, 'r') as existing_file:\n",
    "            combined_data = json.load(existing_file)\n",
    "\n",
    "    for filename in os.listdir(directory):\n",
    "        if filename.endswith('.json'):\n",
    "            file_path = os.path.join(directory, filename)\n",
    "\n",
    "            with open(file_path, 'r') as file:\n",
    "                data = json.load(file)\n",
    "                \n",
    "            combined_data.update(data)\n",
    "\n",
    "    with open(output_file, 'w') as outfile:\n",
    "        json.dump(combined_data, outfile)\n",
    "    \n",
    "    print(f'Combined keyframe metadata successful: {output_file}')\n",
    "    \n",
    "\n",
    "combine_keyframe_metadata_json_files(keyframes_metadata_dir,\n",
    "                   combined_keyframes_metadata_filename)"
   ]
  },
  {
   "cell_type": "markdown",
   "metadata": {},
   "source": [
    "# Combine object extraction metadata"
   ]
  },
  {
   "cell_type": "code",
   "execution_count": 5,
   "metadata": {},
   "outputs": [
    {
     "name": "stdout",
     "output_type": "stream",
     "text": [
      "Combined object detection metadata successful: object_extraction_metadata.json\n"
     ]
    }
   ],
   "source": [
    "def preprocess_object_detection(data):\n",
    "    organized_data = {'objects': dict(), 'counts': dict()}\n",
    "    for item in data:\n",
    "        label = item['label']\n",
    "        if label not in organized_data['objects']:\n",
    "            organized_data['objects'][label] = []\n",
    "            organized_data['counts'][label] = 0\n",
    "        organized_data['objects'][label].append({\n",
    "            \"score\": item['score'],\n",
    "            \"box\": item['box']\n",
    "        })\n",
    "        organized_data['counts'][label] += 1\n",
    "\n",
    "    return organized_data\n",
    "\n",
    "def combine_object_extraction_metadata_json_files(directory, output_file):\n",
    "    combined_data = {}\n",
    "\n",
    "    for root, _, files in os.walk(directory):\n",
    "        for file in files:\n",
    "            if file.endswith('_detection.json'):\n",
    "                file_path = os.path.join(root, file)\n",
    "\n",
    "                parts = root.split(os.sep)\n",
    "                l_folder = parts[-2]  # L01, L02, etc.\n",
    "                video_folder = parts[-1]  # V001, V002, etc.\n",
    "                frame_id = file.split('_')[0]  # 000139, etc.\n",
    "                key = f\"{l_folder}_{video_folder}_{frame_id}_detection\"\n",
    "\n",
    "                with open(file_path, 'r') as f:\n",
    "                    data = json.load(f)\n",
    "\n",
    "                combined_data[key] = preprocess_object_detection(\n",
    "                    data)\n",
    "\n",
    "    with open(output_file, 'w') as f:\n",
    "        json.dump(combined_data, f)\n",
    "\n",
    "    print(f'Combined object detection metadata successful: {output_file}')\n",
    "    \n",
    "\n",
    "combine_object_extraction_metadata_json_files(object_extraction_dir, combined_object_extraction_filename)"
   ]
  },
  {
   "cell_type": "markdown",
   "metadata": {},
   "source": [
    "# Combined final file"
   ]
  },
  {
   "cell_type": "code",
   "execution_count": 6,
   "metadata": {},
   "outputs": [],
   "source": [
    "def combined_json_file(json_files, output_file):\n",
    "    combined_data = {}\n",
    "    \n",
    "    for file_name, data in json_files.items():\n",
    "        path = data['path']\n",
    "        key_ext = data.get('key_extension', '')\n",
    "        with open(path, 'r') as f:\n",
    "            json_data = json.load(f)\n",
    "        print(f\"Preprocessing metadata file: {file_name}\")\n",
    "        for key, data in json_data.items():\n",
    "            if key_ext:\n",
    "                key = key.replace(f'_{key_ext}', '')\n",
    "            if key not in combined_data:\n",
    "                combined_data[key] = {}\n",
    "                \n",
    "            combined_data[key][key_ext] = data\n",
    "            \n",
    "    with open(output_file, 'w') as f:\n",
    "        json.dump(combined_data, f)\n",
    "\n",
    "    print(f'Combined final metadata successful: {output_file}')"
   ]
  },
  {
   "cell_type": "code",
   "execution_count": 7,
   "metadata": {},
   "outputs": [
    {
     "name": "stdout",
     "output_type": "stream",
     "text": [
      "Preprocessing metadata file: keyframe_metadata\n",
      "Preprocessing metadata file: object_extraction\n"
     ]
    },
    {
     "name": "stdout",
     "output_type": "stream",
     "text": [
      "Combined final metadata successful: final_metadata.json\n"
     ]
    }
   ],
   "source": [
    "json_files = {\n",
    "    'keyframe_metadata': {\n",
    "        'path': combined_keyframes_metadata_filename,\n",
    "        'key_extension': 'keyframe',\n",
    "    },\n",
    "    'object_extraction': {\n",
    "        'path': combined_object_extraction_filename,\n",
    "        'key_extension': 'detection'\n",
    "    }\n",
    "}\n",
    "\n",
    "combined_json_file(json_files, final_metadata_filename)"
   ]
  },
  {
   "cell_type": "code",
   "execution_count": null,
   "metadata": {},
   "outputs": [],
   "source": []
  }
 ],
 "metadata": {
  "kernelspec": {
   "display_name": "venv",
   "language": "python",
   "name": "python3"
  },
  "language_info": {
   "codemirror_mode": {
    "name": "ipython",
    "version": 3
   },
   "file_extension": ".py",
   "mimetype": "text/x-python",
   "name": "python",
   "nbconvert_exporter": "python",
   "pygments_lexer": "ipython3",
   "version": "3.9.19"
  }
 },
 "nbformat": 4,
 "nbformat_minor": 2
}
