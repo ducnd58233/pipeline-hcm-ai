{
 "cells": [
  {
   "cell_type": "code",
   "execution_count": null,
   "metadata": {
    "tags": [
     "parameters"
    ]
   },
   "outputs": [],
   "source": [
    "combined_keyframes_metadata_filename = None\n",
    "keyframes_metadata_dir = None\n"
   ]
  },
  {
   "cell_type": "code",
   "execution_count": null,
   "metadata": {},
   "outputs": [],
   "source": [
    "import os\n",
    "import json\n",
    "\n",
    "dir_path = os.getcwd()"
   ]
  },
  {
   "cell_type": "code",
   "execution_count": null,
   "metadata": {},
   "outputs": [],
   "source": [
    "data_extraction_path = f'{dir_path}/data_extraction'\n",
    "dataset_path = f'{data_extraction_path}/dataset/AIC_Video'\n",
    "\n",
    "if not combined_keyframes_metadata_filename:\n",
    "    combined_keyframes_metadata_filename = 'keyframes_metadata.json'\n",
    "    \n",
    "if not keyframes_metadata_dir:\n",
    "    keyframes_metadata_dir = f'{dir_path}/data_extraction/transnet/Keyframes_Metadata'"
   ]
  },
  {
   "cell_type": "markdown",
   "metadata": {},
   "source": [
    "# Combine keyframe metadata"
   ]
  },
  {
   "cell_type": "code",
   "execution_count": null,
   "metadata": {},
   "outputs": [
    {
     "name": "stdout",
     "output_type": "stream",
     "text": [
      "Combined keyframe metadata successful: keyframes_metadata.json\n"
     ]
    }
   ],
   "source": [
    "\n",
    "def combine_json_files(directory, output_file):\n",
    "    combined_data = {}\n",
    "\n",
    "    # Load existing data if the file exists\n",
    "    if os.path.exists(output_file):\n",
    "        with open(output_file, 'r') as existing_file:\n",
    "            combined_data = json.load(existing_file)\n",
    "\n",
    "    # Iterate through all files in the directory\n",
    "    for filename in os.listdir(directory):\n",
    "        if filename.endswith('.json'):\n",
    "            file_path = os.path.join(directory, filename)\n",
    "\n",
    "            # Read the contents of the JSON file\n",
    "            with open(file_path, 'r') as file:\n",
    "                data = json.load(file)\n",
    "\n",
    "            # Update combined_data with new data (overriding if keys exist)\n",
    "            combined_data.update(data)\n",
    "\n",
    "    # Write combined_data to the output JSON file\n",
    "    with open(output_file, 'w') as outfile:\n",
    "        json.dump(combined_data, outfile)\n",
    "    \n",
    "    print(f'Combined keyframe metadata successful: {output_file}')\n",
    "    \n",
    "\n",
    "combine_json_files(keyframes_metadata_dir,\n",
    "                   combined_keyframes_metadata_filename)"
   ]
  }
 ],
 "metadata": {
  "kernelspec": {
   "display_name": "venv",
   "language": "python",
   "name": "python3"
  },
  "language_info": {
   "codemirror_mode": {
    "name": "ipython",
    "version": 3
   },
   "file_extension": ".py",
   "mimetype": "text/x-python",
   "name": "python",
   "nbconvert_exporter": "python",
   "pygments_lexer": "ipython3",
   "version": "3.9.19"
  }
 },
 "nbformat": 4,
 "nbformat_minor": 2
}
