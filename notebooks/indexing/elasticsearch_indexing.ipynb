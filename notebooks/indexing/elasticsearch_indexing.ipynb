{
 "cells": [
  {
   "cell_type": "markdown",
   "metadata": {},
   "source": [
    "# Setup"
   ]
  },
  {
   "cell_type": "code",
   "execution_count": null,
   "metadata": {},
   "outputs": [],
   "source": [
    "metadata_path = None\n",
    "es_host = 'localhost'\n",
    "es_port = 9200\n",
    "index_name = 'video_frames'"
   ]
  },
  {
   "cell_type": "code",
   "execution_count": null,
   "metadata": {},
   "outputs": [],
   "source": [
    "! pip install elasticsearch"
   ]
  },
  {
   "cell_type": "code",
   "execution_count": null,
   "metadata": {},
   "outputs": [],
   "source": [
    "import os\n",
    "import json\n",
    "from elasticsearch import Elasticsearch\n",
    "from elasticsearch.helpers import bulk"
   ]
  },
  {
   "cell_type": "code",
   "execution_count": null,
   "metadata": {},
   "outputs": [],
   "source": [
    "dir_path = os.getcwd()\n",
    "parent_dir_path = os.path.dirname(dir_path)\n",
    "\n",
    "if not metadata_path:\n",
    "    metadata_path = f'{parent_dir_path}/final_metadata.json'"
   ]
  },
  {
   "cell_type": "markdown",
   "metadata": {},
   "source": [
    "# Load Data"
   ]
  },
  {
   "cell_type": "code",
   "execution_count": null,
   "metadata": {},
   "outputs": [],
   "source": [
    "def load_metadata(file_path):\n",
    "    with open(file_path, 'r') as f:\n",
    "        return json.load(f)\n",
    "\n",
    "metadata = load_metadata(metadata_path)"
   ]
  },
  {
   "cell_type": "markdown",
   "metadata": {},
   "source": [
    "# Connect to Elasticsearch"
   ]
  },
  {
   "cell_type": "code",
   "execution_count": null,
   "metadata": {},
   "outputs": [],
   "source": [
    "es = Elasticsearch([{'host': es_host, 'port': es_port}])\n",
    "print(f\"Connected to Elasticsearch: {es.info()}\")"
   ]
  },
  {
   "cell_type": "markdown",
   "metadata": {},
   "source": [
    "# Create Index"
   ]
  },
  {
   "cell_type": "code",
   "execution_count": null,
   "metadata": {},
   "outputs": [],
   "source": [
    "index_body = {\n",
    "    \"mappings\": {\n",
    "        \"properties\": {\n",
    "            \"frame_id\": {\"type\": \"keyword\"},\n",
    "            \"keyframe\": {\n",
    "                \"properties\": {\n",
    "                    \"shot_index\": {\"type\": \"integer\"},\n",
    "                    \"frame_index\": {\"type\": \"integer\"},\n",
    "                    \"shot_start\": {\"type\": \"integer\"},\n",
    "                    \"shot_end\": {\"type\": \"integer\"},\n",
    "                    \"timestamp\": {\"type\": \"float\"},\n",
    "                    \"video_path\": {\"type\": \"keyword\"},\n",
    "                    \"frame_path\": {\"type\": \"keyword\"}\n",
    "                }\n",
    "            },\n",
    "            \"detection\": {\n",
    "                \"properties\": {\n",
    "                    \"objects\": {\"type\": \"object\"},\n",
    "                    \"counts\": {\"type\": \"object\"}\n",
    "                }\n",
    "            },\n",
    "            \"ocr\": {\"type\": \"text\"},\n",
    "            \"tags\": {\"type\": \"keyword\"}\n",
    "        }\n",
    "    }\n",
    "}\n",
    "\n",
    "if es.indices.exists(index=index_name):\n",
    "    es.indices.delete(index=index_name)\n",
    "\n",
    "es.indices.create(index=index_name, body=index_body)\n",
    "print(f\"Index '{index_name}' created\")"
   ]
  },
  {
   "cell_type": "markdown",
   "metadata": {},
   "source": [
    "# Index Data"
   ]
  },
  {
   "cell_type": "code",
   "execution_count": null,
   "metadata": {},
   "outputs": [],
   "source": [
    "def gen_docs():\n",
    "    for frame_id, frame_data in metadata.items():\n",
    "        doc = {\n",
    "            \"_index\": index_name,\n",
    "            \"_id\": frame_id,\n",
    "            \"_source\": {\n",
    "                \"frame_id\": frame_id,\n",
    "                \"keyframe\": frame_data.get(\"keyframe\", {}),\n",
    "                \"detection\": frame_data.get(\"detection\", {}),\n",
    "                \"ocr\": frame_data.get(\"ocr\", \"\"),\n",
    "                \"tags\": frame_data.get(\"tags\", [])\n",
    "            }\n",
    "        }\n",
    "        yield doc\n",
    "\n",
    "success, failed = bulk(es, gen_docs())\n",
    "print(f\"Indexed {success} documents. Failed: {failed}\")"
   ]
  },
  {
   "cell_type": "markdown",
   "metadata": {},
   "source": [
    "# Test Search"
   ]
  },
  {
   "cell_type": "code",
   "execution_count": null,
   "metadata": {},
   "outputs": [],
   "source": [
    "def search(query, field):\n",
    "    body = {\n",
    "        \"query\": {\n",
    "            \"match\": {\n",
    "                field: query\n",
    "            }\n",
    "        }\n",
    "    }\n",
    "    res = es.search(index=index_name, body=body)\n",
    "    return res['hits']['hits']\n",
    "\n",
    "# Test OCR search\n",
    "ocr_results = search(\"example ocr text\", \"ocr\")\n",
    "print(f\"OCR search results: {len(ocr_results)}\")\n",
    "\n",
    "# Test object detection search\n",
    "object_results = search(\"person\", \"detection.objects.person\")\n",
    "print(f\"Object detection search results: {len(object_results)}\")\n",
    "\n",
    "# Test tag search\n",
    "tag_results = search(\"example_tag\", \"tags\")\n",
    "print(f\"Tag search results: {len(tag_results)}\")"
   ]
  }
 ],
 "metadata": {
  "kernelspec": {
   "display_name": "Python 3",
   "language": "python",
   "name": "python3"
  },
  "language_info": {
   "codemirror_mode": {
    "name": "ipython",
    "version": 3
   },
   "file_extension": ".py",
   "mimetype": "text/x-python",
   "name": "python",
   "nbconvert_exporter": "python",
   "pygments_lexer": "ipython3",
   "version": "3.8.10"
  }
 },
 "nbformat": 4,
 "nbformat_minor": 4
}
