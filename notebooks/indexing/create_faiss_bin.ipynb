{
 "cells": [
  {
   "cell_type": "markdown",
   "metadata": {},
   "source": [
    "# Setup"
   ]
  },
  {
   "cell_type": "code",
   "execution_count": null,
   "metadata": {
    "tags": [
     "parameters"
    ]
   },
   "outputs": [],
   "source": [
    "feature_shape = None\n",
    "features_dir = None\n",
    "bin_name = None"
   ]
  },
  {
   "cell_type": "code",
   "execution_count": null,
   "metadata": {},
   "outputs": [],
   "source": [
    "import os\n",
    "\n",
    "dir_path = os.getcwd()\n",
    "parent_dir_path = os.path.dirname(dir_path)\n",
    "\n",
    "if not feature_shape:\n",
    "    feature_shape = 512\n",
    "    \n",
    "if not features_dir:\n",
    "    features_dir = f'{parent_dir_path}/clip/CLIPv2_features'\n",
    "\n",
    "if not bin_name:\n",
    "    bin_name = 'faiss_clipv2_cosine.bin'"
   ]
  },
  {
   "cell_type": "code",
   "execution_count": null,
   "metadata": {},
   "outputs": [],
   "source": [
    "! pip install faiss-cpu faiss-gpu"
   ]
  },
  {
   "cell_type": "code",
   "execution_count": null,
   "metadata": {},
   "outputs": [],
   "source": [
    "import os\n",
    "import glob\n",
    "import faiss\n",
    "import numpy as np\n",
    "from tqdm import tqdm"
   ]
  },
  {
   "cell_type": "markdown",
   "metadata": {},
   "source": [
    "# Indexing"
   ]
  },
  {
   "cell_type": "code",
   "execution_count": null,
   "metadata": {},
   "outputs": [],
   "source": [
    "def create_faiss_indexes(cpu_bin_name, gpu_bin_name, features_dir, feature_shape):\n",
    "    \"\"\"\n",
    "    Create both CPU and GPU FAISS indexes.\n",
    "\n",
    "    Parameters:\n",
    "    - cpu_bin_name: Name of the output CPU FAISS index file\n",
    "    - gpu_bin_name: Name of the output GPU FAISS index file\n",
    "    - features_dir: Directory containing feature files\n",
    "    - feature_shape: Shape of each feature vector\n",
    "\n",
    "    Returns:\n",
    "    - None (saves the indexes to disk)\n",
    "    \"\"\"\n",
    "    # Create a flat (CPU) index\n",
    "    cpu_index = faiss.IndexFlatIP(feature_shape)\n",
    "\n",
    "    # Try to create a GPU index\n",
    "    try:\n",
    "        res = faiss.StandardGpuResources()\n",
    "        gpu_index = faiss.index_cpu_to_gpu(\n",
    "            res, 0, faiss.IndexFlatIP(feature_shape))\n",
    "        print(\"GPU index creation is available\")\n",
    "        use_gpu = True\n",
    "    except Exception as e:\n",
    "        print(f\"GPU index creation not available: {e}\")\n",
    "        use_gpu = False\n",
    "\n",
    "    # Add vectors to the indexes\n",
    "    for data_part in tqdm(sorted(os.listdir(features_dir)), desc=\"Processing data parts\"):\n",
    "        for feature_path in tqdm(sorted(glob.glob(os.path.join(features_dir, data_part, '*.npy'))),\n",
    "                                 desc=f\"Processing {data_part}\"):\n",
    "            feats = np.load(feature_path)\n",
    "            feats = feats.astype(np.float32)\n",
    "            cpu_index.add(feats)\n",
    "            if use_gpu:\n",
    "                gpu_index.add(feats)\n",
    "\n",
    "    # Write the CPU index to disk\n",
    "    faiss.write_index(cpu_index, cpu_bin_name)\n",
    "    print(f\"CPU FAISS index saved to {cpu_bin_name}\")\n",
    "\n",
    "    # If GPU was available, write the GPU index to disk\n",
    "    if use_gpu:\n",
    "        gpu_index_cpu = faiss.index_gpu_to_cpu(gpu_index)\n",
    "        faiss.write_index(gpu_index_cpu, gpu_bin_name)\n",
    "        print(f\"GPU FAISS index saved to {gpu_bin_name}\")"
   ]
  },
  {
   "cell_type": "code",
   "execution_count": null,
   "metadata": {},
   "outputs": [],
   "source": [
    "create_faiss_index(bin_name, features_dir, feature_shape)"
   ]
  }
 ],
 "metadata": {
  "language_info": {
   "name": "python"
  }
 },
 "nbformat": 4,
 "nbformat_minor": 2
}
