{
 "cells": [
  {
   "cell_type": "markdown",
   "metadata": {},
   "source": [
    "# Setup"
   ]
  },
  {
   "cell_type": "code",
   "execution_count": null,
   "metadata": {
    "tags": [
     "parameters"
    ]
   },
   "outputs": [],
   "source": [
    "feature_shape = None\n",
    "features_dir = None\n",
    "cpu_bin_name = None\n",
    "gpu_bin_name = None\n",
    "ocr_bin_name = None\n",
    "multi_tag_bin_name = None\n",
    "metadata_encoded_path = None"
   ]
  },
  {
   "cell_type": "code",
   "execution_count": null,
   "metadata": {},
   "outputs": [],
   "source": [
    "import os\n",
    "\n",
    "dir_path = os.getcwd()\n",
    "parent_dir_path = os.path.dirname(dir_path)\n",
    "\n",
    "if not feature_shape:\n",
    "    feature_shape = 512\n",
    "    \n",
    "if not features_dir:\n",
    "    features_dir = f'{parent_dir_path}/data_extraction/clip/CLIPv2_features'\n",
    "\n",
    "if not cpu_bin_name:\n",
    "    cpu_bin_name = 'faiss_clipv2_cosine_cpu.bin'\n",
    "    \n",
    "if not gpu_bin_name:\n",
    "    gpu_bin_name = 'faiss_clipv2_cosine_gpu.bin'\n",
    "\n",
    "if not ocr_bin_name:\n",
    "    ocr_bin_name = \"faiss_ocr_cosine.bin\"\n",
    "    \n",
    "if not metadata_encoded_path:\n",
    "    metadata_encoded_path = f\"{dir_path}/metadata_encoded\"\n",
    "    \n",
    "if not ocr_bin_name:\n",
    "    ocr_bin_name = \"faiss_ocr_cosine.bin\"\n",
    "if not multi_tag_bin_name:\n",
    "    multi_tag_bin_name = \"faiss_multi_tag_cosine.bin\""
   ]
  },
  {
   "cell_type": "code",
   "execution_count": null,
   "metadata": {},
   "outputs": [
    {
     "name": "stdout",
     "output_type": "stream",
     "text": [
      "Requirement already satisfied: faiss-gpu in /home/heigatvu/my-project/competition/HCMC-AI/pipeline-hcm-ai/venv/lib/python3.9/site-packages (1.7.2)\n",
      "Requirement already satisfied: faiss-cpu in /home/heigatvu/my-project/competition/HCMC-AI/pipeline-hcm-ai/venv/lib/python3.9/site-packages (1.8.0.post1)\n",
      "Requirement already satisfied: numpy<2.0,>=1.0 in /home/heigatvu/my-project/competition/HCMC-AI/pipeline-hcm-ai/venv/lib/python3.9/site-packages (from faiss-cpu) (1.26.4)\n",
      "Requirement already satisfied: packaging in /home/heigatvu/my-project/competition/HCMC-AI/pipeline-hcm-ai/venv/lib/python3.9/site-packages (from faiss-cpu) (24.1)\n"
     ]
    }
   ],
   "source": [
    "! pip install faiss-gpu faiss-cpu"
   ]
  },
  {
   "cell_type": "code",
   "execution_count": null,
   "metadata": {},
   "outputs": [],
   "source": [
    "import os\n",
    "import glob\n",
    "import faiss\n",
    "import numpy as np\n",
    "from tqdm import tqdm\n",
    "import pickle\n",
    "from scipy.sparse import load_npz"
   ]
  },
  {
   "cell_type": "markdown",
   "metadata": {},
   "source": [
    "# Indexing CLIP"
   ]
  },
  {
   "cell_type": "code",
   "execution_count": null,
   "metadata": {},
   "outputs": [],
   "source": [
    "def create_faiss_indexes_clip(cpu_bin_name, gpu_bin_name, features_dir, feature_shape):\n",
    "    \"\"\"\n",
    "    Create both CPU and GPU FAISS indexes.\n",
    "\n",
    "    Parameters:\n",
    "    - cpu_bin_name: Name of the output CPU FAISS index file\n",
    "    - gpu_bin_name: Name of the output GPU FAISS index file\n",
    "    - features_dir: Directory containing feature files\n",
    "    - feature_shape: Shape of each feature vector\n",
    "\n",
    "    Returns:\n",
    "    - None (saves the indexes to disk)\n",
    "    \"\"\"\n",
    "    # Initialize the index with the first feature file to ensure correct dimensionality\n",
    "    npy_files = list(glob.iglob(os.path.join(features_dir, '*.npy')))\n",
    "    if not npy_files:\n",
    "        raise ValueError(f\"No .npy files found in {features_dir}\")\n",
    "\n",
    "    first_feature_file = npy_files[0]\n",
    "    first_feature = np.load(first_feature_file)\n",
    "    feature_dim = first_feature.shape[1]\n",
    "    \n",
    "\n",
    "    if feature_dim != feature_shape:\n",
    "        print(f\"Warning: Actual feature dimension {feature_dim} doesn't match expected {feature_shape}\")\n",
    "        print(f\"Using actual feature dimension {feature_dim} for index creation\")\n",
    "    feature_shape = feature_dim\n",
    "\n",
    "    cpu_index = faiss.IndexFlatIP(feature_shape)\n",
    "\n",
    "    try:\n",
    "        res = faiss.StandardGpuResources()\n",
    "        gpu_index = faiss.index_cpu_to_gpu(\n",
    "            res, 0, faiss.IndexFlatIP(feature_dim))\n",
    "        print(\"GPU index creation is available\")\n",
    "        use_gpu = True\n",
    "    except Exception as e:\n",
    "        print(f\"GPU index creation not available: {e}\")\n",
    "        use_gpu = False\n",
    "\n",
    "    for data_part in tqdm(sorted(os.listdir(features_dir)), desc=\"Processing data parts\"):\n",
    "        print(data_part)\n",
    "        for feature_path in tqdm(sorted(glob.glob(os.path.join(features_dir, data_part, '*.npy'))),\n",
    "                                 desc=f\"Processing {data_part}\"):\n",
    "            print(feature_path)\n",
    "            try:\n",
    "                feats = np.load(feature_path)\n",
    "                feats = feats.astype(np.float32)\n",
    "\n",
    "                if feats.shape[1] != feature_shape:\n",
    "                    print(f\"Warning: Feature dimension mismatch in {feature_path}. \"\n",
    "                          f\"Expected {feature_shape}, got {feats.shape[1]}. Skipping this file.\")\n",
    "                    continue\n",
    "\n",
    "                cpu_index.add(feats)\n",
    "                if use_gpu:\n",
    "                    gpu_index.add(feats)\n",
    "            except Exception as e:\n",
    "                print(f\"Error processing {feature_path}: {e}\")\n",
    "                continue\n",
    "\n",
    "    faiss.write_index(cpu_index, cpu_bin_name)\n",
    "    print(f\"CPU FAISS index saved to {cpu_bin_name}\")\n",
    "\n",
    "    if use_gpu:\n",
    "        gpu_index_cpu = faiss.index_gpu_to_cpu(gpu_index)\n",
    "        faiss.write_index(gpu_index_cpu, gpu_bin_name)\n",
    "        print(f\"GPU FAISS index saved to {gpu_bin_name}\")"
   ]
  },
  {
   "cell_type": "code",
   "execution_count": null,
   "metadata": {},
   "outputs": [
    {
     "name": "stdout",
     "output_type": "stream",
     "text": [
      "Warning: Actual feature dimension 768 doesn't match expected 512\n",
      "Using actual feature dimension 768 for index creation\n",
      "GPU index creation not available: module 'faiss' has no attribute 'StandardGpuResources'\n"
     ]
    },
    {
     "name": "stderr",
     "output_type": "stream",
     "text": [
      "Processing data parts:   0%|          | 0/4 [00:00<?, ?it/s]"
     ]
    },
    {
     "name": "stdout",
     "output_type": "stream",
     "text": [
      "L01_V001.npy\n"
     ]
    },
    {
     "name": "stderr",
     "output_type": "stream",
     "text": [
      "Processing L01_V001.npy: 0it [00:00, ?it/s]\n"
     ]
    },
    {
     "name": "stdout",
     "output_type": "stream",
     "text": [
      "L01_V001_extra.npy\n"
     ]
    },
    {
     "name": "stderr",
     "output_type": "stream",
     "text": [
      "Processing L01_V001_extra.npy: 0it [00:00, ?it/s]\n"
     ]
    },
    {
     "name": "stdout",
     "output_type": "stream",
     "text": [
      "L01_V002.npy\n"
     ]
    },
    {
     "name": "stderr",
     "output_type": "stream",
     "text": [
      "Processing L01_V002.npy: 0it [00:00, ?it/s]\n"
     ]
    },
    {
     "name": "stdout",
     "output_type": "stream",
     "text": [
      "L01_V002_extra.npy\n"
     ]
    },
    {
     "name": "stderr",
     "output_type": "stream",
     "text": [
      "Processing L01_V002_extra.npy: 0it [00:00, ?it/s]\n",
      "Processing data parts: 100%|██████████| 4/4 [00:00<00:00, 377.14it/s]"
     ]
    },
    {
     "name": "stdout",
     "output_type": "stream",
     "text": [
      "CPU FAISS index saved to faiss_clipv2_cosine_cpu.bin\n"
     ]
    },
    {
     "name": "stderr",
     "output_type": "stream",
     "text": [
      "\n"
     ]
    }
   ],
   "source": [
    "create_faiss_indexes_clip(cpu_bin_name, gpu_bin_name, features_dir, feature_shape)"
   ]
  },
  {
   "cell_type": "markdown",
   "metadata": {},
   "source": [
    "# Indexing OCR"
   ]
  },
  {
   "cell_type": "code",
   "execution_count": null,
   "metadata": {},
   "outputs": [],
   "source": [
    "def load_vectors(vector_path):\n",
    "    for item in os.listdir(vector_path):\n",
    "        if item.split('_')[-1] == \"vectors.npz\":\n",
    "            # Load the vectors from the .npz file\n",
    "            vectors = load_npz(f\"{vector_path}/{item}\")\n",
    "    \n",
    "            # Convert to dense numpy array if it's a sparse matrix\n",
    "            if isinstance(vectors, np.ndarray):\n",
    "                return vectors.astype('float32')\n",
    "            else:\n",
    "                return vectors.toarray().astype('float32')\n",
    "            \n",
    "def create_and_save_faiss_index(vector_path, output_path):\n",
    "    # Load vectors\n",
    "    vectors = load_vectors(vector_path)\n",
    "    \n",
    "    # Create FAISS index\n",
    "    dimension = vectors.shape[1]\n",
    "    index = faiss.IndexFlatIP(dimension)\n",
    "    index.add(vectors)\n",
    "    \n",
    "    # Save the index\n",
    "    faiss.write_index(index, output_path)\n",
    "    print(f\"FAISS index saved to {output_path}\")"
   ]
  },
  {
   "cell_type": "code",
   "execution_count": null,
   "metadata": {},
   "outputs": [
    {
     "name": "stdout",
     "output_type": "stream",
     "text": [
      "FAISS index saved to /home/heigatvu/my-project/competition/HCMC-AI/pipeline-hcm-ai/notebooks/indexing/faiss_ocr_cosine.bin\n"
     ]
    }
   ],
   "source": [
    "vector_path = f\"{metadata_encoded_path}/ocr\"\n",
    "output_path = f\"{dir_path}/{ocr_bin_name}\"\n",
    "\n",
    "create_and_save_faiss_index(vector_path, output_path)"
   ]
  },
  {
   "cell_type": "markdown",
   "metadata": {},
   "source": [
    "# Indexing multi-tag"
   ]
  },
  {
   "cell_type": "code",
   "execution_count": null,
   "metadata": {},
   "outputs": [],
   "source": [
    "def load_vectors(vector_path):\n",
    "    for item in os.listdir(vector_path):\n",
    "        if item.split('_')[-1] == \"vectors.npz\":\n",
    "            # Load the vectors from the .npz file\n",
    "            vectors = load_npz(f\"{vector_path}/{item}\")\n",
    "    \n",
    "            # Convert to dense numpy array if it's a sparse matrix\n",
    "            if isinstance(vectors, np.ndarray):\n",
    "                return vectors.astype('float32')\n",
    "            else:\n",
    "                return vectors.toarray().astype('float32')\n",
    "            \n",
    "# def create_faiss_index(vectors, nlist=100):\n",
    "#     # vectors = vectors.astype('float32').toarray()\n",
    "#     dimension = vectors.shape[1]\n",
    "    \n",
    "#     quantizer = faiss.IndexFlatIP(dimension)\n",
    "#     index = faiss.IndexIVFFlat(quantizer, dimension, nlist, faiss.METRIC_INNER_PRODUCT)\n",
    "    \n",
    "#     faiss.normalize_L2(vectors)\n",
    "    \n",
    "#     index.train(vectors)\n",
    "#     index.add(vectors)\n",
    "#     return index\n",
    "\n",
    "def create_faiss_index_flat(vectors, output_path):\n",
    "    # vectors = vectors.astype('float32').toarray()\n",
    "    faiss.normalize_L2(vectors)\n",
    "    \n",
    "    dimension = vectors.shape[1]\n",
    "    index = faiss.IndexFlatIP(dimension)\n",
    "    index.add(vectors)\n",
    "    \n",
    "    # Save the index    \n",
    "    faiss.write_index(index, output_path)"
   ]
  },
  {
   "cell_type": "code",
   "execution_count": null,
   "metadata": {},
   "outputs": [],
   "source": [
    "# Create and save FAISS index\n",
    "vector_path = f\"{metadata_encoded_path}/multi_tag\"\n",
    "output_path = f\"{dir_path}/{multi_tag_bin_name}\"\n",
    "\n",
    "vectors = load_vectors(vector_path)\n",
    "create_faiss_index_flat(vectors, output_path)"
   ]
  }
 ],
 "metadata": {
  "kernelspec": {
   "display_name": "python3",
   "name": "python3"
  },
  "language_info": {
   "codemirror_mode": {
    "name": "ipython",
    "version": 3
   },
   "file_extension": ".py",
   "mimetype": "text/x-python",
   "name": "python",
   "nbconvert_exporter": "python",
   "pygments_lexer": "ipython3",
   "version": "3.9.7"
  }
 },
 "nbformat": 4,
 "nbformat_minor": 2
}
