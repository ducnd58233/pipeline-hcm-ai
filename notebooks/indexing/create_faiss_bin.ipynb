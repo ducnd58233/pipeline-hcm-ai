{
 "cells": [
  {
   "cell_type": "markdown",
   "metadata": {},
   "source": [
    "# Setup"
   ]
  },
  {
   "cell_type": "code",
   "execution_count": null,
   "metadata": {
    "tags": [
     "parameters"
    ]
   },
   "outputs": [],
   "source": [
    "feature_shape = None\n",
    "features_dir = None\n",
    "cpu_bin_name = None\n",
    "gpu_bin_name = None"
   ]
  },
  {
   "cell_type": "code",
   "execution_count": null,
   "metadata": {},
   "outputs": [],
   "source": [
    "import os\n",
    "\n",
    "dir_path = os.getcwd()\n",
    "parent_dir_path = os.path.dirname(dir_path)\n",
    "\n",
    "if not feature_shape:\n",
    "    feature_shape = 512\n",
    "    \n",
    "if not features_dir:\n",
    "    features_dir = f'{parent_dir_path}/data_extraction/clip/CLIPv2_features'\n",
    "\n",
    "if not cpu_bin_name:\n",
    "    cpu_bin_name = 'faiss_clipv2_cosine_cpu.bin'\n",
    "    \n",
    "if not gpu_bin_name:\n",
    "    gpu_bin_name = 'faiss_clipv2_cosine_gpu.bin'"
   ]
  },
  {
   "cell_type": "code",
   "execution_count": null,
   "metadata": {},
   "outputs": [
    {
     "name": "stdout",
     "output_type": "stream",
     "text": [
      "Collecting faiss-gpu\n",
      "  Using cached faiss_gpu-1.7.2-cp39-cp39-manylinux_2_17_x86_64.manylinux2014_x86_64.whl (85.5 MB)\n",
      "Installing collected packages: faiss-gpu\n",
      "Successfully installed faiss-gpu-1.7.2\n",
      "\u001b[33mWARNING: There was an error checking the latest version of pip.\u001b[0m\u001b[33m\n",
      "\u001b[0m"
     ]
    }
   ],
   "source": [
    "! pip install faiss-gpu"
   ]
  },
  {
   "cell_type": "code",
   "execution_count": null,
   "metadata": {},
   "outputs": [],
   "source": [
    "import os\n",
    "import glob\n",
    "import faiss\n",
    "import numpy as np\n",
    "from tqdm import tqdm"
   ]
  },
  {
   "cell_type": "code",
   "execution_count": null,
   "metadata": {},
   "outputs": [
    {
     "name": "stdout",
     "output_type": "stream",
     "text": [
      "True\n"
     ]
    }
   ],
   "source": [
    "import torch\n",
    "print(torch.cuda.is_available())"
   ]
  },
  {
   "cell_type": "markdown",
   "metadata": {},
   "source": [
    "# Indexing"
   ]
  },
  {
   "cell_type": "code",
   "execution_count": null,
   "metadata": {},
   "outputs": [],
   "source": [
    "def create_faiss_indexes(cpu_bin_name, gpu_bin_name, features_dir, feature_shape):\n",
    "    \"\"\"\n",
    "    Create both CPU and GPU FAISS indexes if possible. If GPU is not available, create only CPU index.\n",
    "\n",
    "    Parameters:\n",
    "    - cpu_bin_name: Name of the output CPU FAISS index file\n",
    "    - gpu_bin_name: Name of the output GPU FAISS index file\n",
    "    - features_dir: Directory containing feature files\n",
    "    - feature_shape: Shape of each feature vector\n",
    "\n",
    "    Returns:\n",
    "    - None (saves the indexes to disk)\n",
    "    \"\"\"\n",
    "    feature_shape = validate_and_get_feature_shape(features_dir, feature_shape)\n",
    "    cpu_index, gpu_index, use_gpu = initialize_indexes(feature_shape)\n",
    "\n",
    "    process_feature_files(features_dir, cpu_index,\n",
    "                          gpu_index, use_gpu, feature_shape)\n",
    "\n",
    "    save_indexes(cpu_index, gpu_index, use_gpu, cpu_bin_name, gpu_bin_name)\n",
    "\n",
    "\n",
    "def validate_and_get_feature_shape(features_dir, expected_shape):\n",
    "    npy_files = list(glob.iglob(os.path.join(features_dir, '*', '*.npy')))\n",
    "    if not npy_files:\n",
    "        raise ValueError(f\"No .npy files found in {features_dir}\")\n",
    "\n",
    "    first_feature = np.load(npy_files[0])\n",
    "    actual_shape = first_feature.shape[1]\n",
    "\n",
    "    if actual_shape != expected_shape:\n",
    "        print(\n",
    "            f\"Warning: Actual feature dimension {actual_shape} doesn't match expected {expected_shape}\")\n",
    "        print(\n",
    "            f\"Using actual feature dimension {actual_shape} for index creation\")\n",
    "\n",
    "    return actual_shape\n",
    "\n",
    "\n",
    "def initialize_indexes(feature_shape):\n",
    "    cpu_index = faiss.IndexFlatIP(feature_shape)\n",
    "    gpu_index = None\n",
    "    use_gpu = False\n",
    "\n",
    "    try:\n",
    "        res = faiss.StandardGpuResources()\n",
    "        gpu_index = faiss.index_cpu_to_gpu(\n",
    "            res, 0, faiss.IndexFlatIP(feature_shape))\n",
    "        use_gpu = True\n",
    "        print(\"GPU index creation is available\")\n",
    "    except Exception as e:\n",
    "        print(f\"GPU index creation not available: {e}\")\n",
    "        print(\"Proceeding with CPU index only\")\n",
    "\n",
    "    return cpu_index, gpu_index, use_gpu\n",
    "\n",
    "\n",
    "def process_feature_files(features_dir, cpu_index, gpu_index, use_gpu, feature_shape):\n",
    "    for data_part in tqdm(sorted(os.listdir(features_dir)), desc=\"Processing data parts\"):\n",
    "        process_data_part(features_dir, data_part, cpu_index,\n",
    "                          gpu_index, use_gpu, feature_shape)\n",
    "\n",
    "\n",
    "def process_data_part(features_dir, data_part, cpu_index, gpu_index, use_gpu, feature_shape):\n",
    "    for feature_path in tqdm(sorted(glob.glob(os.path.join(features_dir, data_part, '*.npy'))),\n",
    "                             desc=f\"Processing {data_part}\"):\n",
    "        try:\n",
    "            feats = np.load(feature_path).astype(np.float32)\n",
    "            if feats.shape[1] != feature_shape:\n",
    "                print(\n",
    "                    f\"Warning: Feature dimension mismatch in {feature_path}. Skipping this file.\")\n",
    "                continue\n",
    "\n",
    "            cpu_index.add(feats)\n",
    "            if use_gpu:\n",
    "                gpu_index.add(feats)\n",
    "        except Exception as e:\n",
    "            print(f\"Error processing {feature_path}: {e}\")\n",
    "\n",
    "\n",
    "def save_indexes(cpu_index, gpu_index, use_gpu, cpu_bin_name, gpu_bin_name):\n",
    "    faiss.write_index(cpu_index, cpu_bin_name)\n",
    "    print(f\"CPU FAISS index saved to {cpu_bin_name}\")\n",
    "\n",
    "    if use_gpu:\n",
    "        gpu_index_cpu = faiss.index_gpu_to_cpu(gpu_index)\n",
    "        faiss.write_index(gpu_index_cpu, gpu_bin_name)\n",
    "        print(f\"GPU FAISS index saved to {gpu_bin_name}\")\n",
    "    else:\n",
    "        print(\"GPU index was not created due to unavailability of GPU resources\")\n",
    "        print(\"GPU index was not created due to unavailability of GPU resources\")"
   ]
  },
  {
   "cell_type": "code",
   "execution_count": null,
   "metadata": {},
   "outputs": [
    {
     "name": "stdout",
     "output_type": "stream",
     "text": [
      "Warning: Actual feature dimension 768 doesn't match expected 512\n",
      "Using actual feature dimension 768 for index creation\n",
      "GPU index creation is available\n"
     ]
    },
    {
     "name": "stderr",
     "output_type": "stream",
     "text": [
      "Processing L01: 100%|██████████| 31/31 [00:00<00:00, 69.90it/s]\n",
      "Processing data parts: 100%|██████████| 1/1 [00:00<00:00,  2.24it/s]\n"
     ]
    },
    {
     "name": "stderr",
     "output_type": "stream",
     "text": [
      "CPU FAISS index saved to faiss_clipv2_cosine_cpu.bin\n",
      "GPU FAISS index saved to faiss_clipv2_cosine_gpu.bin\n"
     ]
    }
   ],
   "source": [
    "create_faiss_indexes(cpu_bin_name, gpu_bin_name, features_dir, feature_shape)"
   ]
  }
 ],
 "metadata": {
  "kernelspec": {
   "display_name": "python3",
   "name": "python3"
  },
  "language_info": {
   "codemirror_mode": {
    "name": "ipython",
    "version": 3
   },
   "file_extension": ".py",
   "mimetype": "text/x-python",
   "name": "python",
   "nbconvert_exporter": "python",
   "pygments_lexer": "ipython3",
   "version": "3.9.19"
  }
 },
 "nbformat": 4,
 "nbformat_minor": 2
}
